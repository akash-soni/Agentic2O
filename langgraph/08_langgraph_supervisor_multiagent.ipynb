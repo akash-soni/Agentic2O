{
 "cells": [
  {
   "cell_type": "code",
   "execution_count": 1,
   "metadata": {},
   "outputs": [],
   "source": [
    "from dotenv import load_dotenv"
   ]
  },
  {
   "cell_type": "code",
   "execution_count": 2,
   "metadata": {},
   "outputs": [
    {
     "data": {
      "text/plain": [
       "True"
      ]
     },
     "execution_count": 2,
     "metadata": {},
     "output_type": "execute_result"
    }
   ],
   "source": [
    "load_dotenv()"
   ]
  },
  {
   "cell_type": "code",
   "execution_count": 3,
   "metadata": {},
   "outputs": [],
   "source": [
    "import os"
   ]
  },
  {
   "cell_type": "code",
   "execution_count": 4,
   "metadata": {},
   "outputs": [],
   "source": [
    "os.getenv(\"LANGCHAIN_PROJECT\")\n",
    "os.getenv(\"LANGCHAIN_API_KEY\")\n",
    "## Langsmith Tracking And Tracing\n",
    "os.environ[\"LANGCHAIN_API_KEY\"]=os.getenv(\"LANGCHAIN_API_KEY\")\n",
    "os.environ[\"LANGCHAIN_PROJECT\"]=os.getenv(\"LANGCHAIN_PROJECT\")\n",
    "os.environ[\"LANGCHAIN_TRACING_V2\"]=\"true\""
   ]
  },
  {
   "cell_type": "code",
   "execution_count": 3,
   "metadata": {},
   "outputs": [],
   "source": [
    "\n",
    "#os.environ[\"OPENAI_API_KEY\"]=os.getenv(\"OPENAI_API_KEY\")"
   ]
  },
  {
   "cell_type": "code",
   "execution_count": 5,
   "metadata": {},
   "outputs": [],
   "source": [
    "from langchain_openai import ChatOpenAI\n",
    "from langchain_groq import ChatGroq\n",
    "#llm = ChatOpenAI(model=\"gpt-4o\")\n",
    "llm=ChatGroq(model=\"deepseek-r1-distill-llama-70b\")"
   ]
  },
  {
   "cell_type": "code",
   "execution_count": 6,
   "metadata": {},
   "outputs": [
    {
     "data": {
      "text/plain": [
       "AIMessage(content=\"<think>\\n\\n</think>\\n\\nHello! I'm just a virtual assistant, so I don't have feelings, but I'm here and ready to help you with whatever you need. How are you doing? 😊\", additional_kwargs={}, response_metadata={'token_usage': {'completion_tokens': 42, 'prompt_tokens': 9, 'total_tokens': 51, 'completion_time': 0.194720861, 'prompt_time': 0.000602802, 'queue_time': 0.056507718, 'total_time': 0.195323663}, 'model_name': 'deepseek-r1-distill-llama-70b', 'system_fingerprint': 'fp_1bbe7845ec', 'finish_reason': 'stop', 'logprobs': None}, id='run--6a39781d-bb49-43b1-9de5-03eee41bf4bf-0', usage_metadata={'input_tokens': 9, 'output_tokens': 42, 'total_tokens': 51})"
      ]
     },
     "execution_count": 6,
     "metadata": {},
     "output_type": "execute_result"
    }
   ],
   "source": [
    "llm.invoke(\"hi hello how are you?\")"
   ]
  },
  {
   "cell_type": "code",
   "execution_count": 7,
   "metadata": {},
   "outputs": [
    {
     "name": "stdout",
     "output_type": "stream",
     "text": [
      "<think>\n",
      "\n",
      "</think>\n",
      "\n",
      "The capital of France is Paris.\n"
     ]
    }
   ],
   "source": [
    "print(llm.invoke(\"What is the capital of France?\").content)"
   ]
  },
  {
   "cell_type": "code",
   "execution_count": 8,
   "metadata": {},
   "outputs": [],
   "source": [
    "import os\n",
    "from langchain_community.tools.tavily_search import TavilySearchResults\n",
    "TAVILY_API_KEY=os.getenv(\"TAVILY_API_KEY\")\n",
    "search_tool=TavilySearchResults(tavily_api_key=TAVILY_API_KEY)"
   ]
  },
  {
   "cell_type": "code",
   "execution_count": 9,
   "metadata": {},
   "outputs": [
    {
     "data": {
      "text/plain": [
       "[{'title': 'Paris facts: the capital of France in history',\n",
       "  'url': 'https://home.adelphi.edu/~ca19535/page%204.html',\n",
       "  'content': 'page 4\\n\\n===============\\n\\nHomeSpainSydneySan FranciscoParisLas VegasMaui\\n\\n Paris, France\\n\\nImage 1\\n\\nParis facts: Paris, the capital of France\\n---------------------------------------------\\n\\nParis is the capital of France, the largest country of Europe with 550 000 km2 (65 millions inhabitants).\\n\\nParis has 2.234 million inhabitants end 2011. She is the core of Ile de France region (12 million people). [...] Before Paris, the capital of France was Lyon (under the Romans). Paris first became the capital of France in 508 under King Clovis. After centuries with no unique capital of France, Paris retrieved its status of capital of France under King Philippe Auguste, who reigned between 1180 and 1223. You can see remains of the Philippe August Paris walls in the passageway between the Louvre parking and Louvre Museum [...] Paris remained the capital of France until today, with one four year interruption. During German occupation (WW2 , 1940-1944), the capital of France was Vichy.\\n\\ngo to top\\n\\nReference:',\n",
       "  'score': 0.89166987},\n",
       " {'title': 'Paris - Simple English Wikipedia, the free encyclopedia',\n",
       "  'url': 'https://simple.wikipedia.org/wiki/Paris',\n",
       "  'content': 'Wikipedia\\n\\n# Paris\\n\\nParis (nicknamed the \"City of light\") is the capital city \"Capital (city)\") of France, and the largest city in France. The area is 105 square kilometres (41 square miles), and around 2.15 million people live there. If suburbs are counted, the population of the Paris area rises to 10.7 million people. It is the most densely populated city in the European Union, with 20.653 people per square kilometer.',\n",
       "  'score': 0.88372874},\n",
       " {'title': 'Paris - Wikipedia',\n",
       "  'url': 'https://en.wikipedia.org/wiki/Paris',\n",
       "  'content': 'As the capital of France, Paris is the seat of France\\'s national government. For the executive, the two chief officers each have their own official residences, which also serve as their offices. The President of the French Republic resides at the Élysée Palace.( The Prime Minister\\'s seat is at the Hôtel Matignon.( Government ministries are located in various parts of the city, many near the Hôtel Matignon.( [...] Appearance\\n\\nmove to sidebar hide\\n\\nCoordinates: 48°51′24″N 2°21′8″E / 48.85667°N 2.35222°E / 48.85667; 2.35222_region:FR-75C)\\n\\nImage 4: This is a good article. Click here for more information.\\n\\nImage 5: Page semi-protected\\n\\nFrom Wikipedia, the free encyclopedia\\n\\nCapital and largest city of France\\n\\nThis article is about the capital city of France. For other uses, see Paris (disambiguation) \"Paris (disambiguation)\"). [...] Paris (French pronunciation:( \"Help:IPA/French\")ⓘ) is the capital and largest city of France. With an estimated population of 2,048,472 residents in January 2025( in an area of more than 105 km 2 (41 sq mi),( Paris is the fourth-most populous city in the European Union and the 30th most densely populated city in the world in 2022.( Since the 17th century, Paris has been one of the world\\'s major centres of finance, diplomacy, commerce, culture, fashion, and gastronomy. Because of its leading',\n",
       "  'score': 0.8815438},\n",
       " {'title': 'What is the Capital of France? - WorldAtlas',\n",
       "  'url': 'https://www.worldatlas.com/articles/what-is-the-capital-of-france.html',\n",
       "  'content': 'Paris is the capital city of France. The city has an approximate area of 41 square miles with a population of 2,206,488 people as of 2018. Contrary to popular belief, the name of the city did not come from the Paris in Greek myths. Instead, the name Paris is derived from the city’s initial inhabitants who were part of the Celtic Parisii tribe. Sometimes, the city is called the City of Light for two reasons; it was among the first cities to adopt gas for lighting the streets and its role during [...] Published Time: 2018-06-29T15:23:00-04:00\\n\\nWhat is the Capital of France? - WorldAtlas\\n\\n===============\\n\\nWhat is the Capital of France?\\n==============================\\n\\nImage 1: Tourism has always been a major source of income for Paris. \\n\\nTourism has always been a major source of income for Paris. [...] As the capital city of France, the city plays host to the national government of France. Even the official residence of the president is in the city at the Élysée Palace while the Prime Minister is housed at the Hôtel Matignon. The Senate or the upper house meets at the Palais du Luxembourg while the Palais Bourbon is the meeting point for the Assemblée Nationale. The second highest public official after the President of France, the President of the Senate, stays at the Petit Luxembourg.',\n",
       "  'score': 0.87807417},\n",
       " {'title': 'Paris - Wikiwand',\n",
       "  'url': 'https://www.wikiwand.com/en/articles/Paris',\n",
       "  'content': 'As the capital of France, Paris is the seat of France\\'s national government. For the executive, the two chief officers each have their own official residences, which also serve as their offices. The President of the French Republic resides at the Élysée Palace.(./Paris#cite_note-121) The Prime Minister\\'s seat is at the Hôtel Matignon.(./Paris#cite_note-122)(./Paris#cite_note-FOOTNOTEKnappWright200693–94-123) Government ministries are located in various parts of the city, many near the Hôtel [...] Paris (French pronunciation: ( \"Help:IPA/French\") ⓘ) is the capital and largest city of France. With an estimated population of 2,048,472 residents in January 2025(./Paris#cite_note-pop2025-3) in an area of more than 105 km2 (41 sq mi),(./Paris#cite_note-pop2019-4) Paris is the fourth-most populous city in the European Union and the 30th most densely populated city in the world in 2022.(./Paris#cite_note-5) Since the 17th century, Paris has been one of the world\\'s major centres of finance, [...] With 200,000 inhabitants in 1328, Paris, then already the capital of France, was the most populous city of Europe. By comparison, London in 1300 had 80,000 inhabitants.(./Paris#cite_note-ParisDigest-39) By the early fourteenth century, so much filth had collected inside urban Europe that French and Italian cities were naming streets after human waste. In medieval Paris, several street names were inspired by merde, the French word for \"shit\".(./Paris#cite_note-40)\\n\\nThumb',\n",
       "  'score': 0.875031}]"
      ]
     },
     "execution_count": 9,
     "metadata": {},
     "output_type": "execute_result"
    }
   ],
   "source": [
    "search_tool.invoke(\"What is the capital of France?\")"
   ]
  },
  {
   "cell_type": "code",
   "execution_count": 10,
   "metadata": {},
   "outputs": [],
   "source": [
    "from langgraph.types import Command"
   ]
  },
  {
   "cell_type": "code",
   "execution_count": null,
   "metadata": {},
   "outputs": [],
   "source": []
  },
  {
   "cell_type": "code",
   "execution_count": 12,
   "metadata": {},
   "outputs": [],
   "source": [
    "from langchain_experimental.utilities import PythonREPL"
   ]
  },
  {
   "cell_type": "code",
   "execution_count": 13,
   "metadata": {},
   "outputs": [],
   "source": [
    "repl=PythonREPL()"
   ]
  },
  {
   "cell_type": "code",
   "execution_count": 14,
   "metadata": {},
   "outputs": [],
   "source": [
    "code = \"\"\"\n",
    "x = 5\n",
    "y = x * 2\n",
    "print(y)\n",
    "\"\"\""
   ]
  },
  {
   "cell_type": "code",
   "execution_count": 15,
   "metadata": {},
   "outputs": [
    {
     "name": "stderr",
     "output_type": "stream",
     "text": [
      "Python REPL can execute arbitrary code. Use with caution.\n"
     ]
    },
    {
     "data": {
      "text/plain": [
       "'10\\n'"
      ]
     },
     "execution_count": 15,
     "metadata": {},
     "output_type": "execute_result"
    }
   ],
   "source": [
    "repl.run(code)"
   ]
  },
  {
   "cell_type": "code",
   "execution_count": 14,
   "metadata": {},
   "outputs": [],
   "source": []
  },
  {
   "cell_type": "code",
   "execution_count": 16,
   "metadata": {},
   "outputs": [],
   "source": [
    "from typing import Annotated\n",
    "from langchain_core.tools import tool\n",
    "@tool\n",
    "def python_repl_tool(\n",
    "    code: Annotated[str, \"The python code to execute to generate your chart.\"],\n",
    "):\n",
    "    \"\"\"Use this to execute python code. If you want to see the output of a value,\n",
    "    you should print it out with `print(...)`. This is visible to the user.\"\"\"\n",
    "    \n",
    "    try:\n",
    "        result = repl.run(code)\n",
    "    except BaseException as e:\n",
    "        return f\"Failed to execute. Error: {repr(e)}\"\n",
    "    \n",
    "    result_str = f\"Successfully executed:\\n\\`\\`\\`python\\n{code}\\n\\`\\`\\`\\nStdout: {result}\"\n",
    "    return (\n",
    "        result_str + \"\\n\\nIf you have completed all tasks, respond with FINAL ANSWER.\"\n",
    "    )\n",
    "    "
   ]
  },
  {
   "cell_type": "code",
   "execution_count": 17,
   "metadata": {},
   "outputs": [
    {
     "data": {
      "text/plain": [
       "StructuredTool(name='python_repl_tool', description='Use this to execute python code. If you want to see the output of a value,\\n    you should print it out with `print(...)`. This is visible to the user.', args_schema=<class 'langchain_core.utils.pydantic.python_repl_tool'>, func=<function python_repl_tool at 0x0000025255B00900>)"
      ]
     },
     "execution_count": 17,
     "metadata": {},
     "output_type": "execute_result"
    }
   ],
   "source": [
    "python_repl_tool"
   ]
  },
  {
   "cell_type": "code",
   "execution_count": 18,
   "metadata": {},
   "outputs": [
    {
     "name": "stdout",
     "output_type": "stream",
     "text": [
      "Successfully executed:\n",
      "\\`\\`\\`python\n",
      "\n",
      "x = 5\n",
      "y = x * 2\n",
      "print(y)\n",
      "\n",
      "\\`\\`\\`\n",
      "Stdout: 10\n",
      "\n",
      "\n",
      "If you have completed all tasks, respond with FINAL ANSWER.\n"
     ]
    }
   ],
   "source": [
    "print(python_repl_tool.invoke(code))"
   ]
  },
  {
   "cell_type": "markdown",
   "metadata": {},
   "source": [
    "till now have 2 tools:\n",
    "- search_tool: for web searching\n",
    "- python_repl_tool : for running python code"
   ]
  },
  {
   "cell_type": "markdown",
   "metadata": {},
   "source": [
    "list of members\n"
   ]
  },
  {
   "cell_type": "markdown",
   "metadata": {},
   "source": []
  },
  {
   "cell_type": "code",
   "execution_count": 19,
   "metadata": {},
   "outputs": [],
   "source": [
    "members=[\"researcher\",\"coder\"]\n"
   ]
  },
  {
   "cell_type": "code",
   "execution_count": 20,
   "metadata": {},
   "outputs": [
    {
     "data": {
      "text/plain": [
       "['researcher', 'coder']"
      ]
     },
     "execution_count": 20,
     "metadata": {},
     "output_type": "execute_result"
    }
   ],
   "source": [
    "members"
   ]
  },
  {
   "cell_type": "code",
   "execution_count": 21,
   "metadata": {},
   "outputs": [],
   "source": [
    "options = members+[\"FINISH\"]"
   ]
  },
  {
   "cell_type": "code",
   "execution_count": 22,
   "metadata": {},
   "outputs": [
    {
     "data": {
      "text/plain": [
       "['researcher', 'coder', 'FINISH']"
      ]
     },
     "execution_count": 22,
     "metadata": {},
     "output_type": "execute_result"
    }
   ],
   "source": [
    "options"
   ]
  },
  {
   "cell_type": "code",
   "execution_count": 23,
   "metadata": {},
   "outputs": [],
   "source": [
    "from typing import Literal\n",
    "from typing_extensions import TypedDict"
   ]
  },
  {
   "cell_type": "code",
   "execution_count": 24,
   "metadata": {},
   "outputs": [],
   "source": [
    "class Router(TypedDict):\n",
    "    next: Literal['researcher', 'coder', 'FINISH']"
   ]
  },
  {
   "cell_type": "code",
   "execution_count": 25,
   "metadata": {},
   "outputs": [],
   "source": [
    "from langgraph.graph import MessagesState,StateGraph,START, END"
   ]
  },
  {
   "cell_type": "code",
   "execution_count": 26,
   "metadata": {},
   "outputs": [],
   "source": [
    "class State(MessagesState):\n",
    "    next:str"
   ]
  },
  {
   "cell_type": "code",
   "execution_count": 27,
   "metadata": {},
   "outputs": [],
   "source": [
    "system_prompt = f\"\"\"\"\n",
    "You are a supervisor, tasked with managing a conversation between the following workers: {members}. \n",
    "Given the following user request, respond with the worker to act next. \n",
    "Each worker will perform a task and respond with their results and status. \n",
    "When finished, respond with FINISH.\n",
    "\"\"\""
   ]
  },
  {
   "cell_type": "code",
   "execution_count": 28,
   "metadata": {},
   "outputs": [
    {
     "data": {
      "text/plain": [
       "'\"\\nYou are a supervisor, tasked with managing a conversation between the following workers: [\\'researcher\\', \\'coder\\']. \\nGiven the following user request, respond with the worker to act next. \\nEach worker will perform a task and respond with their results and status. \\nWhen finished, respond with FINISH.\\n'"
      ]
     },
     "execution_count": 28,
     "metadata": {},
     "output_type": "execute_result"
    }
   ],
   "source": [
    "system_prompt"
   ]
  },
  {
   "cell_type": "code",
   "execution_count": 29,
   "metadata": {},
   "outputs": [
    {
     "name": "stdout",
     "output_type": "stream",
     "text": [
      "\"\n",
      "You are a supervisor, tasked with managing a conversation between the following workers: ['researcher', 'coder']. \n",
      "Given the following user request, respond with the worker to act next. \n",
      "Each worker will perform a task and respond with their results and status. \n",
      "When finished, respond with FINISH.\n",
      "\n"
     ]
    }
   ],
   "source": [
    "print('\"\\nYou are a supervisor, tasked with managing a conversation between the following workers: [\\'researcher\\', \\'coder\\']. \\nGiven the following user request, respond with the worker to act next. \\nEach worker will perform a task and respond with their results and status. \\nWhen finished, respond with FINISH.\\n')"
   ]
  },
  {
   "cell_type": "markdown",
   "metadata": {},
   "source": [
    "creating Agents"
   ]
  },
  {
   "cell_type": "code",
   "execution_count": 30,
   "metadata": {},
   "outputs": [],
   "source": [
    "def supervisor_agent(state:State)->Command[Literal['researcher', 'coder', '__end__']]:\n",
    "    \n",
    "    messages = [{\"role\": \"system\", \"content\": system_prompt},] + state[\"messages\"]\n",
    "    \n",
    "    llm_with_structure_output=llm.with_structured_output(Router)\n",
    "    \n",
    "    response=llm_with_structure_output.invoke(messages)\n",
    "    \n",
    "    #this is my next worker agent\n",
    "    goto=response[\"next\"]\n",
    "    \n",
    "    print(\"**********BELOW IS MY GOTO***************\")\n",
    "    \n",
    "    print(goto)\n",
    "    \n",
    "    if goto == \"FINISH\":\n",
    "        goto=END\n",
    "        \n",
    "    return Command(goto=goto, update={\"next\":goto})"
   ]
  },
  {
   "cell_type": "code",
   "execution_count": 39,
   "metadata": {},
   "outputs": [],
   "source": [
    "from langgraph.prebuilt import create_react_agent\n",
    "from langchain_core.messages import AIMessage, HumanMessage"
   ]
  },
  {
   "cell_type": "code",
   "execution_count": 32,
   "metadata": {},
   "outputs": [],
   "source": [
    "def research_agent(state: State) -> Command[Literal[\"supervisor\"]]:\n",
    "    \n",
    "    research_agent = create_react_agent(llm, tools=[search_tool], prompt=\"You are a researcher. DO NOT do any math.\")\n",
    "    \n",
    "    result=research_agent.invoke(state)\n",
    "    \n",
    "    return Command(\n",
    "        update={\n",
    "            \"messages\": [\n",
    "                HumanMessage(content=result[\"messages\"][-1].content, name=\"researcher\")\n",
    "            ]\n",
    "        },\n",
    "        goto=\"supervisor\",\n",
    "    )\n",
    "    "
   ]
  },
  {
   "cell_type": "code",
   "execution_count": 33,
   "metadata": {},
   "outputs": [],
   "source": [
    "def coder_agent(state:State)->Command[Literal['supervisor']]:\n",
    "    code_agent=create_react_agent(llm,tools=[python_repl_tool], prompt=\"You are a coder. DO NOT do any research.\")\n",
    "    result=code_agent.invoke(state)\n",
    "    \n",
    "    return Command(\n",
    "        update={\n",
    "            \"messages\": [\n",
    "                HumanMessage(content=result[\"messages\"][-1].content, name=\"coder\")\n",
    "            ]\n",
    "        },\n",
    "        goto=\"supervisor\",\n",
    "    )\n",
    "    "
   ]
  },
  {
   "cell_type": "markdown",
   "metadata": {},
   "source": [
    "this is my orchestration flow with langgraph"
   ]
  },
  {
   "cell_type": "code",
   "execution_count": 34,
   "metadata": {},
   "outputs": [
    {
     "data": {
      "text/plain": [
       "<langgraph.graph.state.StateGraph at 0x25255c7a990>"
      ]
     },
     "execution_count": 34,
     "metadata": {},
     "output_type": "execute_result"
    }
   ],
   "source": [
    "graph=StateGraph(State)\n",
    "graph.add_node(\"supervisor\", supervisor_agent)\n",
    "graph.add_node(\"researcher\", research_agent)\n",
    "graph.add_node(\"coder\", coder_agent)\n",
    "\n",
    "graph.add_edge(START, \"supervisor\")"
   ]
  },
  {
   "cell_type": "code",
   "execution_count": 35,
   "metadata": {},
   "outputs": [],
   "source": [
    "app=graph.compile()"
   ]
  },
  {
   "cell_type": "code",
   "execution_count": 36,
   "metadata": {},
   "outputs": [
    {
     "data": {
      "image/png": "[encoded data removed]",
      "text/plain": [
       "<langgraph.graph.state.CompiledStateGraph object at 0x0000025255C7B010>"
      ]
     },
     "execution_count": 36,
     "metadata": {},
     "output_type": "execute_result"
    }
   ],
   "source": [
    "app"
   ]
  },
  {
   "cell_type": "code",
   "execution_count": 37,
   "metadata": {},
   "outputs": [
    {
     "data": {
      "image/png": "[encoded data removed]",
      "text/plain": [
       "<IPython.core.display.Image object>"
      ]
     },
     "metadata": {},
     "output_type": "display_data"
    }
   ],
   "source": [
    "from IPython.display import display,Image\n",
    "display(Image(app.get_graph().draw_mermaid_png()))"
   ]
  },
  {
   "cell_type": "code",
   "execution_count": 40,
   "metadata": {},
   "outputs": [
    {
     "name": "stdout",
     "output_type": "stream",
     "text": [
      "**********BELOW IS MY GOTO***************\n",
      "researcher\n",
      "((), {'supervisor': {'next': 'researcher'}})\n",
      "**********BELOW IS MY STATE***************\n",
      "(('researcher:88b0f12c-fc5e-dffb-bc6c-741605445241',), {'agent': {'messages': [AIMessage(content='The square root of 42 is approximately 6.4807. \\n\\nHere\\'s a Python code snippet to calculate and print the square root of 42:\\n\\n```python\\nimport math\\n\\nsquare_root = math.sqrt(42)\\nprint(\"The square root of 42 is:\", square_root)\\n```\\n\\nThis code imports the math module, calculates the square root using `math.sqrt()`, and then prints the result.', additional_kwargs={}, response_metadata={'token_usage': {'completion_tokens': 360, 'prompt_tokens': 186, 'total_tokens': 546, 'completion_time': 1.336115752, 'prompt_time': 0.013398231, 'queue_time': 0.060294402, 'total_time': 1.349513983}, 'model_name': 'deepseek-r1-distill-llama-70b', 'system_fingerprint': 'fp_1bbe7845ec', 'finish_reason': 'stop', 'logprobs': None}, id='run--dd3e4941-5eb8-4438-a84a-d820a93d3e5b-0', usage_metadata={'input_tokens': 186, 'output_tokens': 360, 'total_tokens': 546})]}})\n",
      "**********BELOW IS MY STATE***************\n",
      "((), {'researcher': {'messages': [HumanMessage(content='The square root of 42 is approximately 6.4807. \\n\\nHere\\'s a Python code snippet to calculate and print the square root of 42:\\n\\n```python\\nimport math\\n\\nsquare_root = math.sqrt(42)\\nprint(\"The square root of 42 is:\", square_root)\\n```\\n\\nThis code imports the math module, calculates the square root using `math.sqrt()`, and then prints the result.', additional_kwargs={}, response_metadata={}, name='researcher')]}})\n",
      "**********BELOW IS MY STATE***************\n",
      "**********BELOW IS MY GOTO***************\n",
      "researcher\n",
      "((), {'supervisor': {'next': 'researcher'}})\n",
      "**********BELOW IS MY STATE***************\n",
      "(('researcher:1979be21-daf5-1c7a-a710-9769bf3d6b47',), {'agent': {'messages': [AIMessage(content='\\n\\nTo find the square root of 42 and write a Python code for it, follow these steps:\\n\\n1. **Understanding the Problem**: The square root of a number is a value that, when multiplied by itself, gives the original number. For 42, we need to find a number that, when squared, equals 42.\\n\\n2. **Mathematical Calculation**: The square root of 42 is an irrational number, meaning it cannot be expressed exactly as a simple fraction and its decimal representation never ends. However, we can approximate it numerically.\\n\\n3. **Approximation**: Using a calculator or a mathematical function, we find that the square root of 42 is approximately 6.4807.\\n\\n4. **Writing Python Code**: To calculate the square root of 42 in Python, you can use the `math.sqrt()` function from the math module.\\n\\nHere\\'s the Python code:\\n\\n```python\\nimport math\\n\\nsquare_root = math.sqrt(42)\\nprint(\"The square root of 42 is:\", square_root)\\n```\\n\\n**Explanation of the Code**:\\n- **Importing the Math Module**: The `math` module provides access to mathematical functions, including `sqrt()` for square roots.\\n- **Calculating the Square Root**: `math.sqrt(42)` computes the square root of 42.\\n- **Printing the Result**: The result is stored in the variable `square_root` and then printed to the console.\\n\\n**Example Output**:\\n```\\nThe square root of 42 is: 6.480740698407857\\n```\\n\\nThis code accurately computes and displays the square root of 42 using Python\\'s built-in mathematical functions.', additional_kwargs={}, response_metadata={'token_usage': {'completion_tokens': 338, 'prompt_tokens': 271, 'total_tokens': 609, 'completion_time': 1.229090909, 'prompt_time': 0.033716873, 'queue_time': 0.056403686, 'total_time': 1.2628077819999999}, 'model_name': 'deepseek-r1-distill-llama-70b', 'system_fingerprint': 'fp_1bbe7845ec', 'finish_reason': 'stop', 'logprobs': None}, id='run--9a54812b-2852-4891-af9b-873ec91532ae-0', usage_metadata={'input_tokens': 271, 'output_tokens': 338, 'total_tokens': 609})]}})\n",
      "**********BELOW IS MY STATE***************\n",
      "((), {'researcher': {'messages': [HumanMessage(content='\\n\\nTo find the square root of 42 and write a Python code for it, follow these steps:\\n\\n1. **Understanding the Problem**: The square root of a number is a value that, when multiplied by itself, gives the original number. For 42, we need to find a number that, when squared, equals 42.\\n\\n2. **Mathematical Calculation**: The square root of 42 is an irrational number, meaning it cannot be expressed exactly as a simple fraction and its decimal representation never ends. However, we can approximate it numerically.\\n\\n3. **Approximation**: Using a calculator or a mathematical function, we find that the square root of 42 is approximately 6.4807.\\n\\n4. **Writing Python Code**: To calculate the square root of 42 in Python, you can use the `math.sqrt()` function from the math module.\\n\\nHere\\'s the Python code:\\n\\n```python\\nimport math\\n\\nsquare_root = math.sqrt(42)\\nprint(\"The square root of 42 is:\", square_root)\\n```\\n\\n**Explanation of the Code**:\\n- **Importing the Math Module**: The `math` module provides access to mathematical functions, including `sqrt()` for square roots.\\n- **Calculating the Square Root**: `math.sqrt(42)` computes the square root of 42.\\n- **Printing the Result**: The result is stored in the variable `square_root` and then printed to the console.\\n\\n**Example Output**:\\n```\\nThe square root of 42 is: 6.480740698407857\\n```\\n\\nThis code accurately computes and displays the square root of 42 using Python\\'s built-in mathematical functions.', additional_kwargs={}, response_metadata={}, name='researcher')]}})\n",
      "**********BELOW IS MY STATE***************\n",
      "**********BELOW IS MY GOTO***************\n",
      "researcher\n",
      "((), {'supervisor': {'next': 'researcher'}})\n",
      "**********BELOW IS MY STATE***************\n",
      "(('researcher:d53cc47a-c7c3-ae8b-73b4-81bd277a314d',), {'agent': {'messages': [AIMessage(content='\\n\\nThe square root of 42 is approximately 6.4807. \\n\\nHere\\'s a Python code snippet to calculate and print the square root of 42:\\n\\n```python\\nimport math\\n\\nsquare_root = math.sqrt(42)\\nprint(\"The square root of 42 is:\", square_root)\\n```\\n\\nThis code imports the math module, calculates the square root using `math.sqrt()`, and then prints the result.', additional_kwargs={}, response_metadata={'token_usage': {'completion_tokens': 86, 'prompt_tokens': 609, 'total_tokens': 695, 'completion_time': 0.312727273, 'prompt_time': 0.04957154, 'queue_time': 0.057011752, 'total_time': 0.362298813}, 'model_name': 'deepseek-r1-distill-llama-70b', 'system_fingerprint': 'fp_1bbe7845ec', 'finish_reason': 'stop', 'logprobs': None}, id='run--3a2f701d-4e07-4102-828a-50e39b561e46-0', usage_metadata={'input_tokens': 609, 'output_tokens': 86, 'total_tokens': 695})]}})\n",
      "**********BELOW IS MY STATE***************\n",
      "((), {'researcher': {'messages': [HumanMessage(content='\\n\\nThe square root of 42 is approximately 6.4807. \\n\\nHere\\'s a Python code snippet to calculate and print the square root of 42:\\n\\n```python\\nimport math\\n\\nsquare_root = math.sqrt(42)\\nprint(\"The square root of 42 is:\", square_root)\\n```\\n\\nThis code imports the math module, calculates the square root using `math.sqrt()`, and then prints the result.', additional_kwargs={}, response_metadata={}, name='researcher')]}})\n",
      "**********BELOW IS MY STATE***************\n",
      "**********BELOW IS MY GOTO***************\n",
      "researcher\n",
      "((), {'supervisor': {'next': 'researcher'}})\n",
      "**********BELOW IS MY STATE***************\n",
      "(('researcher:595d342a-78ea-24c6-dd29-2a6c0f9b467c',), {'agent': {'messages': [AIMessage(content='', additional_kwargs={'tool_calls': [{'id': 'p54wrf8gq', 'function': {'arguments': '{\"query\":\"square root of 42 and how to write a python code\"}', 'name': 'tavily_search_results_json'}, 'type': 'function'}]}, response_metadata={'token_usage': {'completion_tokens': 40, 'prompt_tokens': 695, 'total_tokens': 735, 'completion_time': 0.145454545, 'prompt_time': 0.055703074, 'queue_time': 0.055259206, 'total_time': 0.201157619}, 'model_name': 'deepseek-r1-distill-llama-70b', 'system_fingerprint': 'fp_1bbe7845ec', 'finish_reason': 'tool_calls', 'logprobs': None}, id='run--dd84e148-a4d9-4646-8276-62c1d95baa90-0', tool_calls=[{'name': 'tavily_search_results_json', 'args': {'query': 'square root of 42 and how to write a python code'}, 'id': 'p54wrf8gq', 'type': 'tool_call'}], usage_metadata={'input_tokens': 695, 'output_tokens': 40, 'total_tokens': 735})]}})\n",
      "**********BELOW IS MY STATE***************\n",
      "(('researcher:595d342a-78ea-24c6-dd29-2a6c0f9b467c',), {'tools': {'messages': [ToolMessage(content='[{\"title\": \"What is the square root of 42? - Quora\", \"url\": \"https://www.quora.com/What-is-the-square-root-of-42\", \"content\": \"Originally Answered: what is the square root of 42? ·\\\\n\\\\nYou can try newton’s method, it converges super fast for simple functions.\\\\n\\\\nf(x)\\\\\\\\=x2−42f(x)\\\\\\\\=x2−42\\\\n\\\\nf′(x)\\\\\\\\=2xf′(x)\\\\\\\\=2x\\\\n\\\\nxn+1\\\\\\\\=xn−f(xn)f′(xn)xn+1\\\\\\\\=xn−f(xn)f′(xn)\\\\n\\\\nx0 = 10\\\\n\\\\nx1 = 7.10\\\\n\\\\nx2 = 6.50774647887\\\\n\\\\nx3 = 6.48079673257\\\\n\\\\nx4 = 6.48074069865\\\\n\\\\nx5 = 6.48074069841\\\\n\\\\n…. (I think the answer is close enough. You can do more if you want)\\\\n\\\\nUpvote ·\\\\n\\\\nImage 11: Profile photo for Emma Walton\\\\n\\\\nEmma Walton\\\\n\\\\nLives in The United States of America\\\\n\\\\n · 7y [...] √26\\\\\\\\=626\\\\\\\\=6 helps to find the square root of 42 using Heron’s (iteration) method:\\\\n\\\\nx1\\\\\\\\=12⋅(6+426)\\\\\\\\=6.5x1\\\\\\\\=12⋅(6+426)\\\\\\\\=6.5\\\\n\\\\nThis squared is 42.25 and not close enough to 42. But 6.5 will bring us closer to it:\\\\n\\\\nx2\\\\\\\\=12⋅(6.5+426.5)≈x2\\\\\\\\=12⋅(6.5+426.5)≈\\\\n\\\\n6.48076923076923076923076923076926.4807692307692307692307692307692\\\\n\\\\nwhich squared is 42.00036982248520710059171597633142.000369822485207100591715976331 and much closer to the radicand 42.\\\\n\\\\nUpvote ·\\\\n\\\\nImage 13: Profile photo for Nathaniel Day [...] Double the approximate root we got that is 9, 9 x 2=18.\\\\n\\\\nNow the formula is 9 + 4/18=9 + 0.22=9.22.\\\\n\\\\nResult from the calculator is\\\\n\\\\nContinue Reading\\\\n\\\\nFor approximating the square root of 42.\\\\n\\\\nFirst we can say it is 6 along with some decimals. Because 42 is in between 36 and 49 or 6^2 and 7^2.\\\\n\\\\nFind 42 – 6^2=42 - 36=6.\\\\n\\\\nDouble the approximate root we got that is 6, 6 x 2=12.\\\\n\\\\nNow the formula is 6 + 6/12=6 + 0.5=6.5.\\\\n\\\\nResult from the calculator is 6.48. Just 0.02 off.\", \"score\": 0.6947383}, {\"title\": \"Square Root of 42 - BYJU\\'S\", \"url\": \"https://byjus.com/maths/square-root-of-42/\", \"content\": \"Step 1: Write the number 42 in decimal form. To find the exact value of the square root of 42, add 6 zeros after the decimal point. Hence, 42 in decimal form is 42.000000. Now, pair the number 42 from right to left by putting the bar on the top of the number.\\\\n\\\\nStep 2: Now, divide the number 42 by a number, such that the product of the same number should be less than or equal to 42. Thus, 6×6 =36, which is less than 42. Thus, we obtained the quotient = 6 and remainder = 6. [...] Table of Contents:\\\\n\\\\n## What is the Square Root of 42?\\\\n\\\\nIf a number is multiplied by itself and gives the result as 42, then the number is the square root 42. The square root of 42 is symbolically expressed as √42.\\\\n\\\\nHence, √42 = √(Number × Number)\\\\n\\\\nThus, if we multiply the number 6.4807 two times, we get the original value 42.\\\\n\\\\n(i.e) √42 = √(6.4807× 6.4807)\\\\n\\\\n√42 = √(6.4807)2\\\\n\\\\nNow, remove square and square root, we get\\\\n\\\\n√42 = ± 6.4807 (or)\\\\n\\\\n√42 = ± 6.481 (Rounded to three decimal places) [...] | Square Root of 42 in Radical Form: √42. |\\\\n| --- |\\\\n\\\\n## Square Root of 42 by Prime Factorization Method\\\\n\\\\nTo find the square root of 42 using the prime factorization method, we need to know the prime factors of 42. The prime factors of 42 are 2, 3 and 7 and the prime factorization of 42 is 2× 3×7.\\\\n\\\\nThus, √42 = √2. √3.√7\\\\n\\\\nWe know that,\\\\n\\\\n√2 = 1.414\\\\n\\\\n√3 = 1.732\\\\n\\\\n√7 = 2.646\\\\n\\\\nNow, substitute the values of √2, √3 and √7 in the above equation.\\\\n\\\\n√42 = 1.414 × 1.732 × 2.646\\\\n\\\\n√42 = 6.481 (approximately)\", \"score\": 0.6737291}, {\"title\": \"[FREE] Express the square root of 42 in radical form. - brainly.com\", \"url\": \"https://brainly.com/question/24495266\", \"content\": \"Community Answer\\\\n    \\\\n    2\\\\n    \\\\n    Click an Item in the list or group of pictures at the bottom of the problem and, holding the button down, drag it into the correct position in the answer box. Release your mouse button when the item is place. If you change your mind, drag the item to the trashcan. Click the trashcan to clear all your answers. Express In simplified exponential notation. 18a^3b^2/ 2ab [...] Since there is no perfect square factor other than 1 in 42, the square root of 42 in radical form remains √42.\\\\n\\\\nThe process of simplifying square roots involves finding the prime factors and then simplifying them by extracting square roots of perfect squares if possible. For example, √49 can be broken down into √(7²) which simplifies to 7 because 7 is a perfect square. But in the case of 42, which is 2×3×7, there are no perfect squares to extract, so it remains as it is. [...] The square root of 42 in radical form is written as 42\\u200b. It cannot be simplified further because it has no perfect square factors other than 1. Thus, 42\\u200b is already in its simplest form.\\\\n\\\\nExplanation\\\\n-----------\\\\n\\\\nTo express the square root of 42 in radical form, we write it as follows:\\\\n\\\\n42\\u200b\\\\n\\\\nThe number 42 cannot be simplified further because it does not have any perfect square factors other than 1. This means that 42\\u200b is already in its simplest radical form.\", \"score\": 0.575517}, {\"title\": \"Square Root of 42 | How to Find the Value of √42 - BrightChamps\", \"url\": \"https://brightchamps.com/en-us/math/algebra/square-root-of-42\", \"content\": \"To find the square root, we need to find the sum of (36 + 6). 36 + 6 = 42, and then √42 = approximately 6.48.\", \"score\": 0.539833}, {\"title\": \"How to Find the Square Root of 42? - Cuemath\", \"url\": \"https://www.cuemath.com/algebra/square-root-of-42/\", \"content\": \"Image 8: Square root of 42\\\\n\\\\nSo, we get the square root of √42 = 6.480 by the long division method.\\\\n\\\\nExplore square roots using illustrations and interactive examples.\\\\n\\\\n   Square root of 44\\\\n   Square root of 72\\\\n   Square root of 22\\\\n   Square root of 85\\\\n   Square root of 64\\\\n\\\\nImportant Notes:\\\\n\\\\n   The number 42 is not a perfect square.\\\\n   The square root of -42 is an imaginary number.\\\\n   The square root of 42 is an irrational number.\\\\n\\\\nRead More [...] Pricing\\\\n\\\\nAbout Us\\\\n\\\\nImage 4Image 5\\\\n\\\\nImage 6Image 7\\\\n\\\\nLearn Practice Download\\\\n\\\\nSquare Root of 42\\\\n=================\\\\n\\\\nThe number 42 is a number with three prime factors 2, 3, and 7. So, its prime factorization. The square root of a number is both positive and negative. We will now calculate the square root of 42 using various methods and learn a few interesting facts and questions as well.\\\\n\\\\n   Square root of 42: 6.48074\\\\n   Square of 42: 1764 [...] The square root of a number implies a number whose product with itself gives the initial number.\\\\n   The square root of 42 is 6.4807.\\\\n   The square root of 42 is written as √42 in radical form and it cannot be reduced further.\\\\n   The square root of 42 can be written as (42)1/2 in exponential form.\\\\n\\\\nIs Square Root of 42 Rational or Irrational?\\\\n--------------------------------------------\\\\n\\\\nA rational number is a number that can be expressed in the form of p/q where q ≠ 0.\", \"score\": 0.53400564}]', name='tavily_search_results_json', id='8683dcf3-3202-4cc5-9772-2f5d5018aa44', tool_call_id='p54wrf8gq', artifact={'query': 'square root of 42 and how to write a python code', 'follow_up_questions': None, 'answer': None, 'images': [], 'results': [{'url': 'https://www.quora.com/What-is-the-square-root-of-42', 'title': 'What is the square root of 42? - Quora', 'content': 'Originally Answered: what is the square root of 42? ·\\n\\nYou can try newton’s method, it converges super fast for simple functions.\\n\\nf(x)\\\\=x2−42f(x)\\\\=x2−42\\n\\nf′(x)\\\\=2xf′(x)\\\\=2x\\n\\nxn+1\\\\=xn−f(xn)f′(xn)xn+1\\\\=xn−f(xn)f′(xn)\\n\\nx0 = 10\\n\\nx1 = 7.10\\n\\nx2 = 6.50774647887\\n\\nx3 = 6.48079673257\\n\\nx4 = 6.48074069865\\n\\nx5 = 6.48074069841\\n\\n…. (I think the answer is close enough. You can do more if you want)\\n\\nUpvote ·\\n\\nImage 11: Profile photo for Emma Walton\\n\\nEmma Walton\\n\\nLives in The United States of America\\n\\n · 7y [...] √26\\\\=626\\\\=6 helps to find the square root of 42 using Heron’s (iteration) method:\\n\\nx1\\\\=12⋅(6+426)\\\\=6.5x1\\\\=12⋅(6+426)\\\\=6.5\\n\\nThis squared is 42.25 and not close enough to 42. But 6.5 will bring us closer to it:\\n\\nx2\\\\=12⋅(6.5+426.5)≈x2\\\\=12⋅(6.5+426.5)≈\\n\\n6.48076923076923076923076923076926.4807692307692307692307692307692\\n\\nwhich squared is 42.00036982248520710059171597633142.000369822485207100591715976331 and much closer to the radicand 42.\\n\\nUpvote ·\\n\\nImage 13: Profile photo for Nathaniel Day [...] Double the approximate root we got that is 9, 9 x 2=18.\\n\\nNow the formula is 9 + 4/18=9 + 0.22=9.22.\\n\\nResult from the calculator is\\n\\nContinue Reading\\n\\nFor approximating the square root of 42.\\n\\nFirst we can say it is 6 along with some decimals. Because 42 is in between 36 and 49 or 6^2 and 7^2.\\n\\nFind 42 – 6^2=42 - 36=6.\\n\\nDouble the approximate root we got that is 6, 6 x 2=12.\\n\\nNow the formula is 6 + 6/12=6 + 0.5=6.5.\\n\\nResult from the calculator is 6.48. Just 0.02 off.', 'score': 0.6947383, 'raw_content': None}, {'url': 'https://byjus.com/maths/square-root-of-42/', 'title': \"Square Root of 42 - BYJU'S\", 'content': 'Step 1: Write the number 42 in decimal form. To find the exact value of the square root of 42, add 6 zeros after the decimal point. Hence, 42 in decimal form is 42.000000. Now, pair the number 42 from right to left by putting the bar on the top of the number.\\n\\nStep 2: Now, divide the number 42 by a number, such that the product of the same number should be less than or equal to 42. Thus, 6×6 =36, which is less than 42. Thus, we obtained the quotient = 6 and remainder = 6. [...] Table of Contents:\\n\\n## What is the Square Root of 42?\\n\\nIf a number is multiplied by itself and gives the result as 42, then the number is the square root 42. The square root of 42 is symbolically expressed as √42.\\n\\nHence, √42 = √(Number × Number)\\n\\nThus, if we multiply the number 6.4807 two times, we get the original value 42.\\n\\n(i.e) √42 = √(6.4807× 6.4807)\\n\\n√42 = √(6.4807)2\\n\\nNow, remove square and square root, we get\\n\\n√42 = ± 6.4807 (or)\\n\\n√42 = ± 6.481 (Rounded to three decimal places) [...] | Square Root of 42 in Radical Form: √42. |\\n| --- |\\n\\n## Square Root of 42 by Prime Factorization Method\\n\\nTo find the square root of 42 using the prime factorization method, we need to know the prime factors of 42. The prime factors of 42 are 2, 3 and 7 and the prime factorization of 42 is 2× 3×7.\\n\\nThus, √42 = √2. √3.√7\\n\\nWe know that,\\n\\n√2 = 1.414\\n\\n√3 = 1.732\\n\\n√7 = 2.646\\n\\nNow, substitute the values of √2, √3 and √7 in the above equation.\\n\\n√42 = 1.414 × 1.732 × 2.646\\n\\n√42 = 6.481 (approximately)', 'score': 0.6737291, 'raw_content': None}, {'url': 'https://brainly.com/question/24495266', 'title': '[FREE] Express the square root of 42 in radical form. - brainly.com', 'content': 'Community Answer\\n    \\n    2\\n    \\n    Click an Item in the list or group of pictures at the bottom of the problem and, holding the button down, drag it into the correct position in the answer box. Release your mouse button when the item is place. If you change your mind, drag the item to the trashcan. Click the trashcan to clear all your answers. Express In simplified exponential notation. 18a^3b^2/ 2ab [...] Since there is no perfect square factor other than 1 in 42, the square root of 42 in radical form remains √42.\\n\\nThe process of simplifying square roots involves finding the prime factors and then simplifying them by extracting square roots of perfect squares if possible. For example, √49 can be broken down into √(7²) which simplifies to 7 because 7 is a perfect square. But in the case of 42, which is 2×3×7, there are no perfect squares to extract, so it remains as it is. [...] The square root of 42 in radical form is written as 42\\u200b. It cannot be simplified further because it has no perfect square factors other than 1. Thus, 42\\u200b is already in its simplest form.\\n\\nExplanation\\n-----------\\n\\nTo express the square root of 42 in radical form, we write it as follows:\\n\\n42\\u200b\\n\\nThe number 42 cannot be simplified further because it does not have any perfect square factors other than 1. This means that 42\\u200b is already in its simplest radical form.', 'score': 0.575517, 'raw_content': None}, {'url': 'https://brightchamps.com/en-us/math/algebra/square-root-of-42', 'title': 'Square Root of 42 | How to Find the Value of √42 - BrightChamps', 'content': 'To find the square root, we need to find the sum of (36 + 6). 36 + 6 = 42, and then √42 = approximately 6.48.', 'score': 0.539833, 'raw_content': None}, {'url': 'https://www.cuemath.com/algebra/square-root-of-42/', 'title': 'How to Find the Square Root of 42? - Cuemath', 'content': 'Image 8: Square root of 42\\n\\nSo, we get the square root of √42 = 6.480 by the long division method.\\n\\nExplore square roots using illustrations and interactive examples.\\n\\n   Square root of 44\\n   Square root of 72\\n   Square root of 22\\n   Square root of 85\\n   Square root of 64\\n\\nImportant Notes:\\n\\n   The number 42 is not a perfect square.\\n   The square root of -42 is an imaginary number.\\n   The square root of 42 is an irrational number.\\n\\nRead More [...] Pricing\\n\\nAbout Us\\n\\nImage 4Image 5\\n\\nImage 6Image 7\\n\\nLearn Practice Download\\n\\nSquare Root of 42\\n=================\\n\\nThe number 42 is a number with three prime factors 2, 3, and 7. So, its prime factorization. The square root of a number is both positive and negative. We will now calculate the square root of 42 using various methods and learn a few interesting facts and questions as well.\\n\\n   Square root of 42: 6.48074\\n   Square of 42: 1764 [...] The square root of a number implies a number whose product with itself gives the initial number.\\n   The square root of 42 is 6.4807.\\n   The square root of 42 is written as √42 in radical form and it cannot be reduced further.\\n   The square root of 42 can be written as (42)1/2 in exponential form.\\n\\nIs Square Root of 42 Rational or Irrational?\\n--------------------------------------------\\n\\nA rational number is a number that can be expressed in the form of p/q where q ≠ 0.', 'score': 0.53400564, 'raw_content': None}], 'response_time': 2.43})]}})\n",
      "**********BELOW IS MY STATE***************\n",
      "(('researcher:595d342a-78ea-24c6-dd29-2a6c0f9b467c',), {'agent': {'messages': [AIMessage(content='To find the square root of 42 and implement it in Python, follow these steps:\\n\\n1. **Understanding the Square Root**: The square root of a number \\\\( x \\\\) is a number \\\\( y \\\\) such that \\\\( y^2 = x \\\\). For 42, we need to find \\\\( y \\\\) where \\\\( y^2 = 42 \\\\).\\n\\n2. **Approximation Methods**: Since 42 is not a perfect square, its square root is irrational. We can use numerical methods like the Newton-Raphson method to approximate it.\\n\\n3. **Newton-Raphson Method**:\\n   - **Formula**: \\\\( x_{n+1} = \\\\frac{1}{2} \\\\left( x_n + \\\\frac{42}{x_n} \\\\right) \\\\)\\n   - **Initial Guess**: Start with \\\\( x_0 = 6.5 \\\\) (since \\\\( 6.5^2 = 42.25 \\\\), which is close to 42).\\n\\n4. **Iterative Calculation**:\\n   - Calculate \\\\( x_1 = \\\\frac{1}{2} (6.5 + \\\\frac{42}{6.5}) \\\\approx 6.4807 \\\\)\\n   - Repeat until the value stabilizes.\\n\\n5. **Python Implementation**:\\n   - Use the `math.sqrt` function for verification.\\n   - Implement the Newton-Raphson method to approximate the square root.\\n\\nHere\\'s the Python code:\\n\\n```python\\nimport math\\n\\ndef newton_raphson_sqrt(n, initial_guess, tolerance=1e-6):\\n    x = initial_guess\\n    while True:\\n        y = (x + n / x) / 2\\n        if abs(y - x) < tolerance:\\n            break\\n        x = y\\n    return y\\n\\n# Calculate using math.sqrt\\nmath_sqrt = math.sqrt(42)\\nprint(f\"Square root of 42 using math.sqrt: {math_sqrt}\")\\n\\n# Calculate using Newton-Raphson method\\ninitial_guess = 6.5\\nnewton_sqrt = newton_raphson_sqrt(42, initial_guess)\\nprint(f\"Square root of 42 using Newton-Raphson method: {newton_sqrt}\")\\n```\\n\\n**Output**:\\n```\\nSquare root of 42 using math.sqrt: 6.480740698407856\\nSquare root of 42 using Newton-Raphson method: 6.480740698407856\\n```\\n\\nThis code accurately calculates the square root of 42 using both the built-in `math.sqrt` function and the Newton-Raphson iterative method, ensuring precision and understanding of the underlying algorithm.', additional_kwargs={}, response_metadata={'token_usage': {'completion_tokens': 1162, 'prompt_tokens': 2906, 'total_tokens': 4068, 'completion_time': 4.225454545, 'prompt_time': 0.212438109, 'queue_time': 0.06030522299999999, 'total_time': 4.437892654}, 'model_name': 'deepseek-r1-distill-llama-70b', 'system_fingerprint': 'fp_1bbe7845ec', 'finish_reason': 'stop', 'logprobs': None}, id='run--4ebf4429-3a24-4fb2-87e7-b5cd6a04a9d0-0', usage_metadata={'input_tokens': 2906, 'output_tokens': 1162, 'total_tokens': 4068})]}})\n",
      "**********BELOW IS MY STATE***************\n",
      "((), {'researcher': {'messages': [HumanMessage(content='To find the square root of 42 and implement it in Python, follow these steps:\\n\\n1. **Understanding the Square Root**: The square root of a number \\\\( x \\\\) is a number \\\\( y \\\\) such that \\\\( y^2 = x \\\\). For 42, we need to find \\\\( y \\\\) where \\\\( y^2 = 42 \\\\).\\n\\n2. **Approximation Methods**: Since 42 is not a perfect square, its square root is irrational. We can use numerical methods like the Newton-Raphson method to approximate it.\\n\\n3. **Newton-Raphson Method**:\\n   - **Formula**: \\\\( x_{n+1} = \\\\frac{1}{2} \\\\left( x_n + \\\\frac{42}{x_n} \\\\right) \\\\)\\n   - **Initial Guess**: Start with \\\\( x_0 = 6.5 \\\\) (since \\\\( 6.5^2 = 42.25 \\\\), which is close to 42).\\n\\n4. **Iterative Calculation**:\\n   - Calculate \\\\( x_1 = \\\\frac{1}{2} (6.5 + \\\\frac{42}{6.5}) \\\\approx 6.4807 \\\\)\\n   - Repeat until the value stabilizes.\\n\\n5. **Python Implementation**:\\n   - Use the `math.sqrt` function for verification.\\n   - Implement the Newton-Raphson method to approximate the square root.\\n\\nHere\\'s the Python code:\\n\\n```python\\nimport math\\n\\ndef newton_raphson_sqrt(n, initial_guess, tolerance=1e-6):\\n    x = initial_guess\\n    while True:\\n        y = (x + n / x) / 2\\n        if abs(y - x) < tolerance:\\n            break\\n        x = y\\n    return y\\n\\n# Calculate using math.sqrt\\nmath_sqrt = math.sqrt(42)\\nprint(f\"Square root of 42 using math.sqrt: {math_sqrt}\")\\n\\n# Calculate using Newton-Raphson method\\ninitial_guess = 6.5\\nnewton_sqrt = newton_raphson_sqrt(42, initial_guess)\\nprint(f\"Square root of 42 using Newton-Raphson method: {newton_sqrt}\")\\n```\\n\\n**Output**:\\n```\\nSquare root of 42 using math.sqrt: 6.480740698407856\\nSquare root of 42 using Newton-Raphson method: 6.480740698407856\\n```\\n\\nThis code accurately calculates the square root of 42 using both the built-in `math.sqrt` function and the Newton-Raphson iterative method, ensuring precision and understanding of the underlying algorithm.', additional_kwargs={}, response_metadata={}, name='researcher')]}})\n",
      "**********BELOW IS MY STATE***************\n",
      "**********BELOW IS MY GOTO***************\n",
      "researcher\n",
      "((), {'supervisor': {'next': 'researcher'}})\n",
      "**********BELOW IS MY STATE***************\n",
      "(('researcher:a335b9c2-6523-dd78-a063-1531f05ac30e',), {'agent': {'messages': [AIMessage(content='', additional_kwargs={'tool_calls': [{'id': 'd6xfejecv', 'function': {'arguments': '{\"query\":\"What is the square root of 42?\"}', 'name': 'tavily_search_results_json'}, 'type': 'function'}]}, response_metadata={'token_usage': {'completion_tokens': 36, 'prompt_tokens': 1236, 'total_tokens': 1272, 'completion_time': 0.130909091, 'prompt_time': 0.095838647, 'queue_time': 0.05368842900000001, 'total_time': 0.226747738}, 'model_name': 'deepseek-r1-distill-llama-70b', 'system_fingerprint': 'fp_1bbe7845ec', 'finish_reason': 'tool_calls', 'logprobs': None}, id='run--2be14a17-9413-4e5b-bf83-3968d3a90a34-0', tool_calls=[{'name': 'tavily_search_results_json', 'args': {'query': 'What is the square root of 42?'}, 'id': 'd6xfejecv', 'type': 'tool_call'}], usage_metadata={'input_tokens': 1236, 'output_tokens': 36, 'total_tokens': 1272})]}})\n",
      "**********BELOW IS MY STATE***************\n",
      "(('researcher:a335b9c2-6523-dd78-a063-1531f05ac30e',), {'tools': {'messages': [ToolMessage(content='[{\"title\": \"Square Root of 42 - BYJU\\'S\", \"url\": \"https://byjus.com/maths/square-root-of-42/\", \"content\": \"Table of Contents:\\\\n\\\\n## What is the Square Root of 42?\\\\n\\\\nIf a number is multiplied by itself and gives the result as 42, then the number is the square root 42. The square root of 42 is symbolically expressed as √42.\\\\n\\\\nHence, √42 = √(Number × Number)\\\\n\\\\nThus, if we multiply the number 6.4807 two times, we get the original value 42.\\\\n\\\\n(i.e) √42 = √(6.4807× 6.4807)\\\\n\\\\n√42 = √(6.4807)2\\\\n\\\\nNow, remove square and square root, we get\\\\n\\\\n√42 = ± 6.4807 (or)\\\\n\\\\n√42 = ± 6.481 (Rounded to three decimal places) [...] ### What is the value of the square root of 42?\\\\n\\\\nThe value of the square root of 42 is approximately equal to 6.481, which is rounded to three decimal places.\\\\n\\\\n### What is the square root of 42 in radical form?\\\\n\\\\nThe square root of 42 in radical form is √42.\\\\n\\\\n### Is the square root of 42 a rational number?\\\\n\\\\nNo, the square root of 42 is not a rational number, since it cannot be expressed in the form of p/q.\\\\n\\\\n### What is the square root of -42? [...] The square root of 42 is a number, which when multiplied by itself results in the original number 42. The square root of 42 is an irrational number since the value of square root 42 cannot be expressed in the form of p/q. The square root of 42 can be found using two different methods, such as long division and prime factorization methods. In this article, we are going to learn the square root of 42 in decimal form, radical form and the procedure to find the value of square root 42 using the two\", \"score\": 0.9451216}, {\"title\": \"What is the Square Root of 42? Information and Calculator\", \"url\": \"https://square-root.net/square-root-of-42\", \"content\": \"We are constantly trying to improve our site, and truly appreciate your feedback.\\\\n\\\\nAhead is the wrap-up of our information.\\\\n\\\\nSummary\\\\n-------\\\\n\\\\nTo sum up, the square roots of 42 are ±6.4807406984; the positive real value is the principal.\\\\n\\\\nFinding the second root of the number 42 is the inverse operation of rising the ²√42 to the power of 2. That is to say, (±6.4807406984)2 = 42.\\\\n\\\\nFurther information about the root of a number like ²√42 can be found on our page n-th Root. [...] The square root of 42 is the number, which multiplied by itself 2 times, is 42. In other words, this number to the power of 2 equals 42.\\\\n\\\\nBesides the real values of\\\\n\\\\nalong with an explanation, on this page you can also find what the elements of the square root of 42 are called.\\\\n\\\\nIn addition to the terminology, we have a calculator you don’t want to miss:\\\\n\\\\nCalculator\\\\n----------\\\\n\\\\nNumber: \\\\n\\\\nSquare Root: \\\\n\\\\nReset [...] Together, they are denominated as\\\\n\\\\nAlthough the principal square root of forty-two is only one of the two square roots, the term “square root of 42” usually refers to the positive number, that is the principal square root.\\\\n\\\\nIf you want to know how to find the value of this root, then read our article Square Root located in the header menu.\\\\n\\\\nThere, we also discuss the properties for index n = 2 by means of examples: multiplication, division, exponentiation etc.\", \"score\": 0.94301796}, {\"title\": \"How to Find the Square Root of 42? - Cuemath\", \"url\": \"https://www.cuemath.com/algebra/square-root-of-42/\", \"content\": \"Image 8: Square root of 42\\\\n\\\\nSo, we get the square root of √42 = 6.480 by the long division method.\\\\n\\\\nExplore square roots using illustrations and interactive examples.\\\\n\\\\n   Square root of 44\\\\n   Square root of 72\\\\n   Square root of 22\\\\n   Square root of 85\\\\n   Square root of 64\\\\n\\\\nImportant Notes:\\\\n\\\\n   The number 42 is not a perfect square.\\\\n   The square root of -42 is an imaginary number.\\\\n   The square root of 42 is an irrational number.\\\\n\\\\nRead More [...] The square root of a number implies a number whose product with itself gives the initial number.\\\\n   The square root of 42 is 6.4807.\\\\n   The square root of 42 is written as √42 in radical form and it cannot be reduced further.\\\\n   The square root of 42 can be written as (42)1/2 in exponential form.\\\\n\\\\nIs Square Root of 42 Rational or Irrational?\\\\n--------------------------------------------\\\\n\\\\nA rational number is a number that can be expressed in the form of p/q where q ≠ 0. [...] Pricing\\\\n\\\\nAbout Us\\\\n\\\\nImage 4Image 5\\\\n\\\\nImage 6Image 7\\\\n\\\\nLearn Practice Download\\\\n\\\\nSquare Root of 42\\\\n=================\\\\n\\\\nThe number 42 is a number with three prime factors 2, 3, and 7. So, its prime factorization. The square root of a number is both positive and negative. We will now calculate the square root of 42 using various methods and learn a few interesting facts and questions as well.\\\\n\\\\n   Square root of 42: 6.48074\\\\n   Square of 42: 1764\", \"score\": 0.9325087}, {\"title\": \"Square & Square Root of 42 - Methods, Calculation, Formula ... - Examples\", \"url\": \"https://www.examples.com/maths/square-and-square-root-of-42.html\", \"content\": \"Understanding the square of 42 is important in various mathematical contexts, including geometry, algebra, and arithmetic. It finds applications in calculating areas, volumes, distances, and solving mathematical problems.\\\\n\\\\n## Square Root of 42\\\\n\\\\nor\\\\n\\\\nâ\\x88\\x9a72=6.480 up to three places of decimal\\\\n\\\\nThe square root of 42 (â\\x88\\x9a42) is an irrational number, approximately equal to 6.480740698. It represents a number that, when multiplied by itself, results in 42. Mathematically, [...] The square root of 42 (â\\x88\\x9a42) is an irrational number. To understand why, consider the definition of rational and irrational numbers. A rational number can be expressed as a simple fraction of two integers, while an irrational number cannot. Since 42 is not a perfect square, its square root cannot be simplified to a fraction. Additionally, the decimal representation of â\\x88\\x9a42 continues infinitely without repeating, indicating its irrational nature. Therefore, the square root of 42 (â\\x88\\x9a42) is\", \"score\": 0.9240941}, {\"title\": \"[FREE] Express the square root of 42 in radical form. - brainly.com\", \"url\": \"https://brainly.com/question/24495266\", \"content\": \"Since there is no perfect square factor other than 1 in 42, the square root of 42 in radical form remains √42.\\\\n\\\\nThe process of simplifying square roots involves finding the prime factors and then simplifying them by extracting square roots of perfect squares if possible. For example, √49 can be broken down into √(7²) which simplifies to 7 because 7 is a perfect square. But in the case of 42, which is 2×3×7, there are no perfect squares to extract, so it remains as it is. [...] Final answer:\\\\n\\\\nThe square root of 42 remains in radical form as √42 since 42 is not a perfect square and does not have perfect square factors to simplify.\\\\n\\\\nExplanation:\\\\n\\\\nThe square root of 42 cannot be simplified to an integer or another simple square root because 42 is not a perfect square. However, we can attempt to simplify it by factoring out perfect square factors if any exist.\\\\n\\\\nTo do this, we look for the largest perfect square that divides 42.\", \"score\": 0.92005306}]', name='tavily_search_results_json', id='5a3f2506-fb45-421a-b1b3-e58c6eea1e2e', tool_call_id='d6xfejecv', artifact={'query': 'What is the square root of 42?', 'follow_up_questions': None, 'answer': None, 'images': [], 'results': [{'url': 'https://byjus.com/maths/square-root-of-42/', 'title': \"Square Root of 42 - BYJU'S\", 'content': 'Table of Contents:\\n\\n## What is the Square Root of 42?\\n\\nIf a number is multiplied by itself and gives the result as 42, then the number is the square root 42. The square root of 42 is symbolically expressed as √42.\\n\\nHence, √42 = √(Number × Number)\\n\\nThus, if we multiply the number 6.4807 two times, we get the original value 42.\\n\\n(i.e) √42 = √(6.4807× 6.4807)\\n\\n√42 = √(6.4807)2\\n\\nNow, remove square and square root, we get\\n\\n√42 = ± 6.4807 (or)\\n\\n√42 = ± 6.481 (Rounded to three decimal places) [...] ### What is the value of the square root of 42?\\n\\nThe value of the square root of 42 is approximately equal to 6.481, which is rounded to three decimal places.\\n\\n### What is the square root of 42 in radical form?\\n\\nThe square root of 42 in radical form is √42.\\n\\n### Is the square root of 42 a rational number?\\n\\nNo, the square root of 42 is not a rational number, since it cannot be expressed in the form of p/q.\\n\\n### What is the square root of -42? [...] The square root of 42 is a number, which when multiplied by itself results in the original number 42. The square root of 42 is an irrational number since the value of square root 42 cannot be expressed in the form of p/q. The square root of 42 can be found using two different methods, such as long division and prime factorization methods. In this article, we are going to learn the square root of 42 in decimal form, radical form and the procedure to find the value of square root 42 using the two', 'score': 0.9451216, 'raw_content': None}, {'title': 'What is the Square Root of 42? Information and Calculator', 'url': 'https://square-root.net/square-root-of-42', 'content': 'We are constantly trying to improve our site, and truly appreciate your feedback.\\n\\nAhead is the wrap-up of our information.\\n\\nSummary\\n-------\\n\\nTo sum up, the square roots of 42 are ±6.4807406984; the positive real value is the principal.\\n\\nFinding the second root of the number 42 is the inverse operation of rising the ²√42 to the power of 2. That is to say, (±6.4807406984)2 = 42.\\n\\nFurther information about the root of a number like ²√42 can be found on our page n-th Root. [...] The square root of 42 is the number, which multiplied by itself 2 times, is 42. In other words, this number to the power of 2 equals 42.\\n\\nBesides the real values of\\n\\nalong with an explanation, on this page you can also find what the elements of the square root of 42 are called.\\n\\nIn addition to the terminology, we have a calculator you don’t want to miss:\\n\\nCalculator\\n----------\\n\\nNumber: \\n\\nSquare Root: \\n\\nReset [...] Together, they are denominated as\\n\\nAlthough the principal square root of forty-two is only one of the two square roots, the term “square root of 42” usually refers to the positive number, that is the principal square root.\\n\\nIf you want to know how to find the value of this root, then read our article Square Root located in the header menu.\\n\\nThere, we also discuss the properties for index n = 2 by means of examples: multiplication, division, exponentiation etc.', 'score': 0.94301796, 'raw_content': None}, {'url': 'https://www.cuemath.com/algebra/square-root-of-42/', 'title': 'How to Find the Square Root of 42? - Cuemath', 'content': 'Image 8: Square root of 42\\n\\nSo, we get the square root of √42 = 6.480 by the long division method.\\n\\nExplore square roots using illustrations and interactive examples.\\n\\n   Square root of 44\\n   Square root of 72\\n   Square root of 22\\n   Square root of 85\\n   Square root of 64\\n\\nImportant Notes:\\n\\n   The number 42 is not a perfect square.\\n   The square root of -42 is an imaginary number.\\n   The square root of 42 is an irrational number.\\n\\nRead More [...] The square root of a number implies a number whose product with itself gives the initial number.\\n   The square root of 42 is 6.4807.\\n   The square root of 42 is written as √42 in radical form and it cannot be reduced further.\\n   The square root of 42 can be written as (42)1/2 in exponential form.\\n\\nIs Square Root of 42 Rational or Irrational?\\n--------------------------------------------\\n\\nA rational number is a number that can be expressed in the form of p/q where q ≠ 0. [...] Pricing\\n\\nAbout Us\\n\\nImage 4Image 5\\n\\nImage 6Image 7\\n\\nLearn Practice Download\\n\\nSquare Root of 42\\n=================\\n\\nThe number 42 is a number with three prime factors 2, 3, and 7. So, its prime factorization. The square root of a number is both positive and negative. We will now calculate the square root of 42 using various methods and learn a few interesting facts and questions as well.\\n\\n   Square root of 42: 6.48074\\n   Square of 42: 1764', 'score': 0.9325087, 'raw_content': None}, {'title': 'Square & Square Root of 42 - Methods, Calculation, Formula ... - Examples', 'url': 'https://www.examples.com/maths/square-and-square-root-of-42.html', 'content': 'Understanding the square of 42 is important in various mathematical contexts, including geometry, algebra, and arithmetic. It finds applications in calculating areas, volumes, distances, and solving mathematical problems.\\n\\n## Square Root of 42\\n\\nor\\n\\nâ\\x88\\x9a72=6.480 up to three places of decimal\\n\\nThe square root of 42 (â\\x88\\x9a42) is an irrational number, approximately equal to 6.480740698. It represents a number that, when multiplied by itself, results in 42. Mathematically, [...] The square root of 42 (â\\x88\\x9a42) is an irrational number. To understand why, consider the definition of rational and irrational numbers. A rational number can be expressed as a simple fraction of two integers, while an irrational number cannot. Since 42 is not a perfect square, its square root cannot be simplified to a fraction. Additionally, the decimal representation of â\\x88\\x9a42 continues infinitely without repeating, indicating its irrational nature. Therefore, the square root of 42 (â\\x88\\x9a42) is', 'score': 0.9240941, 'raw_content': None}, {'url': 'https://brainly.com/question/24495266', 'title': '[FREE] Express the square root of 42 in radical form. - brainly.com', 'content': 'Since there is no perfect square factor other than 1 in 42, the square root of 42 in radical form remains √42.\\n\\nThe process of simplifying square roots involves finding the prime factors and then simplifying them by extracting square roots of perfect squares if possible. For example, √49 can be broken down into √(7²) which simplifies to 7 because 7 is a perfect square. But in the case of 42, which is 2×3×7, there are no perfect squares to extract, so it remains as it is. [...] Final answer:\\n\\nThe square root of 42 remains in radical form as √42 since 42 is not a perfect square and does not have perfect square factors to simplify.\\n\\nExplanation:\\n\\nThe square root of 42 cannot be simplified to an integer or another simple square root because 42 is not a perfect square. However, we can attempt to simplify it by factoring out perfect square factors if any exist.\\n\\nTo do this, we look for the largest perfect square that divides 42.', 'score': 0.92005306, 'raw_content': None}], 'response_time': 2.4})]}})\n",
      "**********BELOW IS MY STATE***************\n",
      "(('researcher:a335b9c2-6523-dd78-a063-1531f05ac30e',), {'agent': {'messages': [AIMessage(content='To find the square root of 42 and write a Python program for it, follow these steps:\\n\\n1. **Import the Math Module**: Use Python\\'s built-in `math` module to access the square root function.\\n2. **Calculate the Square Root**: Utilize `math.sqrt(42)` to compute the square root.\\n3. **Print the Result**: Display the calculated square root.\\n\\nHere\\'s the Python code:\\n\\n```python\\nimport math\\n\\nsquare_root = math.sqrt(42)\\nprint(\"The square root of 42 is:\", square_root)\\n```\\n\\n**Output**:\\n```\\nThe square root of 42 is: 6.480740698407856\\n```\\n\\nThis code accurately calculates and prints the square root of 42 using Python\\'s `math.sqrt()` function.', additional_kwargs={}, response_metadata={'token_usage': {'completion_tokens': 544, 'prompt_tokens': 3134, 'total_tokens': 3678, 'completion_time': 1.978181818, 'prompt_time': 0.28687714, 'queue_time': 0.05972452, 'total_time': 2.265058958}, 'model_name': 'deepseek-r1-distill-llama-70b', 'system_fingerprint': 'fp_1bbe7845ec', 'finish_reason': 'stop', 'logprobs': None}, id='run--1f7c63f8-05ff-4c36-aad7-8dac16ca723d-0', usage_metadata={'input_tokens': 3134, 'output_tokens': 544, 'total_tokens': 3678})]}})\n",
      "**********BELOW IS MY STATE***************\n",
      "((), {'researcher': {'messages': [HumanMessage(content='To find the square root of 42 and write a Python program for it, follow these steps:\\n\\n1. **Import the Math Module**: Use Python\\'s built-in `math` module to access the square root function.\\n2. **Calculate the Square Root**: Utilize `math.sqrt(42)` to compute the square root.\\n3. **Print the Result**: Display the calculated square root.\\n\\nHere\\'s the Python code:\\n\\n```python\\nimport math\\n\\nsquare_root = math.sqrt(42)\\nprint(\"The square root of 42 is:\", square_root)\\n```\\n\\n**Output**:\\n```\\nThe square root of 42 is: 6.480740698407856\\n```\\n\\nThis code accurately calculates and prints the square root of 42 using Python\\'s `math.sqrt()` function.', additional_kwargs={}, response_metadata={}, name='researcher')]}})\n",
      "**********BELOW IS MY STATE***************\n",
      "**********BELOW IS MY GOTO***************\n",
      "researcher\n",
      "((), {'supervisor': {'next': 'researcher'}})\n",
      "**********BELOW IS MY STATE***************\n",
      "(('researcher:c005f571-76d3-9ef6-aace-fd6847065ec1',), {'agent': {'messages': [AIMessage(content='', additional_kwargs={}, response_metadata={'token_usage': {'completion_tokens': 1, 'prompt_tokens': 1397, 'total_tokens': 1398, 'completion_time': 0.007982858, 'prompt_time': 0.107634231, 'queue_time': -9223372036.96241, 'total_time': 0.115617089}, 'model_name': 'deepseek-r1-distill-llama-70b', 'system_fingerprint': 'fp_1bbe7845ec', 'finish_reason': 'stop', 'logprobs': None}, id='run--8d7db7d3-3437-4aee-8514-821f8353dfa8-0', usage_metadata={'input_tokens': 1397, 'output_tokens': 1, 'total_tokens': 1398})]}})\n",
      "**********BELOW IS MY STATE***************\n",
      "((), {'researcher': {'messages': [HumanMessage(content='', additional_kwargs={}, response_metadata={}, name='researcher')]}})\n",
      "**********BELOW IS MY STATE***************\n",
      "**********BELOW IS MY GOTO***************\n",
      "researcher\n",
      "((), {'supervisor': {'next': 'researcher'}})\n",
      "**********BELOW IS MY STATE***************\n",
      "(('researcher:21cc9564-97ef-e6ba-b659-58c6a900d0c2',), {'agent': {'messages': [AIMessage(content='', additional_kwargs={'tool_calls': [{'id': 'y9tjm2e1n', 'function': {'arguments': '{\"query\":\"square root of 42 and how to write a python code\"}', 'name': 'tavily_search_results_json'}, 'type': 'function'}]}, response_metadata={'token_usage': {'completion_tokens': 36, 'prompt_tokens': 1398, 'total_tokens': 1434, 'completion_time': 0.130909091, 'prompt_time': 0.113620387, 'queue_time': 0.058799053000000004, 'total_time': 0.244529478}, 'model_name': 'deepseek-r1-distill-llama-70b', 'system_fingerprint': 'fp_1bbe7845ec', 'finish_reason': 'tool_calls', 'logprobs': None}, id='run--a0421aa1-633d-4d8b-8e0c-a6500bf3b306-0', tool_calls=[{'name': 'tavily_search_results_json', 'args': {'query': 'square root of 42 and how to write a python code'}, 'id': 'y9tjm2e1n', 'type': 'tool_call'}], usage_metadata={'input_tokens': 1398, 'output_tokens': 36, 'total_tokens': 1434})]}})\n",
      "**********BELOW IS MY STATE***************\n",
      "(('researcher:21cc9564-97ef-e6ba-b659-58c6a900d0c2',), {'tools': {'messages': [ToolMessage(content='[{\"title\": \"What is the square root of 42? - Quora\", \"url\": \"https://www.quora.com/What-is-the-square-root-of-42\", \"content\": \"Originally Answered: what is the square root of 42? ·\\\\n\\\\nYou can try newton’s method, it converges super fast for simple functions.\\\\n\\\\nf(x)\\\\\\\\=x2−42f(x)\\\\\\\\=x2−42\\\\n\\\\nf′(x)\\\\\\\\=2xf′(x)\\\\\\\\=2x\\\\n\\\\nxn+1\\\\\\\\=xn−f(xn)f′(xn)xn+1\\\\\\\\=xn−f(xn)f′(xn)\\\\n\\\\nx0 = 10\\\\n\\\\nx1 = 7.10\\\\n\\\\nx2 = 6.50774647887\\\\n\\\\nx3 = 6.48079673257\\\\n\\\\nx4 = 6.48074069865\\\\n\\\\nx5 = 6.48074069841\\\\n\\\\n…. (I think the answer is close enough. You can do more if you want)\\\\n\\\\nUpvote ·\\\\n\\\\nImage 11: Profile photo for Emma Walton\\\\n\\\\nEmma Walton\\\\n\\\\nLives in The United States of America\\\\n\\\\n · 7y [...] √26\\\\\\\\=626\\\\\\\\=6 helps to find the square root of 42 using Heron’s (iteration) method:\\\\n\\\\nx1\\\\\\\\=12⋅(6+426)\\\\\\\\=6.5x1\\\\\\\\=12⋅(6+426)\\\\\\\\=6.5\\\\n\\\\nThis squared is 42.25 and not close enough to 42. But 6.5 will bring us closer to it:\\\\n\\\\nx2\\\\\\\\=12⋅(6.5+426.5)≈x2\\\\\\\\=12⋅(6.5+426.5)≈\\\\n\\\\n6.48076923076923076923076923076926.4807692307692307692307692307692\\\\n\\\\nwhich squared is 42.00036982248520710059171597633142.000369822485207100591715976331 and much closer to the radicand 42.\\\\n\\\\nUpvote ·\\\\n\\\\nImage 13: Profile photo for Nathaniel Day [...] Double the approximate root we got that is 9, 9 x 2=18.\\\\n\\\\nNow the formula is 9 + 4/18=9 + 0.22=9.22.\\\\n\\\\nResult from the calculator is\\\\n\\\\nContinue Reading\\\\n\\\\nFor approximating the square root of 42.\\\\n\\\\nFirst we can say it is 6 along with some decimals. Because 42 is in between 36 and 49 or 6^2 and 7^2.\\\\n\\\\nFind 42 – 6^2=42 - 36=6.\\\\n\\\\nDouble the approximate root we got that is 6, 6 x 2=12.\\\\n\\\\nNow the formula is 6 + 6/12=6 + 0.5=6.5.\\\\n\\\\nResult from the calculator is 6.48. Just 0.02 off.\", \"score\": 0.6947383}, {\"title\": \"Square Root of 42 - BYJU\\'S\", \"url\": \"https://byjus.com/maths/square-root-of-42/\", \"content\": \"Step 1: Write the number 42 in decimal form. To find the exact value of the square root of 42, add 6 zeros after the decimal point. Hence, 42 in decimal form is 42.000000. Now, pair the number 42 from right to left by putting the bar on the top of the number.\\\\n\\\\nStep 2: Now, divide the number 42 by a number, such that the product of the same number should be less than or equal to 42. Thus, 6×6 =36, which is less than 42. Thus, we obtained the quotient = 6 and remainder = 6. [...] Table of Contents:\\\\n\\\\n## What is the Square Root of 42?\\\\n\\\\nIf a number is multiplied by itself and gives the result as 42, then the number is the square root 42. The square root of 42 is symbolically expressed as √42.\\\\n\\\\nHence, √42 = √(Number × Number)\\\\n\\\\nThus, if we multiply the number 6.4807 two times, we get the original value 42.\\\\n\\\\n(i.e) √42 = √(6.4807× 6.4807)\\\\n\\\\n√42 = √(6.4807)2\\\\n\\\\nNow, remove square and square root, we get\\\\n\\\\n√42 = ± 6.4807 (or)\\\\n\\\\n√42 = ± 6.481 (Rounded to three decimal places) [...] | Square Root of 42 in Radical Form: √42. |\\\\n| --- |\\\\n\\\\n## Square Root of 42 by Prime Factorization Method\\\\n\\\\nTo find the square root of 42 using the prime factorization method, we need to know the prime factors of 42. The prime factors of 42 are 2, 3 and 7 and the prime factorization of 42 is 2× 3×7.\\\\n\\\\nThus, √42 = √2. √3.√7\\\\n\\\\nWe know that,\\\\n\\\\n√2 = 1.414\\\\n\\\\n√3 = 1.732\\\\n\\\\n√7 = 2.646\\\\n\\\\nNow, substitute the values of √2, √3 and √7 in the above equation.\\\\n\\\\n√42 = 1.414 × 1.732 × 2.646\\\\n\\\\n√42 = 6.481 (approximately)\", \"score\": 0.6737291}, {\"title\": \"[FREE] Express the square root of 42 in radical form. - brainly.com\", \"url\": \"https://brainly.com/question/24495266\", \"content\": \"Community Answer\\\\n    \\\\n    2\\\\n    \\\\n    Click an Item in the list or group of pictures at the bottom of the problem and, holding the button down, drag it into the correct position in the answer box. Release your mouse button when the item is place. If you change your mind, drag the item to the trashcan. Click the trashcan to clear all your answers. Express In simplified exponential notation. 18a^3b^2/ 2ab [...] Since there is no perfect square factor other than 1 in 42, the square root of 42 in radical form remains √42.\\\\n\\\\nThe process of simplifying square roots involves finding the prime factors and then simplifying them by extracting square roots of perfect squares if possible. For example, √49 can be broken down into √(7²) which simplifies to 7 because 7 is a perfect square. But in the case of 42, which is 2×3×7, there are no perfect squares to extract, so it remains as it is. [...] The square root of 42 in radical form is written as 42\\u200b. It cannot be simplified further because it has no perfect square factors other than 1. Thus, 42\\u200b is already in its simplest form.\\\\n\\\\nExplanation\\\\n-----------\\\\n\\\\nTo express the square root of 42 in radical form, we write it as follows:\\\\n\\\\n42\\u200b\\\\n\\\\nThe number 42 cannot be simplified further because it does not have any perfect square factors other than 1. This means that 42\\u200b is already in its simplest radical form.\", \"score\": 0.575517}, {\"title\": \"Square Root of 42 | How to Find the Value of √42 - BrightChamps\", \"url\": \"https://brightchamps.com/en-us/math/algebra/square-root-of-42\", \"content\": \"To find the square root, we need to find the sum of (36 + 6). 36 + 6 = 42, and then √42 = approximately 6.48.\", \"score\": 0.539833}, {\"title\": \"How to Find the Square Root of 42? - Cuemath\", \"url\": \"https://www.cuemath.com/algebra/square-root-of-42/\", \"content\": \"Image 8: Square root of 42\\\\n\\\\nSo, we get the square root of √42 = 6.480 by the long division method.\\\\n\\\\nExplore square roots using illustrations and interactive examples.\\\\n\\\\n   Square root of 44\\\\n   Square root of 72\\\\n   Square root of 22\\\\n   Square root of 85\\\\n   Square root of 64\\\\n\\\\nImportant Notes:\\\\n\\\\n   The number 42 is not a perfect square.\\\\n   The square root of -42 is an imaginary number.\\\\n   The square root of 42 is an irrational number.\\\\n\\\\nRead More [...] Pricing\\\\n\\\\nAbout Us\\\\n\\\\nImage 4Image 5\\\\n\\\\nImage 6Image 7\\\\n\\\\nLearn Practice Download\\\\n\\\\nSquare Root of 42\\\\n=================\\\\n\\\\nThe number 42 is a number with three prime factors 2, 3, and 7. So, its prime factorization. The square root of a number is both positive and negative. We will now calculate the square root of 42 using various methods and learn a few interesting facts and questions as well.\\\\n\\\\n   Square root of 42: 6.48074\\\\n   Square of 42: 1764 [...] The square root of a number implies a number whose product with itself gives the initial number.\\\\n   The square root of 42 is 6.4807.\\\\n   The square root of 42 is written as √42 in radical form and it cannot be reduced further.\\\\n   The square root of 42 can be written as (42)1/2 in exponential form.\\\\n\\\\nIs Square Root of 42 Rational or Irrational?\\\\n--------------------------------------------\\\\n\\\\nA rational number is a number that can be expressed in the form of p/q where q ≠ 0.\", \"score\": 0.53400564}]', name='tavily_search_results_json', id='e8e30b09-b121-40c1-9c89-5328813c44fc', tool_call_id='y9tjm2e1n', artifact={'query': 'square root of 42 and how to write a python code', 'follow_up_questions': None, 'answer': None, 'images': [], 'results': [{'url': 'https://www.quora.com/What-is-the-square-root-of-42', 'title': 'What is the square root of 42? - Quora', 'content': 'Originally Answered: what is the square root of 42? ·\\n\\nYou can try newton’s method, it converges super fast for simple functions.\\n\\nf(x)\\\\=x2−42f(x)\\\\=x2−42\\n\\nf′(x)\\\\=2xf′(x)\\\\=2x\\n\\nxn+1\\\\=xn−f(xn)f′(xn)xn+1\\\\=xn−f(xn)f′(xn)\\n\\nx0 = 10\\n\\nx1 = 7.10\\n\\nx2 = 6.50774647887\\n\\nx3 = 6.48079673257\\n\\nx4 = 6.48074069865\\n\\nx5 = 6.48074069841\\n\\n…. (I think the answer is close enough. You can do more if you want)\\n\\nUpvote ·\\n\\nImage 11: Profile photo for Emma Walton\\n\\nEmma Walton\\n\\nLives in The United States of America\\n\\n · 7y [...] √26\\\\=626\\\\=6 helps to find the square root of 42 using Heron’s (iteration) method:\\n\\nx1\\\\=12⋅(6+426)\\\\=6.5x1\\\\=12⋅(6+426)\\\\=6.5\\n\\nThis squared is 42.25 and not close enough to 42. But 6.5 will bring us closer to it:\\n\\nx2\\\\=12⋅(6.5+426.5)≈x2\\\\=12⋅(6.5+426.5)≈\\n\\n6.48076923076923076923076923076926.4807692307692307692307692307692\\n\\nwhich squared is 42.00036982248520710059171597633142.000369822485207100591715976331 and much closer to the radicand 42.\\n\\nUpvote ·\\n\\nImage 13: Profile photo for Nathaniel Day [...] Double the approximate root we got that is 9, 9 x 2=18.\\n\\nNow the formula is 9 + 4/18=9 + 0.22=9.22.\\n\\nResult from the calculator is\\n\\nContinue Reading\\n\\nFor approximating the square root of 42.\\n\\nFirst we can say it is 6 along with some decimals. Because 42 is in between 36 and 49 or 6^2 and 7^2.\\n\\nFind 42 – 6^2=42 - 36=6.\\n\\nDouble the approximate root we got that is 6, 6 x 2=12.\\n\\nNow the formula is 6 + 6/12=6 + 0.5=6.5.\\n\\nResult from the calculator is 6.48. Just 0.02 off.', 'score': 0.6947383, 'raw_content': None}, {'url': 'https://byjus.com/maths/square-root-of-42/', 'title': \"Square Root of 42 - BYJU'S\", 'content': 'Step 1: Write the number 42 in decimal form. To find the exact value of the square root of 42, add 6 zeros after the decimal point. Hence, 42 in decimal form is 42.000000. Now, pair the number 42 from right to left by putting the bar on the top of the number.\\n\\nStep 2: Now, divide the number 42 by a number, such that the product of the same number should be less than or equal to 42. Thus, 6×6 =36, which is less than 42. Thus, we obtained the quotient = 6 and remainder = 6. [...] Table of Contents:\\n\\n## What is the Square Root of 42?\\n\\nIf a number is multiplied by itself and gives the result as 42, then the number is the square root 42. The square root of 42 is symbolically expressed as √42.\\n\\nHence, √42 = √(Number × Number)\\n\\nThus, if we multiply the number 6.4807 two times, we get the original value 42.\\n\\n(i.e) √42 = √(6.4807× 6.4807)\\n\\n√42 = √(6.4807)2\\n\\nNow, remove square and square root, we get\\n\\n√42 = ± 6.4807 (or)\\n\\n√42 = ± 6.481 (Rounded to three decimal places) [...] | Square Root of 42 in Radical Form: √42. |\\n| --- |\\n\\n## Square Root of 42 by Prime Factorization Method\\n\\nTo find the square root of 42 using the prime factorization method, we need to know the prime factors of 42. The prime factors of 42 are 2, 3 and 7 and the prime factorization of 42 is 2× 3×7.\\n\\nThus, √42 = √2. √3.√7\\n\\nWe know that,\\n\\n√2 = 1.414\\n\\n√3 = 1.732\\n\\n√7 = 2.646\\n\\nNow, substitute the values of √2, √3 and √7 in the above equation.\\n\\n√42 = 1.414 × 1.732 × 2.646\\n\\n√42 = 6.481 (approximately)', 'score': 0.6737291, 'raw_content': None}, {'url': 'https://brainly.com/question/24495266', 'title': '[FREE] Express the square root of 42 in radical form. - brainly.com', 'content': 'Community Answer\\n    \\n    2\\n    \\n    Click an Item in the list or group of pictures at the bottom of the problem and, holding the button down, drag it into the correct position in the answer box. Release your mouse button when the item is place. If you change your mind, drag the item to the trashcan. Click the trashcan to clear all your answers. Express In simplified exponential notation. 18a^3b^2/ 2ab [...] Since there is no perfect square factor other than 1 in 42, the square root of 42 in radical form remains √42.\\n\\nThe process of simplifying square roots involves finding the prime factors and then simplifying them by extracting square roots of perfect squares if possible. For example, √49 can be broken down into √(7²) which simplifies to 7 because 7 is a perfect square. But in the case of 42, which is 2×3×7, there are no perfect squares to extract, so it remains as it is. [...] The square root of 42 in radical form is written as 42\\u200b. It cannot be simplified further because it has no perfect square factors other than 1. Thus, 42\\u200b is already in its simplest form.\\n\\nExplanation\\n-----------\\n\\nTo express the square root of 42 in radical form, we write it as follows:\\n\\n42\\u200b\\n\\nThe number 42 cannot be simplified further because it does not have any perfect square factors other than 1. This means that 42\\u200b is already in its simplest radical form.', 'score': 0.575517, 'raw_content': None}, {'url': 'https://brightchamps.com/en-us/math/algebra/square-root-of-42', 'title': 'Square Root of 42 | How to Find the Value of √42 - BrightChamps', 'content': 'To find the square root, we need to find the sum of (36 + 6). 36 + 6 = 42, and then √42 = approximately 6.48.', 'score': 0.539833, 'raw_content': None}, {'url': 'https://www.cuemath.com/algebra/square-root-of-42/', 'title': 'How to Find the Square Root of 42? - Cuemath', 'content': 'Image 8: Square root of 42\\n\\nSo, we get the square root of √42 = 6.480 by the long division method.\\n\\nExplore square roots using illustrations and interactive examples.\\n\\n   Square root of 44\\n   Square root of 72\\n   Square root of 22\\n   Square root of 85\\n   Square root of 64\\n\\nImportant Notes:\\n\\n   The number 42 is not a perfect square.\\n   The square root of -42 is an imaginary number.\\n   The square root of 42 is an irrational number.\\n\\nRead More [...] Pricing\\n\\nAbout Us\\n\\nImage 4Image 5\\n\\nImage 6Image 7\\n\\nLearn Practice Download\\n\\nSquare Root of 42\\n=================\\n\\nThe number 42 is a number with three prime factors 2, 3, and 7. So, its prime factorization. The square root of a number is both positive and negative. We will now calculate the square root of 42 using various methods and learn a few interesting facts and questions as well.\\n\\n   Square root of 42: 6.48074\\n   Square of 42: 1764 [...] The square root of a number implies a number whose product with itself gives the initial number.\\n   The square root of 42 is 6.4807.\\n   The square root of 42 is written as √42 in radical form and it cannot be reduced further.\\n   The square root of 42 can be written as (42)1/2 in exponential form.\\n\\nIs Square Root of 42 Rational or Irrational?\\n--------------------------------------------\\n\\nA rational number is a number that can be expressed in the form of p/q where q ≠ 0.', 'score': 0.53400564, 'raw_content': None}], 'response_time': 0.76})]}})\n",
      "**********BELOW IS MY STATE***************\n"
     ]
    },
    {
     "ename": "KeyboardInterrupt",
     "evalue": "",
     "output_type": "error",
     "traceback": [
      "\u001b[31m---------------------------------------------------------------------------\u001b[39m",
      "\u001b[31mKeyboardInterrupt\u001b[39m                         Traceback (most recent call last)",
      "\u001b[36mCell\u001b[39m\u001b[36m \u001b[39m\u001b[32mIn[40]\u001b[39m\u001b[32m, line 1\u001b[39m\n\u001b[32m----> \u001b[39m\u001b[32m1\u001b[39m \u001b[38;5;28;43;01mfor\u001b[39;49;00m\u001b[43m \u001b[49m\u001b[43ms\u001b[49m\u001b[43m \u001b[49m\u001b[38;5;129;43;01min\u001b[39;49;00m\u001b[43m \u001b[49m\u001b[43mapp\u001b[49m\u001b[43m.\u001b[49m\u001b[43mstream\u001b[49m\u001b[43m(\u001b[49m\u001b[43m{\u001b[49m\u001b[33;43m\"\u001b[39;49m\u001b[33;43mmessages\u001b[39;49m\u001b[33;43m\"\u001b[39;49m\u001b[43m:\u001b[49m\u001b[43m \u001b[49m\u001b[43m[\u001b[49m\u001b[43m(\u001b[49m\u001b[33;43m\"\u001b[39;49m\u001b[33;43muser\u001b[39;49m\u001b[33;43m\"\u001b[39;49m\u001b[43m,\u001b[49m\u001b[43m \u001b[49m\u001b[33;43m\"\u001b[39;49m\u001b[33;43mWhat\u001b[39;49m\u001b[33;43m'\u001b[39;49m\u001b[33;43ms the square root of 42? and how to write a python code\u001b[39;49m\u001b[33;43m\"\u001b[39;49m\u001b[43m)\u001b[49m\u001b[43m]\u001b[49m\u001b[43m}\u001b[49m\u001b[43m,\u001b[49m\u001b[43m \u001b[49m\u001b[43msubgraphs\u001b[49m\u001b[43m=\u001b[49m\u001b[38;5;28;43;01mTrue\u001b[39;49;00m\u001b[43m)\u001b[49m\u001b[43m:\u001b[49m\n\u001b[32m      2\u001b[39m \u001b[43m    \u001b[49m\u001b[38;5;28;43mprint\u001b[39;49m\u001b[43m(\u001b[49m\u001b[43ms\u001b[49m\u001b[43m)\u001b[49m\n\u001b[32m      3\u001b[39m \u001b[43m    \u001b[49m\u001b[38;5;28;43mprint\u001b[39;49m\u001b[43m(\u001b[49m\u001b[33;43m\"\u001b[39;49m\u001b[33;43m**********BELOW IS MY STATE***************\u001b[39;49m\u001b[33;43m\"\u001b[39;49m\u001b[43m)\u001b[49m\n",
      "\u001b[36mFile \u001b[39m\u001b[32mc:\\learning\\gen_ai\\Agentic2O\\venv\\Lib\\site-packages\\langgraph\\pregel\\__init__.py:2436\u001b[39m, in \u001b[36mPregel.stream\u001b[39m\u001b[34m(self, input, config, stream_mode, output_keys, interrupt_before, interrupt_after, checkpoint_during, debug, subgraphs)\u001b[39m\n\u001b[32m   2434\u001b[39m         \u001b[38;5;28;01mfor\u001b[39;00m task \u001b[38;5;129;01min\u001b[39;00m loop.match_cached_writes():\n\u001b[32m   2435\u001b[39m             loop.output_writes(task.id, task.writes, cached=\u001b[38;5;28;01mTrue\u001b[39;00m)\n\u001b[32m-> \u001b[39m\u001b[32m2436\u001b[39m \u001b[43m        \u001b[49m\u001b[38;5;28;43;01mfor\u001b[39;49;00m\u001b[43m \u001b[49m\u001b[43m_\u001b[49m\u001b[43m \u001b[49m\u001b[38;5;129;43;01min\u001b[39;49;00m\u001b[43m \u001b[49m\u001b[43mrunner\u001b[49m\u001b[43m.\u001b[49m\u001b[43mtick\u001b[49m\u001b[43m(\u001b[49m\n\u001b[32m   2437\u001b[39m \u001b[43m            \u001b[49m\u001b[43m[\u001b[49m\u001b[43mt\u001b[49m\u001b[43m \u001b[49m\u001b[38;5;28;43;01mfor\u001b[39;49;00m\u001b[43m \u001b[49m\u001b[43mt\u001b[49m\u001b[43m \u001b[49m\u001b[38;5;129;43;01min\u001b[39;49;00m\u001b[43m \u001b[49m\u001b[43mloop\u001b[49m\u001b[43m.\u001b[49m\u001b[43mtasks\u001b[49m\u001b[43m.\u001b[49m\u001b[43mvalues\u001b[49m\u001b[43m(\u001b[49m\u001b[43m)\u001b[49m\u001b[43m \u001b[49m\u001b[38;5;28;43;01mif\u001b[39;49;00m\u001b[43m \u001b[49m\u001b[38;5;129;43;01mnot\u001b[39;49;00m\u001b[43m \u001b[49m\u001b[43mt\u001b[49m\u001b[43m.\u001b[49m\u001b[43mwrites\u001b[49m\u001b[43m]\u001b[49m\u001b[43m,\u001b[49m\n\u001b[32m   2438\u001b[39m \u001b[43m            \u001b[49m\u001b[43mtimeout\u001b[49m\u001b[43m=\u001b[49m\u001b[38;5;28;43mself\u001b[39;49m\u001b[43m.\u001b[49m\u001b[43mstep_timeout\u001b[49m\u001b[43m,\u001b[49m\n\u001b[32m   2439\u001b[39m \u001b[43m            \u001b[49m\u001b[43mget_waiter\u001b[49m\u001b[43m=\u001b[49m\u001b[43mget_waiter\u001b[49m\u001b[43m,\u001b[49m\n\u001b[32m   2440\u001b[39m \u001b[43m            \u001b[49m\u001b[43mschedule_task\u001b[49m\u001b[43m=\u001b[49m\u001b[43mloop\u001b[49m\u001b[43m.\u001b[49m\u001b[43maccept_push\u001b[49m\u001b[43m,\u001b[49m\n\u001b[32m   2441\u001b[39m \u001b[43m        \u001b[49m\u001b[43m)\u001b[49m\u001b[43m:\u001b[49m\n\u001b[32m   2442\u001b[39m \u001b[43m            \u001b[49m\u001b[38;5;66;43;03m# emit output\u001b[39;49;00m\n\u001b[32m   2443\u001b[39m \u001b[43m            \u001b[49m\u001b[38;5;28;43;01myield from\u001b[39;49;00m\u001b[43m \u001b[49m\u001b[43moutput\u001b[49m\u001b[43m(\u001b[49m\u001b[43m)\u001b[49m\n\u001b[32m   2444\u001b[39m \u001b[38;5;66;03m# emit output\u001b[39;00m\n",
      "\u001b[36mFile \u001b[39m\u001b[32mc:\\learning\\gen_ai\\Agentic2O\\venv\\Lib\\site-packages\\langgraph\\pregel\\runner.py:223\u001b[39m, in \u001b[36mPregelRunner.tick\u001b[39m\u001b[34m(self, tasks, reraise, timeout, retry_policy, get_waiter, schedule_task)\u001b[39m\n\u001b[32m    221\u001b[39m end_time = timeout + time.monotonic() \u001b[38;5;28;01mif\u001b[39;00m timeout \u001b[38;5;28;01melse\u001b[39;00m \u001b[38;5;28;01mNone\u001b[39;00m\n\u001b[32m    222\u001b[39m \u001b[38;5;28;01mwhile\u001b[39;00m \u001b[38;5;28mlen\u001b[39m(futures) > (\u001b[32m1\u001b[39m \u001b[38;5;28;01mif\u001b[39;00m get_waiter \u001b[38;5;129;01mis\u001b[39;00m \u001b[38;5;129;01mnot\u001b[39;00m \u001b[38;5;28;01mNone\u001b[39;00m \u001b[38;5;28;01melse\u001b[39;00m \u001b[32m0\u001b[39m):\n\u001b[32m--> \u001b[39m\u001b[32m223\u001b[39m     done, inflight = \u001b[43mconcurrent\u001b[49m\u001b[43m.\u001b[49m\u001b[43mfutures\u001b[49m\u001b[43m.\u001b[49m\u001b[43mwait\u001b[49m\u001b[43m(\u001b[49m\n\u001b[32m    224\u001b[39m \u001b[43m        \u001b[49m\u001b[43mfutures\u001b[49m\u001b[43m,\u001b[49m\n\u001b[32m    225\u001b[39m \u001b[43m        \u001b[49m\u001b[43mreturn_when\u001b[49m\u001b[43m=\u001b[49m\u001b[43mconcurrent\u001b[49m\u001b[43m.\u001b[49m\u001b[43mfutures\u001b[49m\u001b[43m.\u001b[49m\u001b[43mFIRST_COMPLETED\u001b[49m\u001b[43m,\u001b[49m\n\u001b[32m    226\u001b[39m \u001b[43m        \u001b[49m\u001b[43mtimeout\u001b[49m\u001b[43m=\u001b[49m\u001b[43m(\u001b[49m\u001b[38;5;28;43mmax\u001b[39;49m\u001b[43m(\u001b[49m\u001b[32;43m0\u001b[39;49m\u001b[43m,\u001b[49m\u001b[43m \u001b[49m\u001b[43mend_time\u001b[49m\u001b[43m \u001b[49m\u001b[43m-\u001b[49m\u001b[43m \u001b[49m\u001b[43mtime\u001b[49m\u001b[43m.\u001b[49m\u001b[43mmonotonic\u001b[49m\u001b[43m(\u001b[49m\u001b[43m)\u001b[49m\u001b[43m)\u001b[49m\u001b[43m \u001b[49m\u001b[38;5;28;43;01mif\u001b[39;49;00m\u001b[43m \u001b[49m\u001b[43mend_time\u001b[49m\u001b[43m \u001b[49m\u001b[38;5;28;43;01melse\u001b[39;49;00m\u001b[43m \u001b[49m\u001b[38;5;28;43;01mNone\u001b[39;49;00m\u001b[43m)\u001b[49m\u001b[43m,\u001b[49m\n\u001b[32m    227\u001b[39m \u001b[43m    \u001b[49m\u001b[43m)\u001b[49m\n\u001b[32m    228\u001b[39m     \u001b[38;5;28;01mif\u001b[39;00m \u001b[38;5;129;01mnot\u001b[39;00m done:\n\u001b[32m    229\u001b[39m         \u001b[38;5;28;01mbreak\u001b[39;00m  \u001b[38;5;66;03m# timed out\u001b[39;00m\n",
      "\u001b[36mFile \u001b[39m\u001b[32m~\\miniconda3\\Lib\\concurrent\\futures\\_base.py:305\u001b[39m, in \u001b[36mwait\u001b[39m\u001b[34m(fs, timeout, return_when)\u001b[39m\n\u001b[32m    301\u001b[39m         \u001b[38;5;28;01mreturn\u001b[39;00m DoneAndNotDoneFutures(done, not_done)\n\u001b[32m    303\u001b[39m     waiter = _create_and_install_waiters(fs, return_when)\n\u001b[32m--> \u001b[39m\u001b[32m305\u001b[39m \u001b[43mwaiter\u001b[49m\u001b[43m.\u001b[49m\u001b[43mevent\u001b[49m\u001b[43m.\u001b[49m\u001b[43mwait\u001b[49m\u001b[43m(\u001b[49m\u001b[43mtimeout\u001b[49m\u001b[43m)\u001b[49m\n\u001b[32m    306\u001b[39m \u001b[38;5;28;01mfor\u001b[39;00m f \u001b[38;5;129;01min\u001b[39;00m fs:\n\u001b[32m    307\u001b[39m     \u001b[38;5;28;01mwith\u001b[39;00m f._condition:\n",
      "\u001b[36mFile \u001b[39m\u001b[32m~\\miniconda3\\Lib\\threading.py:622\u001b[39m, in \u001b[36mEvent.wait\u001b[39m\u001b[34m(self, timeout)\u001b[39m\n\u001b[32m    620\u001b[39m signaled = \u001b[38;5;28mself\u001b[39m._flag\n\u001b[32m    621\u001b[39m \u001b[38;5;28;01mif\u001b[39;00m \u001b[38;5;129;01mnot\u001b[39;00m signaled:\n\u001b[32m--> \u001b[39m\u001b[32m622\u001b[39m     signaled = \u001b[38;5;28;43mself\u001b[39;49m\u001b[43m.\u001b[49m\u001b[43m_cond\u001b[49m\u001b[43m.\u001b[49m\u001b[43mwait\u001b[49m\u001b[43m(\u001b[49m\u001b[43mtimeout\u001b[49m\u001b[43m)\u001b[49m\n\u001b[32m    623\u001b[39m \u001b[38;5;28;01mreturn\u001b[39;00m signaled\n",
      "\u001b[36mFile \u001b[39m\u001b[32m~\\miniconda3\\Lib\\threading.py:320\u001b[39m, in \u001b[36mCondition.wait\u001b[39m\u001b[34m(self, timeout)\u001b[39m\n\u001b[32m    318\u001b[39m \u001b[38;5;28;01mtry\u001b[39;00m:    \u001b[38;5;66;03m# restore state no matter what (e.g., KeyboardInterrupt)\u001b[39;00m\n\u001b[32m    319\u001b[39m     \u001b[38;5;28;01mif\u001b[39;00m timeout \u001b[38;5;129;01mis\u001b[39;00m \u001b[38;5;28;01mNone\u001b[39;00m:\n\u001b[32m--> \u001b[39m\u001b[32m320\u001b[39m         \u001b[43mwaiter\u001b[49m\u001b[43m.\u001b[49m\u001b[43macquire\u001b[49m\u001b[43m(\u001b[49m\u001b[43m)\u001b[49m\n\u001b[32m    321\u001b[39m         gotit = \u001b[38;5;28;01mTrue\u001b[39;00m\n\u001b[32m    322\u001b[39m     \u001b[38;5;28;01melse\u001b[39;00m:\n",
      "\u001b[31mKeyboardInterrupt\u001b[39m: "
     ]
    }
   ],
   "source": [
    "for s in app.stream({\"messages\": [(\"user\", \"What's the square root of 42? and how to write a python code\")]}, subgraphs=True):\n",
    "    print(s)\n",
    "    print(\"**********BELOW IS MY STATE***************\")"
   ]
  }
 ],
 "metadata": {
  "kernelspec": {
   "display_name": "venv",
   "language": "python",
   "name": "python3"
  },
  "language_info": {
   "codemirror_mode": {
    "name": "ipython",
    "version": 3
   },
   "file_extension": ".py",
   "mimetype": "text/x-python",
   "name": "python",
   "nbconvert_exporter": "python",
   "pygments_lexer": "ipython3",
   "version": "3.11.5"
  }
 },
 "nbformat": 4,
 "nbformat_minor": 2
}
