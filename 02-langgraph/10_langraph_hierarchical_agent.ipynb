{
 "cells": [
  {
   "cell_type": "markdown",
   "metadata": {},
   "source": [
    "## Hierarchical Team Agents"
   ]
  },
  {
   "cell_type": "code",
   "execution_count": 1,
   "metadata": {},
   "outputs": [
    {
     "data": {
      "text/plain": [
       "True"
      ]
     },
     "execution_count": 1,
     "metadata": {},
     "output_type": "execute_result"
    }
   ],
   "source": [
    "from dotenv import load_dotenv\n",
    "load_dotenv()"
   ]
  },
  {
   "cell_type": "code",
   "execution_count": 2,
   "metadata": {},
   "outputs": [],
   "source": [
    "import os\n",
    "os.environ[\"OPENAI_API_KEY\"]=os.getenv(\"OPENAI_API_KEY\")\n",
    "os.environ[\"TAVILY_API_KEY\"]=os.getenv(\"TAVILY_API_KEY\")"
   ]
  },
  {
   "cell_type": "code",
   "execution_count": 3,
   "metadata": {},
   "outputs": [],
   "source": [
    "from langchain_openai import ChatOpenAI\n",
    "llm = ChatOpenAI(model=\"gpt-4o\")"
   ]
  },
  {
   "cell_type": "code",
   "execution_count": 4,
   "metadata": {},
   "outputs": [],
   "source": [
    "result = llm.invoke(\"What is the capital of France?\")"
   ]
  },
  {
   "cell_type": "code",
   "execution_count": 5,
   "metadata": {},
   "outputs": [
    {
     "data": {
      "text/plain": [
       "AIMessage(content='The capital of France is Paris.', additional_kwargs={'refusal': None}, response_metadata={'token_usage': {'completion_tokens': 7, 'prompt_tokens': 14, 'total_tokens': 21, 'completion_tokens_details': {'accepted_prediction_tokens': 0, 'audio_tokens': 0, 'reasoning_tokens': 0, 'rejected_prediction_tokens': 0}, 'prompt_tokens_details': {'audio_tokens': 0, 'cached_tokens': 0}}, 'model_name': 'gpt-4o-2024-08-06', 'system_fingerprint': 'fp_07871e2ad8', 'id': 'chatcmpl-Bp71PGeKqyiECDXFWVKMlKBeNdNVf', 'service_tier': 'default', 'finish_reason': 'stop', 'logprobs': None}, id='run--60120b88-e802-4d19-bcb4-91a98877afe5-0', usage_metadata={'input_tokens': 14, 'output_tokens': 7, 'total_tokens': 21, 'input_token_details': {'audio': 0, 'cache_read': 0}, 'output_token_details': {'audio': 0, 'reasoning': 0}})"
      ]
     },
     "execution_count": 5,
     "metadata": {},
     "output_type": "execute_result"
    }
   ],
   "source": [
    "result"
   ]
  },
  {
   "cell_type": "code",
   "execution_count": 6,
   "metadata": {},
   "outputs": [
    {
     "data": {
      "text/plain": [
       "'The capital of France is Paris.'"
      ]
     },
     "execution_count": 6,
     "metadata": {},
     "output_type": "execute_result"
    }
   ],
   "source": [
    "result.content"
   ]
  },
  {
   "cell_type": "markdown",
   "metadata": {},
   "source": [
    "## Creating Tools\n"
   ]
  },
  {
   "cell_type": "code",
   "execution_count": 7,
   "metadata": {},
   "outputs": [
    {
     "name": "stderr",
     "output_type": "stream",
     "text": [
      "USER_AGENT environment variable not set, consider setting it to identify your requests.\n"
     ]
    }
   ],
   "source": [
    "from typing import List,Annotated\n",
    "\n",
    "from langchain_community.document_loaders import WebBaseLoader\n",
    "from langchain_community.tools.tavily_search import TavilySearchResults\n",
    "from langchain_core.tools import tool"
   ]
  },
  {
   "cell_type": "markdown",
   "metadata": {},
   "source": [
    "### Research Team Tools\n"
   ]
  },
  {
   "cell_type": "markdown",
   "metadata": {},
   "source": [
    "- Tool1 : tavily search\n",
    "- Tool2 : web loader\n"
   ]
  },
  {
   "cell_type": "code",
   "execution_count": 8,
   "metadata": {},
   "outputs": [],
   "source": [
    "# Tool1 : tavily search\n",
    "search_tool=TavilySearchResults(max_results=5)\n",
    "\n",
    "# Tool2 : web loader\n",
    "# this tool is used to scrape the web pages for detailed information and store it in a single document\n",
    "@tool\n",
    "def scrape_webpage(url:List[str]):\n",
    "    \"\"\" Use requests and bs4 to scrape the provided web pages for detailed information\"\"\"\n",
    "    loader=WebBaseLoader(web_paths=url)\n",
    "    docs=loader.load()\n",
    "    return \"\\n\\n\".join([\n",
    "        f'<Document name=\"{doc.metadata.get(\"title\",\"\")}\">\\n {doc.page_content}\\n</Document>' for doc in docs\n",
    "    \n",
    "    ])\n",
    "\n",
    "\n"
   ]
  },
  {
   "cell_type": "code",
   "execution_count": 9,
   "metadata": {},
   "outputs": [
    {
     "data": {
      "text/plain": [
       "[{'title': 'What are the three official capitals of France and which one ... - Quora',\n",
       "  'url': 'https://www.quora.com/What-are-the-three-official-capitals-of-France-and-which-one-is-the-most-commonly-visited',\n",
       "  'content': \"What is the capital of France? What are some of its major cities?\\n\\nThe capital of France is Paris. It is not only the country's capital but also its largest city and a global center for art, culture, fashion, and cuisine. Paris is home to iconic landmarks such as the Eiffel Tower, Louvre Museum, Notre-Dame Cathedral, and the Champs-Élysées. [...] The capital of France is Paris. It is not only the country's capital but also its largest city and a global center for art, culture, fashion, and cuisine. Paris is home to iconic landmarks such as the Eiffel Tower, Louvre Museum, Notre-Dame Cathedral, and the Champs-Élysées.\\n\\nApart from Paris, France has several other major cities that are significant in terms of population, economy, history, and cultural importance. Some of these major cities include: [...] France has only one official capital, which is Paris, which is The official capital of France, it is the country's political, cultural, and economic center.\\n\\nUpvote ·\\n\\n92\\n\\nImage 3: Profile photo for Timmon\\n\\nTimmon\\n\\nLived in Europe · Upvoted by\\n\\nJean Marchal\\n\\n, lives in Paris (1960-present) · Author has 16.1K answers and 856.2K answer views\\n\\n · 9mo\",\n",
       "  'score': 0.9408388},\n",
       " {'title': 'What is the Capital of France? - Mappr',\n",
       "  'url': 'https://www.mappr.co/capital-cities/france/',\n",
       "  'content': 'mappr logo\\nmappr logo\\n\\nHome » Capital Cities » What is the Capital of France?\\n\\n# What is the Capital of France?\\n\\nParis is the capital of France. Also known as the “City of Light,” is not only the capital but also the most populous city of France. Paris is renowned globally for its art, fashion, gastronomy, and culture.\\n\\nA map showing France in yellow with surrounding countries in white, major cities marked, and Paris highlighted with a black dot. [...] However, Paris only became the official capital of France during the reign of Clovis I, in the late 5th and early 6th century. Before Clovis, the Merovingian kings did not rule from a fixed capital, but Clovis established his court in Paris, effectively making it the capital. Since then, with some interruptions, Paris has remained the capital of France.',\n",
       "  'score': 0.9401831},\n",
       " {'title': 'What is the Capital of France? Paris - Countryaah.com',\n",
       "  'url': 'https://www.countryaah.com/france-faqs/',\n",
       "  'content': 'France, officially known as the French Republic, is one of the largest and most influential countries in Europe and the world. With a rich cultural history, a global presence in politics, economics, and the arts, and a strong role in the European Union, France is known for its contributions to world civilization. Paris, its capital, is not only the political center but also a cultural and financial epicenter with global influence. [...] Countryaah.com\\n\\nCountryaah.com\\n\\nCountryaah.com\\n\\nCountryaah.com\\n\\n# What is the Capital of France? Paris\\n\\nby \\ncountryaah\\n ·\\nPublished June 2, 2019\\n· Updated November 6, 2024\\n\\nFrance Paris\\n\\nFrance Paris\\n\\n## Capital City of France: Paris\\n\\n### City Overview [...] Paris, the capital city of France, is one of the most famous and influential cities in the world. Located in the northern part of the country along the Seine River, Paris has been a center of culture, art, fashion, and intellectual thought for centuries. The city is often referred to as “The City of Light” due to its historical role as a hub of education and the Enlightenment in the 18th century, as well as the early adoption of street lighting. See Rrrjewelry for other major cities in France.',\n",
       "  'score': 0.9047265},\n",
       " {'title': 'List of capitals of France - Wikipedia',\n",
       "  'url': 'https://en.wikipedia.org/wiki/List_of_capitals_of_France',\n",
       "  'content': 'This is a chronological list of capitals of France. The capital of France has been Paris since its liberation in 1944.\\n\\n## Chronology\\n\\n[edit]',\n",
       "  'score': 0.8993429},\n",
       " {'title': 'Paris facts: the capital of France in history',\n",
       "  'url': 'https://home.adelphi.edu/~ca19535/page%204.html',\n",
       "  'content': 'page 4\\n\\n===============\\n\\nHomeSpainSydneySan FranciscoParisLas VegasMaui\\n\\n Paris, France\\n\\nImage 1\\n\\nParis facts: Paris, the capital of France\\n---------------------------------------------\\n\\nParis is the capital of France, the largest country of Europe with 550 000 km2 (65 millions inhabitants).\\n\\nParis has 2.234 million inhabitants end 2011. She is the core of Ile de France region (12 million people). [...] Before Paris, the capital of France was Lyon (under the Romans). Paris first became the capital of France in 508 under King Clovis. After centuries with no unique capital of France, Paris retrieved its status of capital of France under King Philippe Auguste, who reigned between 1180 and 1223. You can see remains of the Philippe August Paris walls in the passageway between the Louvre parking and Louvre Museum [...] Paris remained the capital of France until today, with one four year interruption. During German occupation (WW2 , 1940-1944), the capital of France was Vichy.\\n\\ngo to top\\n\\nReference:',\n",
       "  'score': 0.89166987}]"
      ]
     },
     "execution_count": 9,
     "metadata": {},
     "output_type": "execute_result"
    }
   ],
   "source": [
    "search_tool.invoke(\"What is the capital of France?\")"
   ]
  },
  {
   "cell_type": "code",
   "execution_count": 10,
   "metadata": {},
   "outputs": [
    {
     "data": {
      "text/plain": [
       "'<Document name=\"Retrieval-Augmented Generation (RAG) from basics to advanced | by Tejpal Kumawat | Medium\">\\n Retrieval-Augmented Generation (RAG) from basics to advanced | by Tejpal Kumawat | MediumSitemapOpen in appSign upSign inMedium LogoWriteSign upSign inRetrieval-Augmented Generation (RAG) from basics to advancedTejpal Kumawat12 min read·Feb 14, 2024--4ListenShareIntroduction:Retrieval-Augmented Generation (RAG) is a technique that enhances language model generation by incorporating external knowledge.This is typically done by retrieving relevant information from a large corpus of documents and using that information to inform the generation process.Challenge:Clients often have vast proprietary documents.Extracting specific information is like finding a needle in a haystack.2. GPT4-Turbo Introduction:OpenAI’s GPT4-Turbo can process large documents.3. Efficiency Issue:“Lost In The Middle” phenomenon hampers efficiency.Model forgets content in the middle of its contextual window.4. Alternative Approach — Retrieval-Augmented-Generation (RAG):Create an index for each document paragraph.Swiftly identify pertinent paragraphs.Feed selected paragraphs into a Large Language Model (LLM) like GPT4.5. Advantages:Prevents information overload.Enhances result quality by providing only relevant paragraphs.The Retrieval Augmented Generation (RAG) PipelineWith RAG, the LLM is able to leverage knowledge and information that is not necessarily in its weights by providing it access to external knowledge sources such as databases.It leverages a retriever to find relevant contexts to condition the LLM, in this way, RAG is able to augment the knowledge-base of an LLM with relevant documents.The retriever here could be any of the following depending on the need for semantic retrieval or not:Vector database: Typically, queries are embedded using models like BERT for generating dense vector embeddings. Alternatively, traditional methods like TF-IDF can be used for sparse embeddings. The search is then conducted based on term frequency or semantic similarity.Graph database: Constructs a knowledge base from extracted entity relationships within the text. This approach is precise but may require exact query matching, which could be restrictive in some applications.Regular SQL database: Offers structured data storage and retrieval but might lack the semantic flexibility of vector databases.The image below from Damien Benveniste, PhD talks a bit about the difference between using Graph vs Vector database for RAG.Graph Databases are favored for Retrieval Augmented Generation (RAG) when compared to Vector Databases. While Vector Databases partition and index data using LLM-encoded vectors, allowing for semantically similar vector retrieval, they may fetch irrelevant data.Graph Databases, on the other hand, build a knowledge base from extracted entity relationships in the text, making retrievals concise. However, it requires exact query matching which can be limiting.A potential solution could be to combine the strengths of both databases: indexing parsed entity relationships with vector representations in a graph database for more flexible information retrieval. It remains to be seen if such a hybrid model exists.After retrieving, you may want to look into filtering the candidates further by adding ranking and/or fine ranking layers that allow you to filter down candidates that do not match your business rules, are not personalized for the user, current context, or response limit.Let’s succinctly summarize the process of RAG and then delve into its pros and cons:Vector Database Creation: RAG starts by converting an internal dataset into vectors and storing them in a vector database (or a database of your choosing).User Input: A user provides a query in natural language, seeking an answer or completion.Information Retrieval: The retrieval mechanism scans the vector database to identify segments that are semantically similar to the user’s query (which is also embedded). These segments are then given to the LLM to enrich its context for generating responses.Combining Data: The chosen data segments from the database are combined with the user’s initial query, creating an expanded prompt.Generating Text: The enlarged prompt, filled with added context, is then given to the LLM, which crafts the final, context-aware response.The image below (source) displays the high-level working of RAG.Difference Between RAG and Gine Tuning of the LLM :Retrieval systems (RAG) give LLM systems access to factual, access-controlled, timely information. Fine tuning can not do this, so there’s no competition.Fine tuning (not RAG) adapts the style, tone, and vocabulary of LLMs so that your linguistic “paint brush” matches the desired domain and styleAll in all, focus on RAG first. A successful LLM application must connect specialized data to the LLM workflow. Once you have a first full application working, you can add fine tuning to improve the style and vocabulary of the system. Fine tuning will not save you if the RAG connection to data is built improperly.Choice of the Vector Database :Building a RAG PipelineThe image below (source), gives a visual overview of the three different steps of RAG: Ingestion, Retrieval, and Synthesis/Response Generation.In the sections below, we will go over these key areas.IngestionChunkingChunking is the process of dividing the prompts and/or the documents to be retrieved, into smaller, manageable segments or chunks. These chunks can be defined either by a fixed size, such as a specific number of characters, sentences or paragraphs.In RAG, each chunk is encoded into an embedding vector for retrieval. Smaller, more precise chunks lead to a finer match between the user’s query and the content, enhancing the accuracy and relevance of the information retrieved.Larger chunks might include irrelevant information, introducing noise and potentially reducing the retrieval accuracy. By controlling the chunk size, RAG can maintain a balance between comprehensiveness and precision.So the next natural question that comes up is, how do you choose the right chunk size for your use case? The choice of chunk size in RAG is crucial. It needs to be small enough to ensure relevance and reduce noise but large enough to maintain the context’s integrity. Let’s look at a few methods below referred from Pinecone:Fixed-size chunking: Simply decide the number of tokens in our chunk along with whether there should be overlap between them or not. Overlap between chunks guarantees there to be minimal semantic context loss between chunks. This option is computationally cheap and simple to implement.text = \"...\" # your textfrom langchain.text_splitter import CharacterTextSplittertext_splitter = CharacterTextSplitter(    separator = \"\\\\n\\\\n\",    chunk_size = 256,    chunk_overlap  = 20)docs = text_splitter.create_documents([text])Context-aware chunking: Content-aware chunking leverages the intrinsic structure of the text to create chunks that are more meaningful and contextually relevant. Here are several approaches to achieving this:Sentence Splitting This method aligns with models optimized for embedding sentence-level content. Different tools and techniques can be used for sentence splitting:Naive Splitting: A basic method where sentences are split using periods and new lines. Example:  text = \"...\"  # Your text   docs = text.split(\".\")NLTK (Natural Language Toolkit): A comprehensive Python library for language processing. NLTK includes a sentence tokenizer that effectively splits text into sentences. Example:text = \"...\"  # Your textfrom langchain.text_splitter import NLTKTextSplittertext_splitter = NLTKTextSplitter()docs = text_splitter.split_text(text)spaCy: An advanced Python library for NLP tasks, spaCy offers efficient sentence segmentation. Example:text = \"...\"  # Your textfrom langchain.text_splitter import SpacyTextSplittertext_splitter = SpacyTextSplitter()docs = text_splitter.split_text(text)Recursive Chunking: Recursive chunking is an iterative method that splits text hierarchically using various separators. It adapts to create chunks of similar size or structure by recursively applying different criteria. Example using LangChain:   text = \"...\"  # Your text   from langchain.text_splitter import RecursiveCharacterTextSplitter   text_splitter = RecursiveCharacterTextSplitter(       chunk_size = 256,       chunk_overlap = 20   )   docs = text_splitter.create_documents([text])“As a rule of thumb, if the chunk of text makes sense without the surrounding context to a human, it will make sense to the language model as well. Therefore, finding the optimal chunk size for the documents in the corpus is crucial to ensuring that the search results are accurate and relevant.” (source)EmbeddingsOnce you have your prompt chunked appropriately, the next step is to embedd it. Embedding prompts and documents in RAG involves transforming both the user’s query (prompt) and the documents in the knowledge base into a format that can be effectively compared for relevance. This process is critical for RAG’s ability to retrieve the most relevant information from its knowledge base in response to a user query. Here’s how it typically works:One option to help pick which embedding model would be best suited for your task is to look at HuggingFace’s Massive Text Embedding Benchmark (MTEB) leaderboard.. There is a question of whether a dense or sparse embedding can be used so let’s look into benefits of each below:Sparse embedding: Sparse embeddings such as TF-IDF are great for lexical matching the prompt with the documents. Best for applications where keyword relevance is crucial. It’s computationally less intensive but may not capture the deeper semantic meanings in the text.Semantic embedding: Semantic embeddings, such as BERT or SentenceBERT lend themselves naturally to the RAG usecase.BERT: Suitable for capturing contextual nuances in both the documents and queries. Requires more computational resources compared to sparse embeddings but offers more semantically rich embeddings.SentenceBERT: Ideal for scenarios where the context and meaning at the sentence level are important. It strikes a balance between the deep contextual understanding of BERT and the need for concise, meaningful sentence representations. This is usually the preferred route for RAGRetrievalLet’s look at two different types of retrieval: standard, sentence window, and auto-merging. Each of these approaches has specific strengths and weaknesses, and their suitability depends on the requirements of the RAG task, including the nature of the dataset, the complexity of the queries, and the desired balance between specificity and contextual understanding in the responses.Standard/Naive ApproachAs we see in the image below (source), the standard pipeline uses the same text chunk for indexing/embedding as well as the output synthesis.In the context of Retrieval-Augmented Generation (RAG) in Large Language Models (LLMs), here are the advantages and disadvantages of the three approaches:AdvantagesSimplicity and Efficiency: This method is straightforward and efficient, using the same text chunk for both embedding and synthesis, simplifying the retrieval process.Uniformity in Data Handling: It maintains consistency in the data used across both retrieval and synthesis phases.DisadvantagesLimited Contextual Understanding: LLMs may require a larger window for synthesis to generate better responses, which this approach may not adequately provide.Potential for Suboptimal Responses: Due to the limited context, the LLM might not have enough information to generate the most relevant and accurate responses.Sentence-Window Retrieval / Small-to-Large ChunkingThe sentence-window approach breaks down documents into smaller units, such as sentences or small groups of sentences.It decouples the embeddings for retrieval tasks (which are smaller chunks stored in a Vector DB), but for synthesis it adds back in the context around the retrieved chunks, as seen in the image below (source).During retrieval, we retrieve the sentences that are most relevant to the query via similarity search and replace the sentence with the full surrounding context (using a static sentence-window around the context, implemented by retrieving sentences surrounding the one being originally retrieved) as shown in the figure below (source).AdvantagesEnhanced Specificity in Retrieval: By breaking documents into smaller units, it enables more precise retrieval of segments directly relevant to a query.Context-Rich Synthesis: It reintroduces context around the retrieved chunks for synthesis, providing the LLM with a broader understanding to formulate responses.Balanced Approach: This method strikes a balance between focused retrieval and contextual richness, potentially improving response quality.DisadvantagesIncreased Complexity: Managing separate processes for retrieval and synthesis adds complexity to the pipeline.Potential Contextual Gaps: There’s a risk of missing broader context if the surrounding information added back is not sufficiently comprehensive.Retriever Ensembling and RerankingThought: what if we could try a bunch of chunk sizes at once, and have a re-ranker prune the results?This achieves two purposes:Better (albeit more costly) retrieved results by pooling results from multiple chunk sizes, assuming the re-ranker has a reasonable level of performance.A way to benchmark different retrieval strategies against each other (w.r.t. the re-ranker).The process is as follows:Chunk up the same document in a bunch of different ways, say with chunk sizes: 128, 256, 512, and 1024.During retrieval, we fetch relevant chunks from each retriever, thus ensembling them together for retrieval.Use a re-ranker to rank/prune results.The following figure (source) delineates the process.Based on evaluation results from LlamaIndex, faithfulness metrics go up slightly for the ensembled approach, indicating retrieved results are slightly more relevant. But pairwise comparisons lead to equal preference for both approaches, making it still questionable as to whether or not ensembling is better.Note that the ensembling strategy can be applied for other aspects of a RAG pipeline too, beyond chunk size, such as vector vs. keyword vs. hybrid search, etc.Re-rankingRe-ranking in RAG refers to the process of evaluating and sorting the retrieved documents or information snippets based on their relevance to the given query or task.There are different types of re-ranking techniques used in RAG:Lexical Re-Ranking: This involves re-ranking based on lexical similarity between the query and the retrieved documents. Methods like BM25 or cosine similarity with TF-IDF vectors are common.Semantic Re-Ranking: This type of re-ranking uses semantic understanding to judge the relevance of documents. It often involves neural models like BERT or other transformer-based models to understand the context and meaning beyond mere word overlap.Learning-to-Rank (LTR) Methods: These involve training a model specifically for the task of ranking documents (point-wise, pair-wise, and list-wise) based on features extracted from both the query and the documents. This can include a mix of lexical, semantic, and other features.Hybrid Methods: These combine lexical and semantic approaches, possibly with other signals like user feedback or domain-specific features, to improve re-ranking.Neural LTR methods are most commonly used at this stage since the candidate set is limited to dozens of samples. Some common neural models used for re-ranking are:Multi-Stage Document Ranking with BERT (monoBERT and duo BERT)Pretrained Transformers for Text Ranking BERT and BeyondListT5ListBERTResponse Generation / SynthesisThe last step of the RAG pipeline is to generate responses back to the user. In this step, the model synthesizes the retrieved information with its pre-trained knowledge to generate coherent and contextually relevant responses. This process involves integrating the insights gleaned from various sources, ensuring accuracy and relevance, and crafting a response that is not only informative but also aligns with the user’s original query, maintaining a natural and conversational tone.Note that while creating the expanded prompt (with the retrieved top-k� chunks) for an LLM to make an informed response generation, a strategic placement of vital information at the beginning or end of input sequences could enhance the RAG system’s effectiveness and thus make the system more performant. This is summarized in the paper below.Lost in the Middle: How Language Models Use Long ContextsWhile recent language models have the ability to take long contexts as input, relatively little is known about how well the language models use longer context.This paper by Liu et al. from Percy Liang’s lab at Stanford, UC Berkeley, and Samaya AI analyzes language model performance on two tasks that require identifying relevant information within their input contexts: multi-document question answering and key-value retrieval. Put simply, they analyze and evaluate how LLMs use the context by identifying relevant information within it.They tested open-source (MPT-30B-Instruct, LongChat-13B) and closed-source (OpenAI’s GPT-3.5-Turbo and Anthropic’s Claude 1.3) models. They used multi-document question-answering where the context included multiple retrieved documents and one correct answer, whose position was shuffled around. Key-value pair retrieval was carried out to analyze if longer contexts impact performance.They find that performance is often highest when relevant information occurs at the beginning or end of the input context, and significantly degrades when models must access relevant information in the middle of long contexts. In other words, their findings basically suggest that Retrieval-Augmentation (RAG) performance suffers when the relevant information to answer a query is presented in the middle of the context window with strong biases towards the beginning and the end of it.A summary of their learnings is as follows:Best performance when the relevant information is at the beginning.Performance decreases with an increase in context length.Too many retrieved documents harm performance.Improving the retrieval and prompt creation step with a ranking stage could potentially boost performance by up to 20%.Extended-context models (GPT-3.5-Turbo vs. GPT-3.5-Turbo (16K)) are not better if the prompt fits the original context.Conclusion:We discussed about the RAG working , reranking , and so many concepts. I hope you find it useful.ThanksReference:NLP * Retrieval Augmented GenerationAman\\'s AI Journal | Course notes and learning material for Artificial Intelligence and Deep Learning Stanford classes.aman.aiWhat is retrieval-augmented generation? | IBM Research BlogRAG is an AI framework for retrieving facts to ground LLMs on the most accurate information and to give users insight…research.ibm.comRetrieval AugmentedLlmVector DatabaseEmbeddingReranking----4Written by Tejpal Kumawat524 followers·96 followingArtificial Intelligence enthusiast that is constantly looking for new challenges and researching cutting-edge technology to improve the world !!Responses (4)See all responsesHelpStatusAboutCareersPressBlogPrivacyRulesTermsText to speech\\n\\n\\n\\n\\n\\n\\n\\n\\n\\n\\n\\n\\n\\n\\n\\n\\n\\n\\n\\n\\n\\n\\n\\n\\n\\n\\n\\n\\n\\n\\n\\n\\n\\n\\n\\n</Document>'"
      ]
     },
     "execution_count": 10,
     "metadata": {},
     "output_type": "execute_result"
    }
   ],
   "source": [
    "# Correct usage: pass a list of URLs directly, not a dict\n",
    "page_urls = [\"https://medium.com/@tejpal.abhyuday/retrieval-augmented-generation-rag-from-basics-to-advanced-a2b068fd576c\"]\n",
    "\n",
    "scrape_webpage.invoke({\"url\": page_urls})\n",
    "\n"
   ]
  },
  {
   "cell_type": "markdown",
   "metadata": {},
   "source": [
    "### Document Team Tools\n"
   ]
  },
  {
   "cell_type": "markdown",
   "metadata": {},
   "source": [
    "- tool1: create_outline\n",
    "- tool2: read_document\n",
    "- tool3: write_document\n",
    "- tool4: edit_document\n",
    "- tool5: python_repl_tool : to execute python codes"
   ]
  },
  {
   "cell_type": "code",
   "execution_count": 11,
   "metadata": {},
   "outputs": [],
   "source": [
    "from pathlib import Path\n",
    "from tempfile import TemporaryDirectory\n",
    "from typing import List,Annotated,Dict,Optional\n",
    "from langchain_experimental.utilities import PythonREPL\n",
    "from typing_extensions import TypedDict\n"
   ]
  },
  {
   "cell_type": "code",
   "execution_count": 12,
   "metadata": {},
   "outputs": [],
   "source": [
    "_TEMP_DIR = TemporaryDirectory()\n",
    "WORKING_DIRECTORY = Path(_TEMP_DIR.name)"
   ]
  },
  {
   "cell_type": "code",
   "execution_count": 13,
   "metadata": {},
   "outputs": [
    {
     "data": {
      "text/plain": [
       "WindowsPath('C:/Users/AKASHS~1/AppData/Local/Temp/tmpfbf2qq7e')"
      ]
     },
     "execution_count": 13,
     "metadata": {},
     "output_type": "execute_result"
    }
   ],
   "source": [
    "# a temporary directory is created to store the documents\n",
    "WORKING_DIRECTORY\n"
   ]
  },
  {
   "cell_type": "code",
   "execution_count": 16,
   "metadata": {},
   "outputs": [],
   "source": [
    "#tool1: create_outline\n",
    "@tool\n",
    "def create_outline(points:Annotated[List[str],\"List of main points or sections\"]\n",
    "                   ,file_name:Annotated[str,\"File path to save the outline\"]) -> Annotated[str,\"File path to the created outline\"]:\n",
    "    \n",
    "    \"\"\"\n",
    "    Create an outline for a document based on the points in documnent and save it to the working directory\n",
    "    \"\"\"\n",
    "\n",
    "    file_path=WORKING_DIRECTORY/f\"{file_name}.txt\"\n",
    "    with open(file_path,\"w\") as f:\n",
    "        for i, point in enumerate(points,start=0):\n",
    "            f.write(f\"{i+1}. {point}\\n\")\n",
    "    return f\"Outline created and saved to {file_path}\"\n",
    "\n",
    "\n",
    "\n"
   ]
  },
  {
   "cell_type": "code",
   "execution_count": 17,
   "metadata": {},
   "outputs": [],
   "source": [
    "# tool2: read_document\n",
    "\n",
    "@tool\n",
    "def read_document(\n",
    "    file_name: Annotated[str,\"File path to read the document from\"],\n",
    "    start: Annotated[Optional[int],\"The start line. Default line starts from 0\"] = None,\n",
    "    end: Annotated[Optional[int],\"The end line. Default line is 0\"]=None\n",
    ")->str:\n",
    "    \"\"\"\n",
    "    Read the specified document which was saved in working directory\n",
    "    \"\"\"\n",
    "    file_path=WORKING_DIRECTORY/f\"{file_name}.txt\"\n",
    "    with open(file_path,\"r\") as f:\n",
    "        lines = f.readlines()\n",
    "    if start is None:\n",
    "        start = 0\n",
    "    return \"\\n\".join(lines[start:end])"
   ]
  },
  {
   "cell_type": "code",
   "execution_count": 18,
   "metadata": {},
   "outputs": [],
   "source": [
    "# tool3: write_document\n",
    "\n",
    "@tool\n",
    "def write_document(content: Annotated[str, \"Text content to be written into the document\"],\n",
    "                   file_name: Annotated[str, \"File path to save the document\"]) -> Annotated[str,\"Path of the saved document file\"]:\n",
    "    \n",
    "    \"\"\"\n",
    "    create and save text document\n",
    "\n",
    "    \"\"\"\n",
    "    with open(WORKING_DIRECTORY/{file_name},\"w\") as f:\n",
    "        f.write(content)\n",
    "    return f\"Document saved to {file_name}\"\n",
    "    "
   ]
  },
  {
   "cell_type": "code",
   "execution_count": 19,
   "metadata": {},
   "outputs": [],
   "source": [
    "# tool4: edit_document\n",
    "\n",
    "@tool\n",
    "def edit_document(file_name: Annotated[str, \"path of the document to be edited\"],\n",
    "                  inserts: Annotated[\n",
    "                            dict[int,str],\n",
    "                            \"Dictionary where key is the line number (1-indexed) and value is the text to be inserted at the line number\"\n",
    "                                     ]) -> Annotated[str, \"Path of the edited document file\"]:\n",
    "    \n",
    "    \"Edit the document by inserting text at specific line number\"\n",
    "    with open(WORKING_DIRECTORY/{file_name},\"r\") as f:\n",
    "        lines = f.readlines()\n",
    "\n",
    "    sorted_inserts = sorted(inserts.items())\n",
    "\n",
    "    for line_number, text in sorted_inserts:\n",
    "        if 1<=line_number<=len(lines)+1:\n",
    "            lines.insert(line_number - 1, text + \"\\n\")\n",
    "        else:\n",
    "            return f\"Error: Line number {line_number} is our to range\"\n",
    "        \n",
    "    with open(WORKING_DIRECTORY/{file_name},\"w\") as f:\n",
    "        f.writelines(lines)\n",
    "\n",
    "    return f\"Documenet edited and saved to {file_name}\"\n",
    "            \n"
   ]
  },
  {
   "cell_type": "code",
   "execution_count": 20,
   "metadata": {},
   "outputs": [],
   "source": [
    "repl = PythonREPL()\n",
    "\n",
    "@tool\n",
    "def python_repl_tool(\n",
    "    code: Annotated[str, \"The python code to execute to generate your chart.\"],\n",
    "):\n",
    "    \"\"\"Use this to execute python code. If you want to see the output of a value,\n",
    "    you should print it out with `print(...)`. This is visible to the user.\"\"\"\n",
    "    \n",
    "    try:\n",
    "        result = repl.run(code)\n",
    "    except BaseException as e:\n",
    "        return f\"Failed to execute. Error: {repr(e)}\"\n",
    "    \n",
    "    return f\"Successfully executed:\\n\\`\\`\\`python\\n{code}\\n\\`\\`\\`\\nStdout: {result}\"\n",
    "\n",
    "    "
   ]
  },
  {
   "cell_type": "markdown",
   "metadata": {},
   "source": [
    "## Helper Utilities"
   ]
  },
  {
   "cell_type": "code",
   "execution_count": 24,
   "metadata": {},
   "outputs": [],
   "source": [
    "from typing import List, Optional, Literal\n",
    "from langchain_core.language_models.chat_models import BaseChatModel\n",
    "from langgraph.graph import StateGraph, MessagesState,START,END\n",
    "from langgraph.types import Command\n",
    "from langchain_core.messages import HumanMessage, trim_messages\n",
    "\n",
    "\n",
    "class State(MessagesState):\n",
    "    next:str\n",
    "\n",
    "def make_supervisor_node(llm:BaseChatModel, members: list[str]) -> str:\n",
    "\n",
    "    options = [\"FINISH\"] + members\n",
    "\n",
    "    system_prompt = (\n",
    "        \"You are a supervisor tasked with managing a conversation between the\"\n",
    "        f\" following workers: {members}. Given the following user request,\"\n",
    "        \" respond with the worker to act next. Each worker will perform a\"\n",
    "        \" task and respond with their results and status. When finished,\"\n",
    "        \" respond with FINISH.\"\n",
    "    )\n",
    "\n",
    "    class Router(TypedDict):\n",
    "        \"Worker to rout to next. If no workers needed, rout to FINISH\"\n",
    "        next: Literal[*options]\n",
    "\n",
    "    def supervisor_node(state:State) -> Command[Literal[*members, \"__end__\"]]:\n",
    "        \"\"\"An LLM-based router.\"\"\"\n",
    "\n",
    "        messages = [{\"role\":\"system\", \n",
    "                     \"content\":system_prompt}] + state[\"messages\"]\n",
    "        \n",
    "        response = llm.with_structured_output(Router).invoke(messages)\n",
    "        goto = response[\"next\"]\n",
    "\n",
    "        if goto == \"FINISH\":\n",
    "            goto = END\n",
    "\n",
    "        return Command(goto=goto, update={\"next\":goto})\n",
    "    \n",
    "    return supervisor_node"
   ]
  },
  {
   "cell_type": "markdown",
   "metadata": {},
   "source": [
    "## Defining Agents\n"
   ]
  },
  {
   "cell_type": "markdown",
   "metadata": {},
   "source": [
    "### Research Team"
   ]
  },
  {
   "cell_type": "code",
   "execution_count": null,
   "metadata": {},
   "outputs": [],
   "source": []
  },
  {
   "cell_type": "code",
   "execution_count": 25,
   "metadata": {},
   "outputs": [],
   "source": [
    "from langchain_core.messages import HumanMessage\n",
    "from langchain_openai import ChatOpenAI\n",
    "from langgraph.prebuilt import create_react_agent\n",
    "\n",
    "llm = ChatOpenAI(model=\"gpt-4o\")\n",
    "\n"
   ]
  },
  {
   "cell_type": "code",
   "execution_count": 26,
   "metadata": {},
   "outputs": [],
   "source": [
    "search_agent = create_react_agent(llm, tools=[search_tool])\n",
    "\n",
    "def search_node(state:State) -> Command[Literal[\"supervisor\"]]:\n",
    "\n",
    "    result = search_agent.invoke(state)\n",
    "\n",
    "    return Command( \n",
    "        update={\"messages\":[\n",
    "            HumanMessage(content=result[\"messages\"][-1].content, name = \"search\")\n",
    "        ]},\n",
    "        goto=\"supervisor\"\n",
    "    )"
   ]
  },
  {
   "cell_type": "code",
   "execution_count": null,
   "metadata": {},
   "outputs": [],
   "source": []
  },
  {
   "cell_type": "code",
   "execution_count": 27,
   "metadata": {},
   "outputs": [],
   "source": [
    "web_scraper_agent = create_react_agent(llm, tools=[scrape_webpage])\n",
    "\n",
    "def web_scraper_node(state: State) -> Command[Literal[\"supervisor\"]]:\n",
    "    result = web_scraper_agent.invoke(state)\n",
    "\n",
    "    return Command(\n",
    "        update={\"messages\": [\n",
    "            HumanMessage(content=result[\"messages\"][-1].content, name=\"web_scraper\")\n",
    "        ]},\n",
    "        goto=\"supervisor\"\n",
    "\n",
    "\n",
    "    )"
   ]
  },
  {
   "cell_type": "code",
   "execution_count": 28,
   "metadata": {},
   "outputs": [],
   "source": [
    "research_supervisor_node = make_supervisor_node(llm,[\"search\",\"web_scraper\"])"
   ]
  },
  {
   "cell_type": "code",
   "execution_count": 29,
   "metadata": {},
   "outputs": [],
   "source": [
    "research_builder = StateGraph(State)\n",
    "\n",
    "research_builder.add_node(\"supervisor\",research_supervisor_node)\n",
    "research_builder.add_node(\"search\",search_node)\n",
    "research_builder.add_node(\"web_scraper\",web_scraper_node)\n",
    "\n",
    "research_builder.add_edge(START,\"supervisor\")\n",
    "research_graph = research_builder.compile()"
   ]
  },
  {
   "cell_type": "code",
   "execution_count": 30,
   "metadata": {},
   "outputs": [
    {
     "data": {
      "image/png": "[encoded data removed]",
      "text/plain": [
       "<IPython.core.display.Image object>"
      ]
     },
     "metadata": {},
     "output_type": "display_data"
    }
   ],
   "source": [
    "from IPython.display import display,Image\n",
    "display(Image(research_graph.get_graph().draw_mermaid_png()))"
   ]
  },
  {
   "cell_type": "code",
   "execution_count": 46,
   "metadata": {},
   "outputs": [
    {
     "name": "stdout",
     "output_type": "stream",
     "text": [
      "{'supervisor': {'next': 'search'}}\n",
      "{'search': {'messages': [HumanMessage(content='\"Rag\" can refer to different concepts depending on the context:\\n\\n1. **Retrieval-Augmented Generation (RAG)**: This is a process used in artificial intelligence to optimize the output of large language models by referencing an authoritative knowledge base outside of the models\\' training data. This approach helps to present accurate information with source attribution, increasing trust in AI-generated content. You can learn more about RAG in AI on [AWS\\'s page](https://aws.amazon.com/what-is/retrieval-augmented-generation/).\\n\\n2. **Etymology and General Meaning**:\\n   - **Old Cloth**: Historically, \"rag\" refers to a piece of old cloth often used for cleaning purposes. The term comes from a Scandinavian root and is related to the word \"rug\".\\n   - **Clothing**: It can also refer to old, torn clothes or inexpensive clothing.\\n   - **Publishing**: In a more informal and negative sense, \"rag\" has been used to describe low-quality newspapers.\\n   - **Music**: \"Rag\" is also associated with music, specifically referring to \"ragtime,\" a genre of jazz music from the late 19th century. See more detailed etymology on [Etymonline](https://www.etymonline.com/word/rag).\\n  \\n3. **Literature and Synonyms**:\\n   - **Annoyance**: As a verb, \"to rag\" means to tease or harass someone.\\n   - **Synonyms**: Some synonyms for \"rag\" in the context of pieces of fabric include \"shred,\" \"tatter,\" or \"tag.\" For newspapers, synonyms might include \"sheet\" or \"tabloid.\" More definitions can be found on [Vocabulary.com](https://www.vocabulary.com/dictionary/rag).\\n\\nFor a comprehensive understanding and definitions, you might want to look at the [Collins Dictionary](https://www.collinsdictionary.com/us/dictionary/english/rag) and [Merriam-Webster](https://www.merriam-webster.com/dictionary/rag).', additional_kwargs={}, response_metadata={}, name='search', id='e2c8ab9d-300c-4ffd-91ab-466cf62b5d81')]}}\n",
      "{'supervisor': {'next': 'search'}}\n",
      "{'search': {'messages': [HumanMessage(content='The term \"Rag\" can refer to different concepts depending on the context:\\n\\n### Retrieval-Augmented Generation (RAG) in AI\\n- **RAG** is a technique in artificial intelligence that combines retrieval-based AI systems with generative models to improve the quality and accuracy of responses. This approach uses external knowledge sources to supplement large language models (LLMs). Companies like [Google Cloud](https://cloud.google.com/use-cases/retrieval-augmented-generation) and [IBM](https://research.ibm.com/blog/retrieval-augmented-generation-RAG) have implemented RAG to deliver more relevant and authoritative AI outputs.\\n- **Resources**:\\n  - [Cohesity\\'s Glossary on RAG](https://www.cohesity.com/glossary/retrieval-augmented-generation-rag/)\\n  - [Azure AI Search Overview](https://learn.microsoft.com/en-us/azure/search/retrieval-augmented-generation-overview)\\n  - [IBM Think on RAG](https://www.ibm.com/think/topics/retrieval-augmented-generation)\\n\\n### Etymology and General Meaning of \"Rag\"\\n- Historically, \"rag\" refers to a piece of old cloth, often from the Proto-Germanic root related to tearing or ripping. It could also imply a low-quality or shabby item. Additionally, \"rag\" can denote a low-quality newspaper or shabby clothing.\\n- **Etymology source**: [Etymonline on \"Rag\"](https://www.etymonline.com/word/rag)\\n\\n### Synonyms and Usage\\n- The word \"rag\" has several synonyms, including shred, tatter, tag, and in different contexts, it also refers to newspapers or periodicals derogatively labeled as \"rags.\"\\n- It can also mean to tease or harass someone in a verb form.\\n- **Resources**:\\n  - [Vocabulary.com\\'s Definition and Synonyms for \"Rag\"](https://www.vocabulary.com/dictionary/rag)\\n  - [Collins Dictionary Thesaurus](https://www.collinsdictionary.com/us/dictionary/english-thesaurus/rag)\\n  - [Thesaurus.com Synonyms for \"Rag\"](https://www.thesaurus.com/browse/rag)\\n\\nThese definitions show the broad range of meanings \"rag\" can have, from AI technology to everyday language and idioms.', additional_kwargs={}, response_metadata={}, name='search', id='8dd7af98-b535-43ea-b3fb-2ba500858545')]}}\n",
      "{'supervisor': {'next': '__end__'}}\n"
     ]
    }
   ],
   "source": [
    "for s in research_graph.stream(\n",
    "    {\"messages\":[(\"user\",\"what is Rag? provide some references\")]},\n",
    "    {\"recursion_limit\": 25}):\n",
    "\n",
    "    print(s)"
   ]
  },
  {
   "cell_type": "code",
   "execution_count": 32,
   "metadata": {},
   "outputs": [
    {
     "name": "stdout",
     "output_type": "stream",
     "text": [
      "{'supervisor': {'next': 'web_scraper'}}\n",
      "-----\n",
      "{'web_scraper': {'messages': [HumanMessage(content='I have successfully scraped the article titled \"Retrieval-Augmented Generation (RAG) from basics to advanced\" by Tejpal Kumawat from Medium. Here is a summary of the key points covered in the article:\\n\\n### Introduction\\n- **Retrieval-Augmented Generation (RAG)**: An approach to enhance language model generation by incorporating external knowledge. It involves retrieving relevant information from a large corpus and using it to inform the generation process.\\n- **Challenges**: Dealing with vast proprietary documents and the \"Lost In The Middle\" phenomenon where the model forgets content in the middle of its context window.\\n\\n### Efficiency and Alternative Approach\\n- **RAG**: Uses indexing to swiftly identify pertinent paragraphs and enhance the quality of results by focusing on relevant information.\\n- **Pipeline**: Combines retrieved data with user queries to generate enriched, context-aware responses.\\n\\n### Data Structures\\n- **Vector Database**: Queries are embedded for semantic retrieval. Vector databases allow semantically similar vector retrieval but may fetch irrelevant data.\\n- **Graph Database**: Builds a knowledge base from extracted entity relationships, offering concise retrieval but requiring exact query matching.\\n\\n### RAG Process\\n1. **Ingestion**: Dividing documents into manageable chunks for precise retrieval.\\n2. **Embeddings**: Transforming text into formats for relevance comparison.\\n3. **Retrieval**: Employing various techniques like standard, sentence-window, and auto-merging retrieval for specifying contextually-rich responses.\\n4. **Re-ranking**: Ordering retrieved information based on relevance using lexical, semantic, and learning-to-rank methods.\\n\\n### Conclusions\\n- Focus on using RAG to connect specialized data to the LLM workflow effectively.\\n- Fine-tune the LLM for style after establishing a robust RAG connection to data.\\n\\nThe article provides a detailed exploration of how RAG can be integrated into language model workflows, highlighting the importance of choosing the right data structures and processing techniques to improve information retrieval and response accuracy.', additional_kwargs={}, response_metadata={}, name='web_scraper', id='08d70cc5-05a7-4cb3-92dd-0a08a7245f61')]}}\n",
      "-----\n",
      "{'supervisor': {'next': '__end__'}}\n",
      "-----\n"
     ]
    }
   ],
   "source": [
    "for s in research_graph.stream(\n",
    "    {\"messages\":[(\"user\",\"scrape the article from following link : https://medium.com/@tejpal.abhyuday/retrieval-augmented-generation-rag-from-basics-to-advanced-a2b068fd576c\")]},\n",
    "    {\"recursion_limit\": 25}):\n",
    "\n",
    "    print(s)\n",
    "    print(\"-----\")"
   ]
  },
  {
   "cell_type": "code",
   "execution_count": null,
   "metadata": {},
   "outputs": [],
   "source": []
  },
  {
   "cell_type": "markdown",
   "metadata": {},
   "source": [
    "### Document Creation Team"
   ]
  },
  {
   "cell_type": "code",
   "execution_count": 33,
   "metadata": {},
   "outputs": [],
   "source": [
    "llm = ChatOpenAI(model=\"gpt-4o\")\n",
    "\n",
    "doc_writer_agent = create_react_agent(\n",
    "    llm,\n",
    "    tools=[write_document, read_document, edit_document],\n",
    "    prompt=(\n",
    "        \"you can read, write and edit documents based on note-taker's outlines.\"\n",
    "        \"Don't ask follow-up questions.\"\n",
    "    )\n",
    "\n",
    ")\n",
    "\n",
    "def doc_writing_node(state: State) -> Command[Literal[\"supervisor\"]]:\n",
    "    result = doc_writer_agent.invoke(state)\n",
    "    return Command(\n",
    "        update={\n",
    "            \"messages\":[\n",
    "                HumanMessage(content=result[\"messages\"][-1].content, name=\"doc_writer\")\n",
    "            ]\n",
    "        },\n",
    "        goto =\"supervisor\"\n",
    "\n",
    "    )\n"
   ]
  },
  {
   "cell_type": "code",
   "execution_count": 34,
   "metadata": {},
   "outputs": [],
   "source": [
    "note_taking_agent = create_react_agent(\n",
    "    llm,\n",
    "    tools=[create_outline, read_document],\n",
    "    prompt=(\n",
    "        \"you can read and create outlines from the document writer.\"\n",
    "        \"Don't ask follow-up questions.\"\n",
    "    )\n",
    ")\n",
    "\n",
    "def note_taking_node(state: State) -> Command[Literal[\"supervisor\"]]:\n",
    "    result = doc_writer_agent.invoke(state)\n",
    "    return Command(\n",
    "        update={\n",
    "            \"messages\":[\n",
    "                HumanMessage(content=result[\"messages\"][-1].content, name=\"note_taking\")\n",
    "            ]\n",
    "        },\n",
    "        goto =\"supervisor\"\n",
    "    )"
   ]
  },
  {
   "cell_type": "code",
   "execution_count": 35,
   "metadata": {},
   "outputs": [],
   "source": [
    "chart_generating_agent = create_react_agent(\n",
    "    llm, tools=[read_document,python_repl_tool]\n",
    ")\n",
    "\n",
    "def chart_generating_node(state:State) -> Command[Literal[\"supervisor\"]]:\n",
    "    result = chart_generating_agent.invoke(state)\n",
    "    return Command(\n",
    "        update={\n",
    "            \"messages\":[\n",
    "                HumanMessage(content=result[\"messages\"][-1].content, name=\"chart_generator\")\n",
    "            ]\n",
    "        },\n",
    "        # We want our workers to ALWAYS \"report back\" to the supervisor when done\n",
    "        goto =\"supervisor\"\n",
    "    )"
   ]
  },
  {
   "cell_type": "code",
   "execution_count": 36,
   "metadata": {},
   "outputs": [],
   "source": [
    "doc_writer_supervior_node = make_supervisor_node(\n",
    "    llm, [\"doc_writer\",\"note_taking\",\"chart_generator\"]\n",
    ")"
   ]
  },
  {
   "cell_type": "code",
   "execution_count": 37,
   "metadata": {},
   "outputs": [],
   "source": [
    "# Create the graph here\n",
    "paper_writing_builder = StateGraph(State)\n",
    "\n",
    "paper_writing_builder.add_node(\"supervisor\",doc_writer_supervior_node)\n",
    "paper_writing_builder.add_node(\"doc_writer\",doc_writing_node)\n",
    "paper_writing_builder.add_node(\"note_taking\",note_taking_node)\n",
    "paper_writing_builder.add_node(\"chart_generator\",chart_generating_node)\n",
    "\n",
    "paper_writing_builder.add_edge(START,\"supervisor\")\n",
    "paper_writing_builder = paper_writing_builder.compile()"
   ]
  },
  {
   "cell_type": "code",
   "execution_count": 38,
   "metadata": {},
   "outputs": [
    {
     "data": {
      "image/png": "[encoded data removed]",
      "text/plain": [
       "<IPython.core.display.Image object>"
      ]
     },
     "metadata": {},
     "output_type": "display_data"
    }
   ],
   "source": [
    "from IPython.display import display,Image\n",
    "display(Image(paper_writing_builder.get_graph().draw_mermaid_png()))"
   ]
  },
  {
   "cell_type": "code",
   "execution_count": 39,
   "metadata": {},
   "outputs": [
    {
     "name": "stdout",
     "output_type": "stream",
     "text": [
      "{'supervisor': {'next': 'doc_writer'}}\n",
      "----\n",
      "{'doc_writer': {'messages': [HumanMessage(content=\"It appears I'm unable to save the document at the moment due to a recurrent issue. I apologize for the inconvenience. You may want to try saving the poem manually on your device:\\n\\n```\\nTitle: Ode to the Feline\\n\\nIntroduction  \\nIn a sunlit corner, a cat lies in repose,  \\nFur aglow with golden strokes of light,  \\nWhiskers twitching, eyes gently closed,  \\nA creature of elegance and delight.  \\n\\nDaily Life  \\nCuriosity leads you to every nook,  \\nPaws silent on the wandering path,  \\nA sudden leap, a whirl, a playful glance,  \\nChasing shadows in your static dance.  \\nGroomed with care, you pause and rest,  \\nIn the heart of peace, you've built your nest.\\n\\nNighttime  \\nUnder the moon's gentle watch, you prowl,  \\nA silent hunter in the midnight's shroud,  \\nSoft paws trace the secret paths of night,  \\nGuided by stars, ever alert and bright.\\n\\nThe Mystery of Cats  \\nWhat whispers lie within those knowing eyes?  \\nWhat dreams unfold beneath your quiet guise?  \\nIndependent spirit, free and aloof,  \\nYet bound to us by unseen truth.\\n\\nConclusion  \\nDear companion, in your warmth, we find our peace,  \\nA silent guardian until night's release,  \\nIn your purr, a song as old as time,  \\nIn our hearts, forever intertwined.\\n```\\n\\nYou can use any text editor to create and save the content.\", additional_kwargs={}, response_metadata={}, name='doc_writer', id='0f626512-504f-4ee3-bfdb-607b0dbfe6ab')]}}\n",
      "----\n",
      "{'supervisor': {'next': 'note_taking'}}\n",
      "----\n",
      "{'note_taking': {'messages': [HumanMessage(content='It seems there\\'s an error with saving the document. You may want to manually copy and paste the poem into a text editor on your device to save it. Here is the poem for you to use:\\n\\n```\\nTitle: Ode to the Feline\\n\\nIntroduction  \\nIn a sunlit corner, a cat lies in repose,  \\nFur aglow with golden strokes of light,  \\nWhiskers twitching, eyes gently closed,  \\nA creature of elegance and delight.  \\n\\nDaily Life  \\nCuriosity leads you to every nook,  \\nPaws silent on the wandering path,  \\nA sudden leap, a whirl, a playful glance,  \\nChasing shadows in your static dance.  \\nGroomed with care, you pause and rest,  \\nIn the heart of peace, you\\'ve built your nest.\\n\\nNighttime  \\nUnder the moon\\'s gentle watch, you prowl,  \\nA silent hunter in the midnight\\'s shroud,  \\nSoft paws trace the secret paths of night,  \\nGuided by stars, ever alert and bright.\\n\\nThe Mystery of Cats  \\nWhat whispers lie within those knowing eyes?  \\nWhat dreams unfold beneath your quiet guise?  \\nIndependent spirit, free and aloof,  \\nYet bound to us by unseen truth.\\n\\nConclusion  \\nDear companion, in your warmth, we find our peace,  \\nA silent guardian until night\\'s release,  \\nIn your purr, a song as old as time,  \\nIn our hearts, forever intertwined.\\n```\\n\\nPlease copy the above text and save it to a file named \"ode_to_the_feline_poem.txt\" using any text editor.', additional_kwargs={}, response_metadata={}, name='note_taking', id='3bc5fa26-3f56-4028-b9bd-dc5e346fd8e6')]}}\n",
      "----\n",
      "{'supervisor': {'next': '__end__'}}\n",
      "----\n"
     ]
    }
   ],
   "source": [
    "for s in paper_writing_builder.stream(\n",
    "    {\n",
    "        \"messages\":[\n",
    "            (\n",
    "                \"user\",\n",
    "                \"Write an outline for poem about cats and then write the poem to the disk\"\n",
    "            )\n",
    "        ]\n",
    "    },\n",
    "    {\"recursion_limit\":25}\n",
    "):\n",
    "    print(s)\n",
    "    print(\"----\")"
   ]
  },
  {
   "cell_type": "code",
   "execution_count": 40,
   "metadata": {},
   "outputs": [],
   "source": [
    "from langchain_core.messages import BaseMessage\n",
    "\n",
    "llm = ChatOpenAI(model=\"gpt-4o\")\n"
   ]
  },
  {
   "cell_type": "code",
   "execution_count": 50,
   "metadata": {},
   "outputs": [],
   "source": [
    "def call_research_team(state:State) -> Command[Literal[\"supervisor\"]]:\n",
    "    response = research_graph.invoke({\"messages\":state[\"messages\"][-1] } )\n",
    "    return Command(\n",
    "        update={\n",
    "            \"messages\":[\n",
    "                HumanMessage(content=response[\"messages\"][-1].content, name=\"research_team\")\n",
    "            ]\n",
    "        },\n",
    "        goto =\"supervisor\"\n",
    "    )\n",
    "\n",
    "\n",
    "def call_paper_writing_team(state:State) -> Command[Literal[\"supervisor\"]]:\n",
    "    response = paper_writing_builder.invoke({\"messages\":state[\"messages\"][-1] } )\n",
    "    return Command(\n",
    "        update={\n",
    "            \"messages\":[\n",
    "                HumanMessage(content=response[\"messages\"][-1].content, name=\"writing_team\")\n",
    "            ]\n",
    "        },\n",
    "        goto =\"supervisor\"\n",
    "    )\n",
    "    \n",
    "teams_supervisor_node = make_supervisor_node(llm, [\"research_team\",\"writing_team\"])"
   ]
  },
  {
   "cell_type": "code",
   "execution_count": 51,
   "metadata": {},
   "outputs": [],
   "source": [
    "super_builder = StateGraph(State)\n",
    "super_builder.add_node(\"supervisor\", teams_supervisor_node)\n",
    "super_builder.add_node(\"research_team\", call_research_team)\n",
    "super_builder.add_node(\"writing_team\", call_paper_writing_team)\n",
    "\n",
    "super_builder.add_edge(START,\"supervisor\")\n",
    "super_graph = super_builder.compile()"
   ]
  },
  {
   "cell_type": "code",
   "execution_count": 52,
   "metadata": {},
   "outputs": [
    {
     "data": {
      "image/png": "[encoded data removed]",
      "text/plain": [
       "<IPython.core.display.Image object>"
      ]
     },
     "metadata": {},
     "output_type": "display_data"
    }
   ],
   "source": [
    "from IPython.display import display,Image\n",
    "display(Image(super_graph.get_graph().draw_mermaid_png()))"
   ]
  },
  {
   "cell_type": "code",
   "execution_count": 53,
   "metadata": {},
   "outputs": [
    {
     "name": "stdout",
     "output_type": "stream",
     "text": [
      "{'supervisor': {'next': 'research_team'}}\n",
      "----\n",
      "{'research_team': {'messages': [HumanMessage(content='### What is Retrieval-Augmented Generation (RAG)?\\n\\nRetrieval-Augmented Generation (RAG) is an AI framework designed to enhance the capabilities of Large Language Models (LLMs) by retrieving pertinent information from external sources before generating responses. This approach aids in grounding the LLMs on the most accurate information, thereby improving the quality and context-awareness of the responses provided to users.\\n\\n### Outline of the Article \"Retrieval-Augmented Generation (RAG) from Basics to Advanced\"\\n\\n#### 1. Introduction\\n   - Introduction to retrieval-augmented generation and its significance in LLMs.\\n   - Overview of alternative approaches and challenges solved by RAG.\\n\\n#### 2. RAG Structure and Process\\n   - Explanation of the RAG pipeline.\\n   - Step-by-step process of how RAG leverages databases for augmenting data in LLMs.\\n   \\n#### 3. Capabilities and Advantages\\n   - Details on improved result quality from dynamic retrieval.\\n   - Ongoing challenges like information overload tackled by RAG.\\n\\n#### 4. Building Blocks of RAG\\n   - Understanding of sentence-window retrieval and small-to-large chunking.\\n   - Methods of retriever ensembling and re-ranking.\\n\\n#### 5. Practical Applications\\n   - Example use cases and practical implementation strategies.\\n   - How RAG connects specific data before fine-tuning for style and context.\\n\\n#### 6. Conclusion\\n   - Summary of RAG\\'s utility and effectiveness in augmenting language models with relevant data.\\n\\nThis outline represents the comprehensive structure of the article \"Retrieval-Augmented Generation (RAG) from Basics to Advanced\" available on Medium by Tejpal Kumawat.', additional_kwargs={}, response_metadata={}, name='research_team', id='d41aef4e-7662-4b89-9d1a-22150f9450f0')]}}\n",
      "----\n",
      "{'supervisor': {'next': 'writing_team'}}\n",
      "----\n",
      "{'writing_team': {'messages': [HumanMessage(content=\"If you're trying to save or access a document and facing issues, you might consider the following steps:\\n\\n1. **Check Internet Connection:** Ensure you have a stable internet connection, especially if you're saving the document to a cloud service.\\n\\n2. **Try Another Method:** If you're using a specific application, try a different one. For example, if you were saving to a cloud service, try saving locally or vice versa.\\n\\n3. **Clear Cache/Restart Application:** If you're encountering a software glitch, clearing the cache or restarting the application might resolve the issue.\\n\\n4. **Check Storage Space:** Ensure you have enough storage space wherever you are trying to save the document.\\n\\n5. **Seek Technical Support:** If the problem persists, contact the technical support of the service or application you are using.\\n\\nIf you need help with anything else or have specific questions, feel free to ask!\", additional_kwargs={}, response_metadata={}, name='writing_team', id='6a0adecd-782c-47d7-804e-f107a7fd9890')]}}\n",
      "----\n",
      "{'supervisor': {'next': 'writing_team'}}\n",
      "----\n",
      "{'writing_team': {'messages': [HumanMessage(content=\"If you're trying to save or access a document and facing issues, you might consider the following steps:\\n\\n1. **Check Internet Connection:** Ensure you have a stable internet connection, especially if you're saving the document to a cloud service.\\n\\n2. **Try Another Method:** If you're using a specific application, try a different one. For example, if you were saving to a cloud service, try saving locally or vice versa.\\n\\n3. **Clear Cache/Restart Application:** If you're encountering a software glitch, clearing the cache or restarting the application might resolve the issue.\\n\\n4. **Check Storage Space:** Ensure you have enough storage space wherever you are trying to save the document.\\n\\n5. **Seek Technical Support:** If the problem persists, contact the technical support of the service or application you are using.\\n\\nIf you need help with anything else or have specific questions, feel free to ask!\", additional_kwargs={}, response_metadata={}, name='writing_team', id='28a8186a-5c79-401e-bf53-00f51f316fd1')]}}\n",
      "----\n",
      "{'supervisor': {'next': '__end__'}}\n",
      "----\n"
     ]
    }
   ],
   "source": [
    "for s in super_graph.stream(\n",
    "    {\n",
    "        \"messages\":[\n",
    "            (\n",
    "                \"user\",\n",
    "                \"What is RAG, check answer from the article from following link : https://medium.com/@tejpal.abhyuday/retrieval-augmented-generation-rag-from-basics-to-advanced-a2b068fd576c, and then generate outline and save the result\"\n",
    "            )\n",
    "        ]\n",
    "    },\n",
    "    {\"recursion_limit\":50}\n",
    "):\n",
    "    print(s)\n",
    "    print(\"----\")"
   ]
  }
 ],
 "metadata": {
  "kernelspec": {
   "display_name": "venv",
   "language": "python",
   "name": "python3"
  },
  "language_info": {
   "codemirror_mode": {
    "name": "ipython",
    "version": 3
   },
   "file_extension": ".py",
   "mimetype": "text/x-python",
   "name": "python",
   "nbconvert_exporter": "python",
   "pygments_lexer": "ipython3",
   "version": "3.11.5"
  }
 },
 "nbformat": 4,
 "nbformat_minor": 2
}
