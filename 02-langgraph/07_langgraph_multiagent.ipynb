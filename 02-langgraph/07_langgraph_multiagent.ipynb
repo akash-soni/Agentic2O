{
 "cells": [
  {
   "cell_type": "code",
   "execution_count": 1,
   "id": "ce785044",
   "metadata": {},
   "outputs": [],
   "source": [
    "from dotenv import load_dotenv"
   ]
  },
  {
   "cell_type": "code",
   "execution_count": 2,
   "id": "b4299bc3",
   "metadata": {},
   "outputs": [
    {
     "data": {
      "text/plain": [
       "True"
      ]
     },
     "execution_count": 2,
     "metadata": {},
     "output_type": "execute_result"
    }
   ],
   "source": [
    "load_dotenv()"
   ]
  },
  {
   "cell_type": "code",
   "execution_count": 3,
   "id": "b723455a",
   "metadata": {},
   "outputs": [],
   "source": [
    "import os\n",
    "os.environ[\"OPENAI_API_KEY\"]=os.getenv(\"OPENAI_API_KEY\")"
   ]
  },
  {
   "cell_type": "code",
   "execution_count": 4,
   "id": "2abe5ba9",
   "metadata": {},
   "outputs": [],
   "source": [
    "from langchain_openai import ChatOpenAI\n",
    "llm = ChatOpenAI(model=\"gpt-4o\")"
   ]
  },
  {
   "cell_type": "code",
   "execution_count": 5,
   "id": "25b19322",
   "metadata": {},
   "outputs": [
    {
     "data": {
      "text/plain": [
       "AIMessage(content=\"Hello! I'm just a computer program, so I don't have feelings, but I'm here to help you. How can I assist you today?\", additional_kwargs={'refusal': None}, response_metadata={'token_usage': {'completion_tokens': 28, 'prompt_tokens': 13, 'total_tokens': 41, 'completion_tokens_details': {'accepted_prediction_tokens': 0, 'audio_tokens': 0, 'reasoning_tokens': 0, 'rejected_prediction_tokens': 0}, 'prompt_tokens_details': {'audio_tokens': 0, 'cached_tokens': 0}}, 'model_name': 'gpt-4o-2024-08-06', 'system_fingerprint': 'fp_a288987b44', 'id': 'chatcmpl-Bn1gcfk7Vu6Zd3qeyk44zE4yHjSN5', 'service_tier': 'default', 'finish_reason': 'stop', 'logprobs': None}, id='run--344d263c-28bd-4bba-a3e9-cb0d48af33ed-0', usage_metadata={'input_tokens': 13, 'output_tokens': 28, 'total_tokens': 41, 'input_token_details': {'audio': 0, 'cache_read': 0}, 'output_token_details': {'audio': 0, 'reasoning': 0}})"
      ]
     },
     "execution_count": 5,
     "metadata": {},
     "output_type": "execute_result"
    }
   ],
   "source": [
    "llm.invoke(\"hi hello how are you?\")"
   ]
  },
  {
   "cell_type": "code",
   "execution_count": 6,
   "id": "dbb6ee9d",
   "metadata": {},
   "outputs": [],
   "source": [
    "from langgraph.types import Command"
   ]
  },
  {
   "cell_type": "code",
   "execution_count": 7,
   "id": "919250c2",
   "metadata": {},
   "outputs": [],
   "source": [
    "from langgraph.prebuilt import create_react_agent"
   ]
  },
  {
   "cell_type": "code",
   "execution_count": null,
   "id": "64485964",
   "metadata": {},
   "outputs": [],
   "source": [
    "# class AgentState(TypedDict):\n",
    "#     messages: Annotated[Sequence[BaseMessage], add_messages]\n",
    "#     Name:str\n",
    "#     age:int\n",
    "#     DOB:int"
   ]
  },
  {
   "cell_type": "markdown",
   "id": "82e02d5b",
   "metadata": {},
   "source": [
    "Command is a class with 2 important parameters:\n",
    " - goto: which agent we need to go to\n",
    " - update : what updates we need to take"
   ]
  },
  {
   "cell_type": "code",
   "execution_count": 12,
   "id": "f5674bc0",
   "metadata": {},
   "outputs": [],
   "source": [
    "def add_number(state):\n",
    "    result=state[\"num1\"]+state[\"num2\"]\n",
    "    print(f\"addition is {result}\")\n",
    "    return Command(goto=\"multiply\",update={\"sum\":result})\n"
   ]
  },
  {
   "cell_type": "code",
   "execution_count": 15,
   "id": "61dcdd3d",
   "metadata": {},
   "outputs": [],
   "source": [
    "state={\"num1\":10,\"num2\":20}"
   ]
  },
  {
   "cell_type": "code",
   "execution_count": 16,
   "id": "11ada0ed",
   "metadata": {},
   "outputs": [
    {
     "name": "stdout",
     "output_type": "stream",
     "text": [
      "addition is 30\n"
     ]
    },
    {
     "data": {
      "text/plain": [
       "Command(update={'sum': 30}, goto='multiply')"
      ]
     },
     "execution_count": 16,
     "metadata": {},
     "output_type": "execute_result"
    }
   ],
   "source": [
    "add_number(state)"
   ]
  },
  {
   "cell_type": "markdown",
   "id": "9e3be377",
   "metadata": {},
   "source": [
    "### Creating one dummy multiagent\n",
    "\n",
    "it is for network/collab multiagent"
   ]
  },
  {
   "cell_type": "code",
   "execution_count": 17,
   "id": "f4e4e4c2",
   "metadata": {},
   "outputs": [],
   "source": [
    "from langchain_core.tools import tool"
   ]
  },
  {
   "cell_type": "code",
   "execution_count": 39,
   "id": "e06526b7",
   "metadata": {},
   "outputs": [],
   "source": [
    "# dummy tool\n",
    "@tool\n",
    "def transfer_to_multiplication_expert():\n",
    "    \"\"\"Ask multiplication agent for help\"\"\"\n",
    "    return"
   ]
  },
  {
   "cell_type": "code",
   "execution_count": 40,
   "id": "e610d2e9",
   "metadata": {},
   "outputs": [],
   "source": [
    "# dummy tool\n",
    "@tool\n",
    "def transfer_to_addition_expert():\n",
    "    \"\"\"Ask addition agent for help\"\"\"\n",
    "    return"
   ]
  },
  {
   "cell_type": "code",
   "execution_count": 35,
   "id": "b00032aa",
   "metadata": {},
   "outputs": [],
   "source": [
    "llm_with_tool=llm.bind_tools([transfer_to_addition_expert])"
   ]
  },
  {
   "cell_type": "code",
   "execution_count": 22,
   "id": "aecb33b0",
   "metadata": {},
   "outputs": [],
   "source": [
    "response=llm_with_tool.invoke(\"hi\")"
   ]
  },
  {
   "cell_type": "code",
   "execution_count": 23,
   "id": "36429fe5",
   "metadata": {},
   "outputs": [
    {
     "data": {
      "text/plain": [
       "'Hello! How can I assist you today?'"
      ]
     },
     "execution_count": 23,
     "metadata": {},
     "output_type": "execute_result"
    }
   ],
   "source": [
    "response.content"
   ]
  },
  {
   "cell_type": "markdown",
   "id": "f008db9b",
   "metadata": {},
   "source": [
    "observe response is coming from llm"
   ]
  },
  {
   "cell_type": "code",
   "execution_count": 24,
   "id": "a2499954",
   "metadata": {},
   "outputs": [
    {
     "data": {
      "text/plain": [
       "[]"
      ]
     },
     "execution_count": 24,
     "metadata": {},
     "output_type": "execute_result"
    }
   ],
   "source": [
    "response.tool_calls"
   ]
  },
  {
   "cell_type": "markdown",
   "id": "c7ccbec7",
   "metadata": {},
   "source": [
    "observe tool is not called"
   ]
  },
  {
   "cell_type": "code",
   "execution_count": null,
   "id": "c46246ed",
   "metadata": {},
   "outputs": [],
   "source": []
  },
  {
   "cell_type": "code",
   "execution_count": 25,
   "id": "466263d3",
   "metadata": {},
   "outputs": [],
   "source": [
    "response=llm_with_tool.invoke(\"what is 2+2?\")"
   ]
  },
  {
   "cell_type": "code",
   "execution_count": 26,
   "id": "01c07057",
   "metadata": {},
   "outputs": [
    {
     "data": {
      "text/plain": [
       "''"
      ]
     },
     "execution_count": 26,
     "metadata": {},
     "output_type": "execute_result"
    }
   ],
   "source": [
    "response.content"
   ]
  },
  {
   "cell_type": "code",
   "execution_count": 27,
   "id": "81f4991d",
   "metadata": {},
   "outputs": [
    {
     "data": {
      "text/plain": [
       "[{'name': 'transfer_to_addition_expert',\n",
       "  'args': {},\n",
       "  'id': 'call_elPh3Xs92JpN23kK8isAUSto',\n",
       "  'type': 'tool_call'}]"
      ]
     },
     "execution_count": 27,
     "metadata": {},
     "output_type": "execute_result"
    }
   ],
   "source": [
    "response.tool_calls"
   ]
  },
  {
   "cell_type": "markdown",
   "id": "befeba87",
   "metadata": {},
   "source": [
    "observe now llm is not providing any response insted this task is done through tool call\n"
   ]
  },
  {
   "cell_type": "code",
   "execution_count": null,
   "id": "864b7cb6",
   "metadata": {},
   "outputs": [],
   "source": []
  },
  {
   "cell_type": "markdown",
   "id": "c003ad1e",
   "metadata": {},
   "source": [
    "observe now llm is not providing any response insted this task is done through tool call\n"
   ]
  },
  {
   "cell_type": "code",
   "execution_count": 34,
   "id": "51555fe2",
   "metadata": {},
   "outputs": [],
   "source": [
    "system_prompt = (\n",
    "        \"You are an addition expert, you can ask the multiplication expert for help with multiplication.\"\n",
    "        \"Always do your portion of calculation before the handoff.\"\n",
    "    )"
   ]
  },
  {
   "cell_type": "code",
   "execution_count": 35,
   "id": "4ad3bb17",
   "metadata": {},
   "outputs": [],
   "source": [
    "messages = [{\"role\": \"system\", \"content\": system_prompt}] + [\"can you tell me the addition of 2 and 2?\"]"
   ]
  },
  {
   "cell_type": "code",
   "execution_count": 36,
   "id": "05f3e211",
   "metadata": {},
   "outputs": [
    {
     "data": {
      "text/plain": [
       "[{'role': 'system',\n",
       "  'content': 'You are an addition expert, you can ask the multiplication expert for help with multiplication.Always do your portion of calculation before the handoff.'},\n",
       " 'can you tell me the addition of 2 and 2?']"
      ]
     },
     "execution_count": 36,
     "metadata": {},
     "output_type": "execute_result"
    }
   ],
   "source": [
    "messages"
   ]
  },
  {
   "cell_type": "markdown",
   "id": "85bce10c",
   "metadata": {},
   "source": [
    "[{'role': 'system',\n",
    "  'content': 'You are an addition expert, you can ask the multiplication expert for help with multiplication.Always do your portion of calculation before the handoff.'},\n",
    " 'can you tell me the addition of 2 and 2?']"
   ]
  },
  {
   "cell_type": "code",
   "execution_count": 41,
   "id": "11585150",
   "metadata": {},
   "outputs": [],
   "source": [
    "from typing_extensions import Literal\n",
    "from langgraph.graph import MessagesState,StateGraph, START,END"
   ]
  },
  {
   "cell_type": "code",
   "execution_count": 51,
   "id": "80dd87d9",
   "metadata": {},
   "outputs": [],
   "source": [
    "### Agent1\n",
    "def additional_expert(state:MessagesState)-> Command[Literal[\"multiplication_expert\", \"__end__\"]]:\n",
    "    \n",
    "    system_prompt = (\n",
    "        \"You are an addition expert, you can ask the multiplication expert for help with multiplication.\"\n",
    "        \"Always do your portion of calculation before the handoff.\"\n",
    "    )\n",
    "    \n",
    "    messages = [{\"role\": \"system\", \"content\": system_prompt}] + state[\"messages\"]\n",
    "    \n",
    "    \n",
    "    ai_msg = llm.bind_tools([transfer_to_multiplication_expert]).invoke(messages)\n",
    "    \n",
    "    \n",
    "    if len(ai_msg.tool_calls) > 0:\n",
    "        tool_call_id = ai_msg.tool_calls[-1][\"id\"]\n",
    "        tool_msg = {\n",
    "            \"role\": \"tool\",\n",
    "            \"content\": \"Successfully transferred to multiplication expert\",\n",
    "            \"tool_call_id\": tool_call_id,\n",
    "        }\n",
    "        \n",
    "        return Command(\n",
    "            goto=\"multiplication_expert\", update={\"messages\": [ai_msg, tool_msg]}\n",
    "        )\n",
    "    return {\"messages\": [ai_msg]}"
   ]
  },
  {
   "cell_type": "code",
   "execution_count": 52,
   "id": "6e977eb9",
   "metadata": {},
   "outputs": [],
   "source": [
    "##Agent2\n",
    "def multiplication_expert(state:MessagesState)-> Command[Literal[\"additional_expert\", \"__end__\"]]:\n",
    "    \n",
    "    system_prompt = (\n",
    "        \"You are a multiplication expert, you can ask an addition expert for help with addition. \"\n",
    "        \"Always do your portion of calculation before the handoff.\"\n",
    "    )\n",
    "    \n",
    "    messages = [{\"role\": \"system\", \"content\": system_prompt}] + state[\"messages\"]\n",
    "    \n",
    "    ai_msg = llm.bind_tools([transfer_to_addition_expert]).invoke(messages)\n",
    "    \n",
    "    if len(ai_msg.tool_calls) > 0:\n",
    "        tool_call_id = ai_msg.tool_calls[-1][\"id\"]\n",
    "        tool_msg = {\n",
    "            \"role\": \"tool\",\n",
    "            \"content\": \"Successfully transferred to addition expert\",\n",
    "            \"tool_call_id\": tool_call_id,\n",
    "        }\n",
    "        return Command(goto=\"additional_expert\", update={\"messages\": [ai_msg, tool_msg]})\n",
    "    return {\"messages\": [ai_msg]}"
   ]
  },
  {
   "cell_type": "code",
   "execution_count": 57,
   "id": "b4409b6d",
   "metadata": {},
   "outputs": [],
   "source": [
    "graph=StateGraph(MessagesState)"
   ]
  },
  {
   "cell_type": "code",
   "execution_count": 58,
   "id": "fd04308c",
   "metadata": {},
   "outputs": [
    {
     "data": {
      "text/plain": [
       "<langgraph.graph.state.StateGraph at 0x1ab08436710>"
      ]
     },
     "execution_count": 58,
     "metadata": {},
     "output_type": "execute_result"
    }
   ],
   "source": [
    "graph.add_node(\"additional_expert\",additional_expert)\n",
    "graph.add_node(\"multiplication_expert\",multiplication_expert)"
   ]
  },
  {
   "cell_type": "code",
   "execution_count": 59,
   "id": "c000d482",
   "metadata": {},
   "outputs": [
    {
     "data": {
      "text/plain": [
       "<langgraph.graph.state.StateGraph at 0x1ab08436710>"
      ]
     },
     "execution_count": 59,
     "metadata": {},
     "output_type": "execute_result"
    }
   ],
   "source": [
    "graph.add_edge(START, \"additional_expert\")"
   ]
  },
  {
   "cell_type": "code",
   "execution_count": 60,
   "id": "cec758ec",
   "metadata": {},
   "outputs": [
    {
     "data": {
      "image/png": "[encoded data removed]",
      "text/plain": [
       "<langgraph.graph.state.CompiledStateGraph object at 0x000001AB080E3890>"
      ]
     },
     "execution_count": 60,
     "metadata": {},
     "output_type": "execute_result"
    }
   ],
   "source": [
    "graph.compile()"
   ]
  },
  {
   "cell_type": "code",
   "execution_count": 61,
   "id": "167451f8",
   "metadata": {},
   "outputs": [],
   "source": [
    "app=graph.compile()"
   ]
  },
  {
   "cell_type": "code",
   "execution_count": 62,
   "id": "cf783fbf",
   "metadata": {},
   "outputs": [
    {
     "data": {
      "text/plain": [
       "{'messages': [HumanMessage(content=\"what's (3 + 5) * 12. Provide me the output\", additional_kwargs={}, response_metadata={}, id='369256eb-d105-4a93-a845-f961c3403d89'),\n",
       "  AIMessage(content='', additional_kwargs={'tool_calls': [{'id': 'call_r6OhV1jBFBqa72mupaZtLBeK', 'function': {'arguments': '{}', 'name': 'transfer_to_multiplication_expert'}, 'type': 'function'}], 'refusal': None}, response_metadata={'token_usage': {'completion_tokens': 33, 'prompt_tokens': 86, 'total_tokens': 119, 'completion_tokens_details': {'accepted_prediction_tokens': 0, 'audio_tokens': 0, 'reasoning_tokens': 0, 'rejected_prediction_tokens': 0}, 'prompt_tokens_details': {'audio_tokens': 0, 'cached_tokens': 0}}, 'model_name': 'gpt-4o-2024-08-06', 'system_fingerprint': 'fp_a288987b44', 'id': 'chatcmpl-Bn3IhWdLT5xvjhodHUVSCdOMsTfp4', 'service_tier': 'default', 'finish_reason': 'tool_calls', 'logprobs': None}, id='run--72c28e00-8284-4c98-87f6-692b1d4782a2-0', tool_calls=[{'name': 'transfer_to_multiplication_expert', 'args': {}, 'id': 'call_r6OhV1jBFBqa72mupaZtLBeK', 'type': 'tool_call'}], usage_metadata={'input_tokens': 86, 'output_tokens': 33, 'total_tokens': 119, 'input_token_details': {'audio': 0, 'cache_read': 0}, 'output_token_details': {'audio': 0, 'reasoning': 0}}),\n",
       "  ToolMessage(content='Successfully transferred to multiplication expert', id='4fd50146-fff5-423c-8737-77d0a2597799', tool_call_id='call_r6OhV1jBFBqa72mupaZtLBeK'),\n",
       "  AIMessage(content='', additional_kwargs={'tool_calls': [{'id': 'call_lCWbNQ7VADvaO9lCye5yzmgW', 'function': {'arguments': '{}', 'name': 'transfer_to_addition_expert'}, 'type': 'function'}], 'refusal': None}, response_metadata={'token_usage': {'completion_tokens': 32, 'prompt_tokens': 118, 'total_tokens': 150, 'completion_tokens_details': {'accepted_prediction_tokens': 0, 'audio_tokens': 0, 'reasoning_tokens': 0, 'rejected_prediction_tokens': 0}, 'prompt_tokens_details': {'audio_tokens': 0, 'cached_tokens': 0}}, 'model_name': 'gpt-4o-2024-08-06', 'system_fingerprint': 'fp_07871e2ad8', 'id': 'chatcmpl-Bn3IiX12xn4QTWNbuLseafb2G4PX5', 'service_tier': 'default', 'finish_reason': 'tool_calls', 'logprobs': None}, id='run--0fb8830d-3a57-4c41-a614-526dd3c96873-0', tool_calls=[{'name': 'transfer_to_addition_expert', 'args': {}, 'id': 'call_lCWbNQ7VADvaO9lCye5yzmgW', 'type': 'tool_call'}], usage_metadata={'input_tokens': 118, 'output_tokens': 32, 'total_tokens': 150, 'input_token_details': {'audio': 0, 'cache_read': 0}, 'output_token_details': {'audio': 0, 'reasoning': 0}}),\n",
       "  ToolMessage(content='Successfully transferred to addition expert', id='bccf6db8-7bd7-4656-9490-07ca1c6e85cc', tool_call_id='call_lCWbNQ7VADvaO9lCye5yzmgW'),\n",
       "  AIMessage(content='The expression \\\\((3 + 5) \\\\times 12\\\\) is equivalent to \\\\(8 \\\\times 12\\\\).', additional_kwargs={'refusal': None}, response_metadata={'token_usage': {'completion_tokens': 27, 'prompt_tokens': 150, 'total_tokens': 177, 'completion_tokens_details': {'accepted_prediction_tokens': 0, 'audio_tokens': 0, 'reasoning_tokens': 0, 'rejected_prediction_tokens': 0}, 'prompt_tokens_details': {'audio_tokens': 0, 'cached_tokens': 0}}, 'model_name': 'gpt-4o-2024-08-06', 'system_fingerprint': 'fp_a288987b44', 'id': 'chatcmpl-Bn3IlelgyJsBLETdvjJaStSLej7zl', 'service_tier': 'default', 'finish_reason': 'stop', 'logprobs': None}, id='run--3efd6326-c70a-4e4c-911f-5514855d7c65-0', usage_metadata={'input_tokens': 150, 'output_tokens': 27, 'total_tokens': 177, 'input_token_details': {'audio': 0, 'cache_read': 0}, 'output_token_details': {'audio': 0, 'reasoning': 0}})]}"
      ]
     },
     "execution_count": 62,
     "metadata": {},
     "output_type": "execute_result"
    }
   ],
   "source": [
    "app.invoke({\"messages\":[(\"user\",\"what's (3 + 5) * 12. Provide me the output\")]})"
   ]
  },
  {
   "cell_type": "markdown",
   "id": "b341d8f2",
   "metadata": {},
   "source": [
    "## With realtime tool"
   ]
  },
  {
   "cell_type": "code",
   "execution_count": 65,
   "id": "4f1da329",
   "metadata": {},
   "outputs": [],
   "source": [
    "from langchain_community.tools import DuckDuckGoSearchRun"
   ]
  },
  {
   "cell_type": "code",
   "execution_count": 67,
   "id": "4e8e8ae7",
   "metadata": {},
   "outputs": [],
   "source": [
    "search_tool=DuckDuckGoSearchRun()\n",
    "\n",
    "# import os\n",
    "# from langchain_community.tools.tavily_search import TavilySearchResults\n",
    "# TAVILY_API_KEY=os.getenv(\"TAVILY_API_KEY\")\n",
    "# search_tool=TavilySearchResults(tavily_api_key=TAVILY_API_KEY)"
   ]
  },
  {
   "cell_type": "code",
   "execution_count": 68,
   "id": "716ea8b5",
   "metadata": {},
   "outputs": [
    {
     "data": {
      "text/plain": [
       "\"British Prime Minister Keir Starmer delivers a speech following his first Cabinet meeting as Prime Minister, in London, July 6, 2024. Mr Starmer has been leader of the Labour party since 2020 and is the country's 58th prime minister. He was born in 1962. His dad was a toolmaker in a factory and his mum was a nurse in the NHS. Keir Starmer, a human rights lawyer from a small town in southern England, is the new prime minister of the United Kingdom. His victory on July 4 was overwhelming. Yet Britain barely knows who he is. Starmer has been a politician for only nine years, and since being crowned U.K. Labour leader in 2020 has steered his party from its worst ... Sir Keir Starmer became Prime Minister on 5 July 2024. Education Keir attended Reigate Grammar School, before studying Law at the University of Leeds. He went on to do postgraduate studies at the ... Keir Starmer's tenure as Prime Minister of the United Kingdom began on 5 July 2024 when he accepted an invitation from King Charles III to form a government, succeeding Rishi Sunak of the Conservative Party.As prime minister he is serving concurrently as First Lord of the Treasury, Minister for the Civil Service and Minister for the Union.. Starmer, who has been Leader of the Labour Party ...\""
      ]
     },
     "execution_count": 68,
     "metadata": {},
     "output_type": "execute_result"
    }
   ],
   "source": [
    "search_tool.invoke(\"who is a current pm of uk?\")"
   ]
  },
  {
   "cell_type": "code",
   "execution_count": 69,
   "id": "bebeb27c",
   "metadata": {},
   "outputs": [],
   "source": [
    "from langchain_experimental.utilities import PythonREPL"
   ]
  },
  {
   "cell_type": "code",
   "execution_count": 70,
   "id": "eab67be3",
   "metadata": {},
   "outputs": [],
   "source": [
    "repl=PythonREPL()"
   ]
  },
  {
   "cell_type": "code",
   "execution_count": 71,
   "id": "d391e871",
   "metadata": {},
   "outputs": [],
   "source": [
    "code = \"\"\"\n",
    "x = 5\n",
    "y = x * 2\n",
    "print(y)\n",
    "\"\"\""
   ]
  },
  {
   "cell_type": "code",
   "execution_count": 72,
   "id": "62617dc9",
   "metadata": {},
   "outputs": [
    {
     "name": "stderr",
     "output_type": "stream",
     "text": [
      "Python REPL can execute arbitrary code. Use with caution.\n"
     ]
    },
    {
     "data": {
      "text/plain": [
       "'10\\n'"
      ]
     },
     "execution_count": 72,
     "metadata": {},
     "output_type": "execute_result"
    }
   ],
   "source": [
    "repl.run(code)"
   ]
  },
  {
   "cell_type": "code",
   "execution_count": 73,
   "id": "cde22425",
   "metadata": {},
   "outputs": [],
   "source": [
    "from typing import Annotated"
   ]
  },
  {
   "cell_type": "code",
   "execution_count": 74,
   "id": "7a5d71f9",
   "metadata": {},
   "outputs": [],
   "source": [
    "@tool\n",
    "def python_repl_tool(\n",
    "    code: Annotated[str, \"The python code to execute to generate your chart.\"],\n",
    "):\n",
    "    \"\"\"Use this to execute python code. If you want to see the output of a value,\n",
    "    you should print it out with `print(...)`. This is visible to the user.\"\"\"\n",
    "    \n",
    "    try:\n",
    "        result = repl.run(code)\n",
    "    except BaseException as e:\n",
    "        return f\"Failed to execute. Error: {repr(e)}\"\n",
    "    \n",
    "    result_str = f\"Successfully executed:\\n\\`\\`\\`python\\n{code}\\n\\`\\`\\`\\nStdout: {result}\"\n",
    "    return (\n",
    "        result_str + \"\\n\\nIf you have completed all tasks, respond with FINAL ANSWER.\"\n",
    "    )\n",
    "    "
   ]
  },
  {
   "cell_type": "code",
   "execution_count": 75,
   "id": "65996c03",
   "metadata": {},
   "outputs": [
    {
     "data": {
      "text/plain": [
       "StructuredTool(name='python_repl_tool', description='Use this to execute python code. If you want to see the output of a value,\\n    you should print it out with `print(...)`. This is visible to the user.', args_schema=<class 'langchain_core.utils.pydantic.python_repl_tool'>, func=<function python_repl_tool at 0x000001AB088B4F40>)"
      ]
     },
     "execution_count": 75,
     "metadata": {},
     "output_type": "execute_result"
    }
   ],
   "source": [
    "python_repl_tool"
   ]
  },
  {
   "cell_type": "code",
   "execution_count": 76,
   "id": "a9281fa5",
   "metadata": {},
   "outputs": [
    {
     "name": "stdout",
     "output_type": "stream",
     "text": [
      "Successfully executed:\n",
      "\\`\\`\\`python\n",
      "\n",
      "x = 5\n",
      "y = x * 2\n",
      "print(y)\n",
      "\n",
      "\\`\\`\\`\n",
      "Stdout: 10\n",
      "\n",
      "\n",
      "If you have completed all tasks, respond with FINAL ANSWER.\n"
     ]
    }
   ],
   "source": [
    "print(python_repl_tool.invoke(code))"
   ]
  },
  {
   "cell_type": "code",
   "execution_count": 77,
   "id": "7a9688b7",
   "metadata": {},
   "outputs": [
    {
     "name": "stdout",
     "output_type": "stream",
     "text": [
      "Successfully executed:\n",
      "\\`\\`\\`python\n",
      "\n",
      "x = 5\n",
      "y = x * 2\n",
      "print(y)\n",
      "\n",
      "\\`\\`\\`\n",
      "Stdout: 10\n",
      "\n",
      "\n",
      "If you have completed all tasks, respond with FINAL ANSWER.\n"
     ]
    }
   ],
   "source": [
    "print(python_repl_tool.invoke(code))"
   ]
  },
  {
   "cell_type": "code",
   "execution_count": 83,
   "id": "8a1a49fd",
   "metadata": {},
   "outputs": [],
   "source": [
    "def make_system_prompt(instruction:str)->str:\n",
    "    return  (\n",
    "        \"You are a helpful AI assistant, collaborating with other assistants.\"\n",
    "        \" Use the provided tools to progress towards answering the question.\"\n",
    "        \" If you are unable to fully answer, that's OK, another assistant with different tools \"\n",
    "        \" will help where you left off. Execute what you can to make progress.\"\n",
    "        \" If you or any of the other assistants have the final answer or deliverable,\"\n",
    "        \" prefix your response with FINAL ANSWER so the team knows to stop.\"\n",
    "        f\"\\n{instruction}\"\n",
    "    )"
   ]
  },
  {
   "cell_type": "code",
   "execution_count": 84,
   "id": "e26d71ec",
   "metadata": {},
   "outputs": [
    {
     "data": {
      "text/plain": [
       "\"You are a helpful AI assistant, collaborating with other assistants. Use the provided tools to progress towards answering the question. If you are unable to fully answer, that's OK, another assistant with different tools  will help where you left off. Execute what you can to make progress. If you or any of the other assistants have the final answer or deliverable, prefix your response with FINAL ANSWER so the team knows to stop.\\nYou can only do research. You are working with a chart generator colleague.\""
      ]
     },
     "execution_count": 84,
     "metadata": {},
     "output_type": "execute_result"
    }
   ],
   "source": [
    "make_system_prompt(\"You can only do research. You are working with a chart generator colleague.\")"
   ]
  },
  {
   "cell_type": "markdown",
   "id": "d7680be1",
   "metadata": {},
   "source": [
    "\"You are a helpful AI assistant, collaborating with other assistants. Use the provided tools to progress towards answering the question. If you are unable to fully answer, that's OK, another assistant with different tools  will help where you left off. Execute what you can to make progress. If you or any of the other assistants have the final answer or deliverable, prefix your response with FINAL ANSWER so the team knows to stop.\\nYou can only do research. You are working with a chart generator colleague.\""
   ]
  },
  {
   "cell_type": "code",
   "execution_count": 85,
   "id": "6e1003d1",
   "metadata": {},
   "outputs": [],
   "source": [
    "from langchain_core.messages import BaseMessage, HumanMessage"
   ]
  },
  {
   "cell_type": "code",
   "execution_count": 86,
   "id": "2528e31b",
   "metadata": {},
   "outputs": [],
   "source": [
    "def get_next_node(last_message:BaseMessage, goto:str):\n",
    "    if \"FINAL ANSWER\" in last_message.content:\n",
    "        # Any agent decided the work is done\n",
    "        return END\n",
    "    return goto"
   ]
  },
  {
   "cell_type": "code",
   "execution_count": 78,
   "id": "63b1c75b",
   "metadata": {},
   "outputs": [],
   "source": [
    "#agent1\n",
    "def research_node(state:MessagesState)->Command[Literal[\"chart_generator\", END]]:\n",
    "    research_agent=create_react_agent(\n",
    "        llm,\n",
    "        tools=[search_tool],\n",
    "        prompt=make_system_prompt(\n",
    "        \"You can only do research. You are working with a chart generator colleague.\"\n",
    "    ), \n",
    "        )\n",
    "    \n",
    "    result=research_agent.invoke(state)\n",
    "    goto=get_next_node(result[\"messages\"][-1],\"chart_generator\")\n",
    "    result[\"messages\"][-1] = HumanMessage(content=result[\"messages\"][-1].content, name=\"researcher\")\n",
    "    return Command(update={\"messages\": result[\"messages\"]},goto=goto)"
   ]
  },
  {
   "cell_type": "code",
   "execution_count": 79,
   "id": "f10f63d5",
   "metadata": {},
   "outputs": [],
   "source": [
    "#agent2\n",
    "def chart_node(state:MessagesState)-> Command[Literal[\"researcher\", END]]:\n",
    "    chart_agent=create_react_agent(\n",
    "        llm,\n",
    "        tools=[python_repl_tool],\n",
    "        prompt=make_system_prompt(\n",
    "        \"You can only generate charts. You are working with a researcher colleague.\"\n",
    "    ),\n",
    "        )\n",
    "    result=chart_agent.invoke(state)\n",
    "    goto=get_next_node(result[\"messages\"][-1],\"researcher\")\n",
    "    result[\"messages\"][-1] = HumanMessage(content=result[\"messages\"][-1].content, name=\"chart_generator\")\n",
    "    return Command(update={\"messages\": result[\"messages\"]},goto=goto)"
   ]
  },
  {
   "cell_type": "code",
   "execution_count": 80,
   "id": "f2afdc74",
   "metadata": {},
   "outputs": [],
   "source": [
    "workflow = StateGraph(MessagesState)\n",
    "workflow.add_node(\"researcher\", research_node)\n",
    "workflow.add_node(\"chart_generator\", chart_node)\n",
    "\n",
    "workflow.add_edge(START, \"researcher\")\n",
    "app = workflow.compile()"
   ]
  },
  {
   "cell_type": "code",
   "execution_count": 81,
   "id": "e118402e",
   "metadata": {},
   "outputs": [
    {
     "data": {
      "image/png": "[encoded data removed]",
      "text/plain": [
       "<langgraph.graph.state.CompiledStateGraph object at 0x000001AB08A15850>"
      ]
     },
     "execution_count": 81,
     "metadata": {},
     "output_type": "execute_result"
    }
   ],
   "source": [
    "workflow.compile()"
   ]
  },
  {
   "cell_type": "code",
   "execution_count": 88,
   "id": "3ef0b13f",
   "metadata": {},
   "outputs": [
    {
     "data": {
      "image/png": "[encoded data removed]",
      "text/plain": [
       "<Figure size 1000x600 with 1 Axes>"
      ]
     },
     "metadata": {},
     "output_type": "display_data"
    },
    {
     "data": {
      "text/plain": [
       "{'messages': [HumanMessage(content=\"get the UK's GDP over the past 3 years, then make a line chart of it.Once you make the chart, finish.\", additional_kwargs={}, response_metadata={}, id='9101decd-987d-4132-a96f-0d6fd4378142'),\n",
       "  AIMessage(content='', additional_kwargs={'tool_calls': [{'id': 'call_X3IRQato9uWiwS6woqCgKVf7', 'function': {'arguments': '{\"query\":\"UK GDP 2021 2022 2023\"}', 'name': 'duckduckgo_search'}, 'type': 'function'}], 'refusal': None}, response_metadata={'token_usage': {'completion_tokens': 27, 'prompt_tokens': 199, 'total_tokens': 226, 'completion_tokens_details': {'accepted_prediction_tokens': 0, 'audio_tokens': 0, 'reasoning_tokens': 0, 'rejected_prediction_tokens': 0}, 'prompt_tokens_details': {'audio_tokens': 0, 'cached_tokens': 0}}, 'model_name': 'gpt-4o-2024-08-06', 'system_fingerprint': 'fp_a288987b44', 'id': 'chatcmpl-Bn73jDBNa3UX7ocq3BnCzUBRI92jX', 'service_tier': 'default', 'finish_reason': 'tool_calls', 'logprobs': None}, id='run--a4b53037-3310-4e85-8d8e-fd01241ccc6e-0', tool_calls=[{'name': 'duckduckgo_search', 'args': {'query': 'UK GDP 2021 2022 2023'}, 'id': 'call_X3IRQato9uWiwS6woqCgKVf7', 'type': 'tool_call'}], usage_metadata={'input_tokens': 199, 'output_tokens': 27, 'total_tokens': 226, 'input_token_details': {'audio': 0, 'cache_read': 0}, 'output_token_details': {'audio': 0, 'reasoning': 0}}),\n",
       "  ToolMessage(content=\"The United Kingdom's economy grew by 1.1 percent in 2024, after a growth rate of 0.4 percent in 2023, 4.8 percent in 2022, 8.6 percent in 2021, and a record 10.3 percent fall in 2020. Annual and quarterly data for UK gross domestic product (GDP) estimates, in chained volume measures and current market prices. ... Quarter 4 (Oct to Dec) 2023, quarterly national accounts edition of this dataset . xlsx (1.6 MB) Quarter 4 (Oct to Dec) 2023, first estimate edition of this dataset ... Quarter 4 (Oct to Dec) 2022, quarterly ... Today we've released our annual revisions of the UK's Gross Domestic Product (GDP) covering the period up to 2022. As more data have become available we've been able to refine our initial estima ... While this year the revisions for 2020 and 2021 are very small, we have seen our estimate for 2022 rise from 4.3% to 4.8%, which is a little ... Graph and download economic data for Gross Domestic Product for United Kingdom (MKTGDPGBA646NWDB) from 1960 to 2023 about United Kingdom and GDP. 2020: The UK economy experienced a record 10.4 percent decline in GDP; 2021: The UK economy grew by 8.7 percent; 2022: The UK economy grew by 4.3 percent; 2023: The UK economy grew by 0.1 percent and ended the year in recession. The third quarter of 2023 saw a -0.1 percent growth, and the fourth quarter saw a -0.4 percent growth\", name='duckduckgo_search', id='769875b1-6054-452b-87c4-c8e7989f779d', tool_call_id='call_X3IRQato9uWiwS6woqCgKVf7'),\n",
       "  AIMessage(content='', additional_kwargs={'tool_calls': [{'id': 'call_TCp7QTquJNshyCOgiEoDGxQt', 'function': {'arguments': '{\"query\":\"UK GDP in USD for 2020 2021 2022 2023\"}', 'name': 'duckduckgo_search'}, 'type': 'function'}], 'refusal': None}, response_metadata={'token_usage': {'completion_tokens': 33, 'prompt_tokens': 604, 'total_tokens': 637, 'completion_tokens_details': {'accepted_prediction_tokens': 0, 'audio_tokens': 0, 'reasoning_tokens': 0, 'rejected_prediction_tokens': 0}, 'prompt_tokens_details': {'audio_tokens': 0, 'cached_tokens': 0}}, 'model_name': 'gpt-4o-2024-08-06', 'system_fingerprint': 'fp_a288987b44', 'id': 'chatcmpl-Bn73mEd2tscIyQoT7OFMvMVjYZeB2', 'service_tier': 'default', 'finish_reason': 'tool_calls', 'logprobs': None}, id='run--c5488098-7647-4989-8e8c-cca4876fa0b1-0', tool_calls=[{'name': 'duckduckgo_search', 'args': {'query': 'UK GDP in USD for 2020 2021 2022 2023'}, 'id': 'call_TCp7QTquJNshyCOgiEoDGxQt', 'type': 'tool_call'}], usage_metadata={'input_tokens': 604, 'output_tokens': 33, 'total_tokens': 637, 'input_token_details': {'audio': 0, 'cache_read': 0}, 'output_token_details': {'audio': 0, 'reasoning': 0}}),\n",
       "  ToolMessage(content='In 2024, the gross domestic product of the United Kingdom amounted to around 2.56 trillion British pounds, compared with 2.54 trillion pounds in 2023, and 2.53 trillion in 2022. Although the UK ... Graph and download economic data for Gross Domestic Product for United Kingdom (MKTGDPGBA646NWDB) from 1960 to 2023 about United Kingdom and GDP. Annual and quarterly data for UK gross domestic product (GDP) estimates, in chained volume measures and current market prices. GDP milestones by countries (in trillions USD) The following is a list of countries reaching (or projected to reach) a certain threshold of nominal GDP in a specific year according to International Monetary Fund, [1] United Nations, [10] and World Bank. GDP measures the size of the economy. Find the latest GDP growth data for the UK and comparisons with other G7 economies.', name='duckduckgo_search', id='f7f5928c-29d3-4495-b27e-db6b6a4a41ff', tool_call_id='call_TCp7QTquJNshyCOgiEoDGxQt'),\n",
       "  AIMessage(content='', additional_kwargs={'tool_calls': [{'id': 'call_1xEltuMLpGApMTTXvIE9EtkH', 'function': {'arguments': '{\"query\":\"UK GDP in USD 2021 2022 2023\"}', 'name': 'duckduckgo_search'}, 'type': 'function'}], 'refusal': None}, response_metadata={'token_usage': {'completion_tokens': 29, 'prompt_tokens': 836, 'total_tokens': 865, 'completion_tokens_details': {'accepted_prediction_tokens': 0, 'audio_tokens': 0, 'reasoning_tokens': 0, 'rejected_prediction_tokens': 0}, 'prompt_tokens_details': {'audio_tokens': 0, 'cached_tokens': 0}}, 'model_name': 'gpt-4o-2024-08-06', 'system_fingerprint': 'fp_a288987b44', 'id': 'chatcmpl-Bn73p4300SFwqdfx93EZ3MSA4fSjX', 'service_tier': 'default', 'finish_reason': 'tool_calls', 'logprobs': None}, id='run--f1d9115c-0c24-4392-a0f0-da9e471409a8-0', tool_calls=[{'name': 'duckduckgo_search', 'args': {'query': 'UK GDP in USD 2021 2022 2023'}, 'id': 'call_1xEltuMLpGApMTTXvIE9EtkH', 'type': 'tool_call'}], usage_metadata={'input_tokens': 836, 'output_tokens': 29, 'total_tokens': 865, 'input_token_details': {'audio': 0, 'cache_read': 0}, 'output_token_details': {'audio': 0, 'reasoning': 0}}),\n",
       "  ToolMessage(content=\"Error: DuckDuckGoSearchException(RatelimitException('https://lite.duckduckgo.com/lite/ 202 Ratelimit'))\\n Please fix your mistakes.\", name='duckduckgo_search', id='b09e2e6b-c3ff-4b4e-aa00-aff9bbf711ad', tool_call_id='call_1xEltuMLpGApMTTXvIE9EtkH', status='error'),\n",
       "  AIMessage(content='', additional_kwargs={'tool_calls': [{'id': 'call_YtyqIWyIhCb0lDcQc8Z6Hh9Q', 'function': {'arguments': '{\"query\": \"UK GDP 2021 USD\"}', 'name': 'duckduckgo_search'}, 'type': 'function'}, {'id': 'call_akCNjCojsPKYIcV49SJpvvIv', 'function': {'arguments': '{\"query\": \"UK GDP 2022 USD\"}', 'name': 'duckduckgo_search'}, 'type': 'function'}, {'id': 'call_uXM0PyCTeZm2wpQPcalpYsdz', 'function': {'arguments': '{\"query\": \"UK GDP 2023 USD\"}', 'name': 'duckduckgo_search'}, 'type': 'function'}], 'refusal': None}, response_metadata={'token_usage': {'completion_tokens': 82, 'prompt_tokens': 909, 'total_tokens': 991, 'completion_tokens_details': {'accepted_prediction_tokens': 0, 'audio_tokens': 0, 'reasoning_tokens': 0, 'rejected_prediction_tokens': 0}, 'prompt_tokens_details': {'audio_tokens': 0, 'cached_tokens': 0}}, 'model_name': 'gpt-4o-2024-08-06', 'system_fingerprint': 'fp_a288987b44', 'id': 'chatcmpl-Bn73tPPA6KKSF0NXuAM7Qi3FFBQEj', 'service_tier': 'default', 'finish_reason': 'tool_calls', 'logprobs': None}, id='run--53502533-e278-4f35-8845-4819363f0fcc-0', tool_calls=[{'name': 'duckduckgo_search', 'args': {'query': 'UK GDP 2021 USD'}, 'id': 'call_YtyqIWyIhCb0lDcQc8Z6Hh9Q', 'type': 'tool_call'}, {'name': 'duckduckgo_search', 'args': {'query': 'UK GDP 2022 USD'}, 'id': 'call_akCNjCojsPKYIcV49SJpvvIv', 'type': 'tool_call'}, {'name': 'duckduckgo_search', 'args': {'query': 'UK GDP 2023 USD'}, 'id': 'call_uXM0PyCTeZm2wpQPcalpYsdz', 'type': 'tool_call'}], usage_metadata={'input_tokens': 909, 'output_tokens': 82, 'total_tokens': 991, 'input_token_details': {'audio': 0, 'cache_read': 0}, 'output_token_details': {'audio': 0, 'reasoning': 0}}),\n",
       "  ToolMessage(content=\"Error: DuckDuckGoSearchException(RatelimitException('https://lite.duckduckgo.com/lite/ 202 Ratelimit'))\\n Please fix your mistakes.\", name='duckduckgo_search', id='509f5b3f-ea1d-42ca-bef9-73b5cefe8b8a', tool_call_id='call_YtyqIWyIhCb0lDcQc8Z6Hh9Q', status='error'),\n",
       "  ToolMessage(content=\"Error: DuckDuckGoSearchException(RatelimitException('https://lite.duckduckgo.com/lite/ 202 Ratelimit'))\\n Please fix your mistakes.\", name='duckduckgo_search', id='fc0bb533-4184-488e-9b98-8e77056ccc9e', tool_call_id='call_akCNjCojsPKYIcV49SJpvvIv', status='error'),\n",
       "  ToolMessage(content=\"Error: DuckDuckGoSearchException(RatelimitException('https://html.duckduckgo.com/html 202 Ratelimit'))\\n Please fix your mistakes.\", name='duckduckgo_search', id='3bb6611d-4bcc-46f1-897e-065a7b88a74c', tool_call_id='call_uXM0PyCTeZm2wpQPcalpYsdz', status='error'),\n",
       "  AIMessage(content=\"I am currently unable to retrieve the specific GDP values in USD due to rate limiting issues with the search engine. However, based on previous search results, we know the UK GDP growth rates:\\n\\n- 2021: +8.7%\\n- 2022: +4.3%\\n- 2023: +0.1%\\n\\nAnd approximate GDP in British pounds:\\n\\n- 2022: ~2.53 trillion GBP\\n- 2023: ~2.54 trillion GBP\\n\\nIf 2023 is approximately 2.54 trillion GBP, this would be close to $3.3 trillion USD based on rough conversion rates over this period. To chart these growth rates, I'll proceed with using the growth rates as relative values assuming they are relative to a base GDP. I'll now make a line chart using this information.\", additional_kwargs={'tool_calls': [{'id': 'call_wE3Pkp6Co72LpoLrf82G5Amc', 'function': {'arguments': '{\"query\":\"average GBP to USD exchange rate 2023\"}', 'name': 'duckduckgo_search'}, 'type': 'function'}], 'refusal': None}, response_metadata={'token_usage': {'completion_tokens': 193, 'prompt_tokens': 1111, 'total_tokens': 1304, 'completion_tokens_details': {'accepted_prediction_tokens': 0, 'audio_tokens': 0, 'reasoning_tokens': 0, 'rejected_prediction_tokens': 0}, 'prompt_tokens_details': {'audio_tokens': 0, 'cached_tokens': 0}}, 'model_name': 'gpt-4o-2024-08-06', 'system_fingerprint': 'fp_a288987b44', 'id': 'chatcmpl-Bn73xPx1HJsSnKmYPUXfcZlEfsdMi', 'service_tier': 'default', 'finish_reason': 'tool_calls', 'logprobs': None}, id='run--d19bcfeb-9471-4026-bde3-8bd54e85ac44-0', tool_calls=[{'name': 'duckduckgo_search', 'args': {'query': 'average GBP to USD exchange rate 2023'}, 'id': 'call_wE3Pkp6Co72LpoLrf82G5Amc', 'type': 'tool_call'}], usage_metadata={'input_tokens': 1111, 'output_tokens': 193, 'total_tokens': 1304, 'input_token_details': {'audio': 0, 'cache_read': 0}, 'output_token_details': {'audio': 0, 'reasoning': 0}}),\n",
       "  ToolMessage(content=\"Error: DuckDuckGoSearchException(RatelimitException('https://lite.duckduckgo.com/lite/ 202 Ratelimit'))\\n Please fix your mistakes.\", name='duckduckgo_search', id='10159405-e48f-4ab3-bec6-5c6266224945', tool_call_id='call_wE3Pkp6Co72LpoLrf82G5Amc', status='error'),\n",
       "  AIMessage(content=\"We have the UK's GDP growth rates but not the specific USD amounts for each year. As the exchange rate is also challenging to retrieve due to search limitations, I'll proceed to create the chart using the growth percentages instead. I'll send this data to my chart generator colleague.\", additional_kwargs={'tool_calls': [{'id': 'call_cMRl0NJgpCk09LSBTCqb7reo', 'function': {'arguments': '{\"query\": \"2020 UK GDP USD\"}', 'name': 'duckduckgo_search'}, 'type': 'function'}, {'id': 'call_eIEg7CPn72Ronar0dP8mM5Dk', 'function': {'arguments': '{\"query\": \"2021 UK GDP USD\"}', 'name': 'duckduckgo_search'}, 'type': 'function'}, {'id': 'call_3SKyuhaTgdGEPrcpiSSKgMz4', 'function': {'arguments': '{\"query\": \"2022 UK GDP USD\"}', 'name': 'duckduckgo_search'}, 'type': 'function'}, {'id': 'call_qz3UaRPsJBFr01Zq9AcL58n1', 'function': {'arguments': '{\"query\": \"2023 UK GDP USD\"}', 'name': 'duckduckgo_search'}, 'type': 'function'}], 'refusal': None}, response_metadata={'token_usage': {'completion_tokens': 154, 'prompt_tokens': 1351, 'total_tokens': 1505, 'completion_tokens_details': {'accepted_prediction_tokens': 0, 'audio_tokens': 0, 'reasoning_tokens': 0, 'rejected_prediction_tokens': 0}, 'prompt_tokens_details': {'audio_tokens': 0, 'cached_tokens': 1280}}, 'model_name': 'gpt-4o-2024-08-06', 'system_fingerprint': 'fp_a288987b44', 'id': 'chatcmpl-Bn743XZSe1ZnBHBGoOQF3uD1C2koC', 'service_tier': 'default', 'finish_reason': 'tool_calls', 'logprobs': None}, id='run--eed09c6c-4780-4c49-88c4-530b1509a4c0-0', tool_calls=[{'name': 'duckduckgo_search', 'args': {'query': '2020 UK GDP USD'}, 'id': 'call_cMRl0NJgpCk09LSBTCqb7reo', 'type': 'tool_call'}, {'name': 'duckduckgo_search', 'args': {'query': '2021 UK GDP USD'}, 'id': 'call_eIEg7CPn72Ronar0dP8mM5Dk', 'type': 'tool_call'}, {'name': 'duckduckgo_search', 'args': {'query': '2022 UK GDP USD'}, 'id': 'call_3SKyuhaTgdGEPrcpiSSKgMz4', 'type': 'tool_call'}, {'name': 'duckduckgo_search', 'args': {'query': '2023 UK GDP USD'}, 'id': 'call_qz3UaRPsJBFr01Zq9AcL58n1', 'type': 'tool_call'}], usage_metadata={'input_tokens': 1351, 'output_tokens': 154, 'total_tokens': 1505, 'input_token_details': {'audio': 0, 'cache_read': 1280}, 'output_token_details': {'audio': 0, 'reasoning': 0}}),\n",
       "  ToolMessage(content=\"Graph and download economic data for Gross Domestic Product for United Kingdom (MKTGDPGBA646NWDB) from 1960 to 2023 about United Kingdom and GDP. ... 2020: 2,696,778,386,607.6500 : 2019: 2,851,407,164,907.8100 : View All: Units: ... Data are in current U.S. dollars. Dollar figures for GDP are converted from domestic currencies using single year ... Although the UK economy grew in 2024, it has struggled to recover fully from the record 10.3 percent fall in GDP in 2020, which was a direct result of the COVID-19 pandemic. UK real gross domestic product (GDP) is estimated to have increased by 0.7% in Quarter 1 (Jan to Mar) 2025. Real GDP is estimated to have increased by 1.3%, compared with the same quarter a year ago. ... Producer price inflation, UK. Updated: 20 October 2020. PPI - input , month on year. 2008 2010 2012 2014 2016 2018 2020-20 0 20 40. View ... According to the IMF World Economic Outlook (October 2024), the United Kingdom's nominal GDP in 2024 is projected to be around $3,588 billion at current prices. Based on PPP, the United Kingdom's GDP in 2024 is forecast at 4,282 billion international dollars. 2020: The UK economy experienced a record 10.4 percent decline in GDP; 2021: The UK economy grew by 8.7 percent; 2022: The UK economy grew by 4.3 percent; 2023: The UK economy grew by 0.1 percent and ended the year in recession. The third quarter of 2023 saw a -0.1 percent growth, and the fourth quarter saw a -0.4 percent growth;\", name='duckduckgo_search', id='fbe0d19f-2568-4aa2-95da-c30812599a71', tool_call_id='call_cMRl0NJgpCk09LSBTCqb7reo'),\n",
       "  ToolMessage(content=\"Graph and download economic data for Gross Domestic Product for United Kingdom (MKTGDPGBA646NWDB) from 1960 to 2023 about United Kingdom and GDP. ... 2021: 3,143,323,050,707.2600 : 2020: 2,696,778,386,607.6500 : 2019: 2,851,407,164,907.8100 : View All: ... Data are in current U.S. dollars. Dollar figures for GDP are converted from domestic ... E-commerce as share of total retail sales worldwide 2021-2027; ... Quarterly GDP per capita in the United Kingdom from 1st quarter 2019 to 1st quarter 2025 (in GBP) ... (GDP) in 2025 (in billion U ... Annual and quarterly data for UK gross domestic product (GDP) estimates, in chained volume measures and current market prices. Edition in this dataset. Quarter 1 (Jan to Mar) 2025, first estimate edition of this dataset ... Quarter 4 (Oct to Dec) 2021, quarterly national accounts edition of this dataset . xls (6.8 MB) Quarter 4 (Oct to Dec ... GDP by Country. GDP, or Gross Domestic Product, is the total monetary value of all goods and services produced and sold within a country during a specific time period, typically one year. ()World's GDP is $106,172,000,000,000 (nominal, 2023); Sources: World Bank (World Development Indicators, December 16, 2024); United Nations (World Population Prospects 2024). GDP of United Kingdom in nominal and ppp terms. Estimates by world bank since 1960 in nominal terms and since 1990 in ppp terms at current and constant prices. ... Based on PPP, the United Kingdom's GDP in 2024 is forecast at 4,282 billion international dollars. The United Kingdom has the second-largest economy by GDP (nominal) and fourth by ...\", name='duckduckgo_search', id='f0329010-2e1c-4803-83a2-d771618fa460', tool_call_id='call_eIEg7CPn72Ronar0dP8mM5Dk'),\n",
       "  ToolMessage(content=\"Graph and download economic data for Gross Domestic Product for United Kingdom (MKTGDPGBA646NWDB) from 1960 to 2023 about United Kingdom and GDP. ... 2022: 3,114,042,471,144.3900 : 2021: 3,143,323,050,707.2600 : 2020: 2,696,778,386,607.6500 : ... Data are in current U.S. dollars. Dollar figures for GDP are converted from domestic currencies ... The gross domestic product of the United Kingdom was around 2.56 trillion British pounds, an increase when compared to the previous year, when UK GDP amounted to about 2.54 trillion pounds. UK real gross domestic product (GDP) is estimated to have increased by 0.7% in Quarter 1 (Jan to Mar) 2025. Real GDP is estimated to have increased by 1.3%, compared with the same quarter a year ago. ... 2008 2010 2012 2014 2016 2018 2020 2022 2024 1,000,000 1,500,000 2,000,000 2,500,000 m. View source time series. UK direct investment assets ... The Office for National Statistics said that it now estimated annual volume GDP growth for 2022 at 4.8 per cent — 0.5 percentage points above its previous estimate of 4.3 per cent. Today we've released our annual revisions of the UK's Gross Domestic Product (GDP) covering the period up to 2022. As more data have become available we've been able to refine our initial estimates of economic activity and update our assumptions about the relative size of each sector since the pandemic.\", name='duckduckgo_search', id='eb295a54-4102-4e2e-937d-7ea476fdf821', tool_call_id='call_3SKyuhaTgdGEPrcpiSSKgMz4'),\n",
       "  ToolMessage(content=\"Error: DuckDuckGoSearchException(RatelimitException('https://lite.duckduckgo.com/lite/ 202 Ratelimit'))\\n Please fix your mistakes.\", name='duckduckgo_search', id='63a8ca6d-5a76-480c-a0a2-9e203ffb27fb', tool_call_id='call_qz3UaRPsJBFr01Zq9AcL58n1', status='error'),\n",
       "  AIMessage(content=\"I found several GDP figures for the UK in USD for different years:\\n- **2020:** Approximately $2.70 trillion USD\\n- **2021:** Approximately $3.14 trillion USD\\n- **2022:** Approximately $3.11 trillion USD\\n\\nUnfortunately, due to continued search rate limitations, I couldn't confirm the exact GDP for 2023 in USD.\\n\\nGiven the available data, I will proceed to create a line chart with these figures for 2020, 2021, and 2022. Please bear with me while I coordinate with my chart-generating colleague.\", additional_kwargs={'tool_calls': [{'id': 'call_qXVDKv6g1IFGJEab5y46yTOG', 'function': {'arguments': '{\"query\":\"UK GDP 2023 USD estimate\"}', 'name': 'duckduckgo_search'}, 'type': 'function'}], 'refusal': None}, response_metadata={'token_usage': {'completion_tokens': 143, 'prompt_tokens': 2770, 'total_tokens': 2913, 'completion_tokens_details': {'accepted_prediction_tokens': 0, 'audio_tokens': 0, 'reasoning_tokens': 0, 'rejected_prediction_tokens': 0}, 'prompt_tokens_details': {'audio_tokens': 0, 'cached_tokens': 1408}}, 'model_name': 'gpt-4o-2024-08-06', 'system_fingerprint': 'fp_a288987b44', 'id': 'chatcmpl-Bn748NUtObSdQxGB2CIAjVdP4vHyy', 'service_tier': 'default', 'finish_reason': 'tool_calls', 'logprobs': None}, id='run--217038e1-5d1f-41e1-b725-5083c62bb753-0', tool_calls=[{'name': 'duckduckgo_search', 'args': {'query': 'UK GDP 2023 USD estimate'}, 'id': 'call_qXVDKv6g1IFGJEab5y46yTOG', 'type': 'tool_call'}], usage_metadata={'input_tokens': 2770, 'output_tokens': 143, 'total_tokens': 2913, 'input_token_details': {'audio': 0, 'cache_read': 1408}, 'output_token_details': {'audio': 0, 'reasoning': 0}}),\n",
       "  ToolMessage(content=\"Error: DuckDuckGoSearchException(RatelimitException('https://lite.duckduckgo.com/lite/ 202 Ratelimit'))\\n Please fix your mistakes.\", name='duckduckgo_search', id='6385884d-adbc-4c1f-a0db-f675837a4e29', tool_call_id='call_qXVDKv6g1IFGJEab5y46yTOG', status='error'),\n",
       "  HumanMessage(content=\"Due to persistent rate limit issues, I'm unable to obtain the USD value for the UK's GDP in 2023. However, we can still proceed with the information we have for 2020, 2021, and 2022. \\n\\nPlease create a line chart using the following UK GDP data:\\n\\n- **2020:** $2.70 trillion USD\\n- **2021:** $3.14 trillion USD\\n- **2022:** $3.11 trillion USD\\n\\nFor 2023, you can optionally leave it out due to unavailable USD data or mark it as an estimate.\", additional_kwargs={}, response_metadata={}, name='researcher', id='906860f7-6bac-4eff-9c8f-d4ff0c468c73'),\n",
       "  AIMessage(content='', additional_kwargs={'tool_calls': [{'id': 'call_TIgtTfudrzMUvvzz2CDI2Cjt', 'function': {'arguments': '{\"code\":\"import matplotlib.pyplot as plt\\\\n\\\\n# Data\\\\nyears = [2020, 2021, 2022]\\\\ngdp_usd = [2.70, 3.14, 3.11]  # in trillions\\\\n\\\\n# Create the plot\\\\nplt.figure(figsize=(10, 6))\\\\nplt.plot(years, gdp_usd, marker=\\'o\\', linestyle=\\'-\\')\\\\nplt.title(\\'UK GDP in USD (2020-2022)\\')\\\\nplt.xlabel(\\'Year\\')\\\\nplt.ylabel(\\'GDP (Trillions USD)\\')\\\\nplt.grid(True)\\\\nplt.xticks(years)\\\\nplt.tight_layout()\\\\nplt.show()\"}', 'name': 'python_repl_tool'}, 'type': 'function'}], 'refusal': None}, response_metadata={'token_usage': {'completion_tokens': 160, 'prompt_tokens': 3098, 'total_tokens': 3258, 'completion_tokens_details': {'accepted_prediction_tokens': 0, 'audio_tokens': 0, 'reasoning_tokens': 0, 'rejected_prediction_tokens': 0}, 'prompt_tokens_details': {'audio_tokens': 0, 'cached_tokens': 0}}, 'model_name': 'gpt-4o-2024-08-06', 'system_fingerprint': 'fp_07871e2ad8', 'id': 'chatcmpl-Bn74GtkGSyidbB4KGgtfX7Q6nzriD', 'service_tier': 'default', 'finish_reason': 'tool_calls', 'logprobs': None}, id='run--c9668fd1-f114-4026-be74-10e8d3fcf663-0', tool_calls=[{'name': 'python_repl_tool', 'args': {'code': \"import matplotlib.pyplot as plt\\n\\n# Data\\nyears = [2020, 2021, 2022]\\ngdp_usd = [2.70, 3.14, 3.11]  # in trillions\\n\\n# Create the plot\\nplt.figure(figsize=(10, 6))\\nplt.plot(years, gdp_usd, marker='o', linestyle='-')\\nplt.title('UK GDP in USD (2020-2022)')\\nplt.xlabel('Year')\\nplt.ylabel('GDP (Trillions USD)')\\nplt.grid(True)\\nplt.xticks(years)\\nplt.tight_layout()\\nplt.show()\"}, 'id': 'call_TIgtTfudrzMUvvzz2CDI2Cjt', 'type': 'tool_call'}], usage_metadata={'input_tokens': 3098, 'output_tokens': 160, 'total_tokens': 3258, 'input_token_details': {'audio': 0, 'cache_read': 0}, 'output_token_details': {'audio': 0, 'reasoning': 0}}),\n",
       "  ToolMessage(content=\"Successfully executed:\\n\\\\`\\\\`\\\\`python\\nimport matplotlib.pyplot as plt\\n\\n# Data\\nyears = [2020, 2021, 2022]\\ngdp_usd = [2.70, 3.14, 3.11]  # in trillions\\n\\n# Create the plot\\nplt.figure(figsize=(10, 6))\\nplt.plot(years, gdp_usd, marker='o', linestyle='-')\\nplt.title('UK GDP in USD (2020-2022)')\\nplt.xlabel('Year')\\nplt.ylabel('GDP (Trillions USD)')\\nplt.grid(True)\\nplt.xticks(years)\\nplt.tight_layout()\\nplt.show()\\n\\\\`\\\\`\\\\`\\nStdout: \\n\\nIf you have completed all tasks, respond with FINAL ANSWER.\", name='python_repl_tool', id='041b2248-5322-40e6-95a0-f32f569cab1c', tool_call_id='call_TIgtTfudrzMUvvzz2CDI2Cjt'),\n",
       "  HumanMessage(content=\"The line chart depicting the UK's GDP in USD from 2020 to 2022 has been successfully created and displayed. \\n\\nFINAL ANSWER: The chart for the UK's GDP in USD from 2020 to 2022 is complete.\", additional_kwargs={}, response_metadata={}, name='chart_generator', id='ae4455cd-7c49-49f1-a92c-27bafa60dc76')]}"
      ]
     },
     "execution_count": 88,
     "metadata": {},
     "output_type": "execute_result"
    }
   ],
   "source": [
    "app.invoke({\"messages\": [(\"user\",\"get the UK's GDP over the past 3 years, then make a line chart of it.Once you make the chart, finish.\")],})"
   ]
  },
  {
   "cell_type": "markdown",
   "id": "b5dabf37",
   "metadata": {},
   "source": [
    "code=\"\"\"import matplotlib.pyplot as plt\\\\n\\\\n# Data for the UK GDP over the past 3 years\\\\nyears = [2019, 2020, 2021]\\\\ngdp_values = [2851.41, 2697.81, 3141.51]  # in billion $ \\\\n\\\\ndef create_line_chart(years, gdp_values):\\\\n    plt.figure(figsize=(10, 6))\\\\n    plt.plot(years, gdp_values, marker=\\'o\\', color=\\'b\\', linestyle=\\'-\\', linewidth=2)\\\\n    plt.title(\\'UK GDP Over the Past 3 Years\\')\\\\n    plt.xlabel(\\'Year\\')\\\\n    plt.ylabel(\\'GDP (in billion $)\\')\\\\n    plt.grid(True)\\\\n    plt.tight_layout()\\\\n    plt.show()\"\"\""
   ]
  },
  {
   "cell_type": "code",
   "execution_count": 164,
   "id": "39ff963e",
   "metadata": {},
   "outputs": [],
   "source": [
    "code=\"\"\"import matplotlib.pyplot as plt\\\\n\\\\n# Data for the UK GDP over the past 3 years\\\\nyears = [2019, 2020, 2021]\\\\ngdp_values = [2851.41, 2697.81, 3141.51]  # in billion $ \\\\n\\\\ndef create_line_chart(years, gdp_values):\\\\n    plt.figure(figsize=(10, 6))\\\\n    plt.plot(years, gdp_values, marker=\\'o\\', color=\\'b\\', linestyle=\\'-\\', linewidth=2)\\\\n    plt.title(\\'UK GDP Over the Past 3 Years\\')\\\\n    plt.xlabel(\\'Year\\')\\\\n    plt.ylabel(\\'GDP (in billion $)\\')\\\\n    plt.grid(True)\\\\n    plt.tight_layout()\\\\n    plt.show()\"\"\""
   ]
  },
  {
   "cell_type": "code",
   "execution_count": 163,
   "id": "808a2b26",
   "metadata": {},
   "outputs": [
    {
     "name": "stdout",
     "output_type": "stream",
     "text": [
      "import matplotlib.pyplot as plt\\n\\n# Data for the UK GDP over the past 3 years\\nyears = [2019, 2020, 2021]\\ngdp_values = [2851.41, 2697.81, 3141.51]  # in billion $ \\n\\ndef create_line_chart(years, gdp_values):\\n    plt.figure(figsize=(10, 6))\\n    plt.plot(years, gdp_values, marker='o', color='b', linestyle='-', linewidth=2)\\n    plt.title('UK GDP Over the Past 3 Years')\\n    plt.xlabel('Year')\\n    plt.ylabel('GDP (in billion $)')\\n    plt.grid(True)\\n    plt.tight_layout()\\n    plt.show()\n"
     ]
    }
   ],
   "source": [
    "print(\"\"\"import matplotlib.pyplot as plt\\\\n\\\\n# Data for the UK GDP over the past 3 years\\\\nyears = [2019, 2020, 2021]\\\\ngdp_values = [2851.41, 2697.81, 3141.51]  # in billion $ \\\\n\\\\ndef create_line_chart(years, gdp_values):\\\\n    plt.figure(figsize=(10, 6))\\\\n    plt.plot(years, gdp_values, marker=\\'o\\', color=\\'b\\', linestyle=\\'-\\', linewidth=2)\\\\n    plt.title(\\'UK GDP Over the Past 3 Years\\')\\\\n    plt.xlabel(\\'Year\\')\\\\n    plt.ylabel(\\'GDP (in billion $)\\')\\\\n    plt.grid(True)\\\\n    plt.tight_layout()\\\\n    plt.show()\"\"\")"
   ]
  },
  {
   "cell_type": "code",
   "execution_count": null,
   "id": "f86f7531",
   "metadata": {},
   "outputs": [],
   "source": []
  }
 ],
 "metadata": {
  "kernelspec": {
   "display_name": "venv",
   "language": "python",
   "name": "python3"
  },
  "language_info": {
   "codemirror_mode": {
    "name": "ipython",
    "version": 3
   },
   "file_extension": ".py",
   "mimetype": "text/x-python",
   "name": "python",
   "nbconvert_exporter": "python",
   "pygments_lexer": "ipython3",
   "version": "3.11.5"
  }
 },
 "nbformat": 4,
 "nbformat_minor": 5
}
